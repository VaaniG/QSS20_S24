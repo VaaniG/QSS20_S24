{
 "cells": [
  {
   "cell_type": "markdown",
   "metadata": {},
   "source": [
    "# Notebook for topic modeling "
   ]
  },
  {
   "cell_type": "markdown",
   "metadata": {},
   "source": [
    "# 0. Imports"
   ]
  },
  {
   "cell_type": "code",
   "execution_count": 1,
   "metadata": {
    "scrolled": true
   },
   "outputs": [],
   "source": [
    "## load packages \n",
    "import pandas as pd\n",
    "import re\n",
    "import numpy as np\n",
    "\n",
    "## nltk imports\n",
    "#!pip install nltk # can install on terminal or by uncommenting this line\n",
    "#import nltk; nltk.download('punkt'); nltk.download('stopwords')\n",
    "from nltk.tokenize import word_tokenize, wordpunct_tokenize\n",
    "from nltk.corpus import stopwords\n",
    "from nltk.stem.porter import PorterStemmer\n",
    "\n",
    "## sklearn imports\n",
    "from sklearn.feature_extraction.text import CountVectorizer\n",
    "\n",
    "## lda\n",
    "#!pip install gensim # can install by uncommenting this line\n",
    "from gensim import corpora\n",
    "import gensim\n",
    "\n",
    "## visualizing LDA--likely need to install\n",
    "#!pip install pyLDAvis # can install by uncommenting this line\n",
    "import pyLDAvis.gensim_models as gensimvis\n",
    "import pyLDAvis\n",
    "pyLDAvis.enable_notebook()\n",
    "\n",
    "## print mult things\n",
    "from IPython.core.interactiveshell import InteractiveShell\n",
    "InteractiveShell.ast_node_interactivity = \"all\"\n",
    "\n",
    "## random\n",
    "import random\n",
    "import string; punctlist = [char for char in string.punctuation] # list of english punctuation marks"
   ]
  },
  {
   "cell_type": "markdown",
   "metadata": {},
   "source": [
    "# 0. Load data"
   ]
  },
  {
   "cell_type": "code",
   "execution_count": 2,
   "metadata": {},
   "outputs": [
    {
     "data": {
      "text/html": [
       "<div>\n",
       "<style scoped>\n",
       "    .dataframe tbody tr th:only-of-type {\n",
       "        vertical-align: middle;\n",
       "    }\n",
       "\n",
       "    .dataframe tbody tr th {\n",
       "        vertical-align: top;\n",
       "    }\n",
       "\n",
       "    .dataframe thead th {\n",
       "        text-align: right;\n",
       "    }\n",
       "</style>\n",
       "<table border=\"1\" class=\"dataframe\">\n",
       "  <thead>\n",
       "    <tr style=\"text-align: right;\">\n",
       "      <th></th>\n",
       "      <th>id</th>\n",
       "      <th>name</th>\n",
       "      <th>name_upper</th>\n",
       "      <th>neighbourhood_group</th>\n",
       "      <th>price</th>\n",
       "    </tr>\n",
       "  </thead>\n",
       "  <tbody>\n",
       "    <tr>\n",
       "      <th>0</th>\n",
       "      <td>2539</td>\n",
       "      <td>Clean &amp; quiet apt home by the park</td>\n",
       "      <td>CLEAN &amp; QUIET APT HOME BY THE PARK</td>\n",
       "      <td>Brooklyn</td>\n",
       "      <td>149</td>\n",
       "    </tr>\n",
       "    <tr>\n",
       "      <th>1</th>\n",
       "      <td>2595</td>\n",
       "      <td>Skylit Midtown Castle</td>\n",
       "      <td>SKYLIT MIDTOWN CASTLE</td>\n",
       "      <td>Manhattan</td>\n",
       "      <td>225</td>\n",
       "    </tr>\n",
       "    <tr>\n",
       "      <th>2</th>\n",
       "      <td>3647</td>\n",
       "      <td>THE VILLAGE OF HARLEM....NEW YORK !</td>\n",
       "      <td>THE VILLAGE OF HARLEM....NEW YORK !</td>\n",
       "      <td>Manhattan</td>\n",
       "      <td>150</td>\n",
       "    </tr>\n",
       "    <tr>\n",
       "      <th>3</th>\n",
       "      <td>3831</td>\n",
       "      <td>Cozy Entire Floor of Brownstone</td>\n",
       "      <td>COZY ENTIRE FLOOR OF BROWNSTONE</td>\n",
       "      <td>Brooklyn</td>\n",
       "      <td>89</td>\n",
       "    </tr>\n",
       "    <tr>\n",
       "      <th>4</th>\n",
       "      <td>5022</td>\n",
       "      <td>Entire Apt: Spacious Studio/Loft by central park</td>\n",
       "      <td>ENTIRE APT: SPACIOUS STUDIO/LOFT BY CENTRAL PARK</td>\n",
       "      <td>Manhattan</td>\n",
       "      <td>80</td>\n",
       "    </tr>\n",
       "  </tbody>\n",
       "</table>\n",
       "</div>"
      ],
      "text/plain": [
       "     id                                              name  \\\n",
       "0  2539                Clean & quiet apt home by the park   \n",
       "1  2595                             Skylit Midtown Castle   \n",
       "2  3647               THE VILLAGE OF HARLEM....NEW YORK !   \n",
       "3  3831                   Cozy Entire Floor of Brownstone   \n",
       "4  5022  Entire Apt: Spacious Studio/Loft by central park   \n",
       "\n",
       "                                         name_upper neighbourhood_group  price  \n",
       "0                CLEAN & QUIET APT HOME BY THE PARK            Brooklyn    149  \n",
       "1                             SKYLIT MIDTOWN CASTLE           Manhattan    225  \n",
       "2               THE VILLAGE OF HARLEM....NEW YORK !           Manhattan    150  \n",
       "3                   COZY ENTIRE FLOOR OF BROWNSTONE            Brooklyn     89  \n",
       "4  ENTIRE APT: SPACIOUS STUDIO/LOFT BY CENTRAL PARK           Manhattan     80  "
      ]
     },
     "execution_count": 2,
     "metadata": {},
     "output_type": "execute_result"
    }
   ],
   "source": [
    "ab = pd.read_csv(\"../public_data/airbnb_text.zip\")\n",
    "ab.head()"
   ]
  },
  {
   "cell_type": "markdown",
   "metadata": {},
   "source": [
    "# 1. Preprocess documents\n",
    "\n",
    "In this case, each name/name_upper, or listing title, we're treating as a document"
   ]
  },
  {
   "cell_type": "markdown",
   "metadata": {},
   "source": [
    "## 1.1 Load stopwords list and augment with our own custom ones"
   ]
  },
  {
   "cell_type": "code",
   "execution_count": 3,
   "metadata": {},
   "outputs": [
    {
     "name": "stderr",
     "output_type": "stream",
     "text": [
      "[nltk_data] Downloading package stopwords to\n",
      "[nltk_data]     /Users/vaanigupta/nltk_data...\n",
      "[nltk_data]   Package stopwords is already up-to-date!\n"
     ]
    },
    {
     "data": {
      "text/plain": [
       "True"
      ]
     },
     "execution_count": 3,
     "metadata": {},
     "output_type": "execute_result"
    }
   ],
   "source": [
    "import nltk\n",
    "nltk.download('stopwords')"
   ]
  },
  {
   "cell_type": "code",
   "execution_count": 4,
   "metadata": {},
   "outputs": [],
   "source": [
    "list_stopwords = stopwords.words(\"english\")\n",
    "\n",
    "custom_words_toadd = ['apartment', 'new york', 'nyc',\n",
    "                      'bronx', 'brooklyn',\n",
    "                     'manhattan', 'queens', \n",
    "                      'staten island']\n",
    "\n",
    "list_stopwords_new = list_stopwords + custom_words_toadd\n"
   ]
  },
  {
   "cell_type": "markdown",
   "metadata": {},
   "source": [
    "## 1.2 Remove stopwords from lowercase version of corpus\n"
   ]
  },
  {
   "cell_type": "code",
   "execution_count": 5,
   "metadata": {},
   "outputs": [
    {
     "data": {
      "text/plain": [
       "['clean & quiet apt home by the park',\n",
       " 'skylit midtown castle',\n",
       " 'the village of harlem....new york !',\n",
       " 'cozy entire floor of brownstone',\n",
       " 'entire apt: spacious studio/loft by central park']"
      ]
     },
     "execution_count": 5,
     "metadata": {},
     "output_type": "execute_result"
    },
    {
     "data": {
      "text/plain": [
       "['cozy', 'entire', 'floor', 'brownstone']"
      ]
     },
     "execution_count": 5,
     "metadata": {},
     "output_type": "execute_result"
    }
   ],
   "source": [
    "## convert to lowercase and a list\n",
    "corpus_lower = ab.name.str.lower().to_list()\n",
    "corpus_lower[0:5]\n",
    "\n",
    "## use wordpunct tokenize and filter out with one\n",
    "example_listing = corpus_lower[3]\n",
    "nostop_listing = [word for word in wordpunct_tokenize(example_listing) \n",
    "                          if word not in list_stopwords_new]\n",
    "nostop_listing"
   ]
  },
  {
   "cell_type": "markdown",
   "metadata": {},
   "source": [
    "## 1.3 stem and remove non-alpha\n",
    "\n",
    "Other contexts we may want to leave digits in"
   ]
  },
  {
   "cell_type": "code",
   "execution_count": 6,
   "metadata": {},
   "outputs": [
    {
     "data": {
      "text/plain": [
       "['cozi', 'entir', 'floor', 'brownston']"
      ]
     },
     "execution_count": 6,
     "metadata": {},
     "output_type": "execute_result"
    }
   ],
   "source": [
    "## initialize stemmer\n",
    "porter = PorterStemmer()\n",
    "\n",
    "## apply to one by iterating\n",
    "## over the tokens in the list\n",
    "example_listing_preprocess = [porter.stem(token) \n",
    "                            for token in nostop_listing \n",
    "                            if token.isalpha() and \n",
    "                            len(token) > 2]\n",
    "\n",
    "example_listing_preprocess"
   ]
  },
  {
   "cell_type": "code",
   "execution_count": 7,
   "metadata": {},
   "outputs": [
    {
     "data": {
      "text/plain": [
       "'cozy entire floor of brownstone'"
      ]
     },
     "execution_count": 7,
     "metadata": {},
     "output_type": "execute_result"
    },
    {
     "data": {
      "text/plain": [
       "['cozi', 'entir', 'floor', 'brownston']"
      ]
     },
     "execution_count": 7,
     "metadata": {},
     "output_type": "execute_result"
    }
   ],
   "source": [
    "example_listing\n",
    "example_listing_preprocess"
   ]
  },
  {
   "cell_type": "markdown",
   "metadata": {},
   "source": [
    "## 1.4 Activity 1\n",
    "\n",
    "The above example performed preprocessing on a single Airbnb listing. We want to generalize this preprocessing across all listings.\n",
    "\n",
    "- Embed step two (remove stopwords) and step three (stem) into one or two functions that take in a raw string (eg the raw text of an Airbnb review) and return a preprocessed string \n",
    "- Apply the function iteratively to preprocess all the texts in `corpus_lower`. Output could either be a list where each list element is a string of a list (e.g., `cozy brownstone apt`), or a list of lists where each element is a tokenized string (e.g., `['cozy', 'brownstone', 'apt'])`\n",
    "\n",
    "Output is flexible: it could be a list of lists containing tokenized/stemmed text or a list of strings."
   ]
  },
  {
   "cell_type": "code",
   "execution_count": 8,
   "metadata": {},
   "outputs": [
    {
     "data": {
      "text/plain": [
       "['clean quiet apt home park',\n",
       " 'skylit midtown castl',\n",
       " 'villag harlem new york',\n",
       " 'cozi entir floor brownston',\n",
       " 'entir apt spaciou studio loft central park',\n",
       " 'larg cozi midtown east']"
      ]
     },
     "execution_count": 8,
     "metadata": {},
     "output_type": "execute_result"
    }
   ],
   "source": [
    "# your code here to define the function(s)\n",
    "# based on 1.2/1.3\n",
    "list_stopwords = stopwords.words(\"english\")\n",
    "\n",
    "custom_words_toadd = ['apartment', 'new york', 'nyc',\n",
    "                      'bronx', 'brooklyn',\n",
    "                     'manhattan', 'queens', \n",
    "                      'staten island']\n",
    "\n",
    "list_stopwords_new = list_stopwords + custom_words_toadd\n",
    "\n",
    "porter = PorterStemmer()\n",
    "corpus_lower = ab.name.str.lower().to_list()\n",
    "\n",
    "# defining function\n",
    "def process_string(text):\n",
    "    if pd.isna(text):\n",
    "        return \"\"\n",
    "    \n",
    "    lower_text = text.lower()\n",
    "\n",
    "    ## use wordpunct tokenize and filter out with one\n",
    "    nostop_listing = [word for word in wordpunct_tokenize(lower_text) \n",
    "                              if word not in list_stopwords_new]\n",
    "    \n",
    "    ## apply to one by iterating\n",
    "    ## over the tokens in the list\n",
    "    text_preprocess = [porter.stem(token) \n",
    "                                for token in nostop_listing \n",
    "                                if token.isalpha() and \n",
    "                                len(token) > 2]\n",
    "    \n",
    "    return \" \".join(text_preprocess)\n",
    "    \n",
    "    \n",
    "\n",
    "# your code here to apply the function\n",
    "preprocessing = [process_string(text) for text in corpus_lower]\n",
    "preprocessing[:6]"
   ]
  },
  {
   "cell_type": "markdown",
   "metadata": {},
   "source": [
    "# 2. Create a document-term matrix and do some basic diagnostics (more manual approach)\n",
    "\n",
    "Here we'll create a DTM first using the raw documents; in the activity, you'll create one using the preprocessed docs\n",
    "that you created in activity 1"
   ]
  },
  {
   "cell_type": "markdown",
   "metadata": {},
   "source": [
    "## 2.1 Define the dtm function and select data to transform into a document-term matrix"
   ]
  },
  {
   "cell_type": "code",
   "execution_count": 43,
   "metadata": {},
   "outputs": [],
   "source": [
    "## function provided\n",
    "def create_dtm(list_of_strings, metadata):\n",
    "    \"\"\" \n",
    "    Function to create dense document-term matrix (DTM) from a list of strings and provided metadata. \n",
    "    A sparse DTM is a list of term_index/doc_index tuples: if a given term occurs in a given doc at least once, \n",
    "        then this count is listed as a tuple; if not, that term/doc pair is omitted. \n",
    "    In a dense DTM, each row is one text (e.g., an Airbnb listing), each column is a term, and \n",
    "        each cell indicates the frequency of that word in that text. \n",
    "    \n",
    "    Parameters:\n",
    "        list_of_strings (Series): each row contains a preprocessed string (need not be tokenized)\n",
    "        metadata (DataFrame): contains document-level covariates\n",
    "    \n",
    "    Returns:\n",
    "        Dense DTM with metadata on left and then one column per word in lexicon\n",
    "    \"\"\"\n",
    "    \n",
    "    # initialize a sklearn tokenizer; this helps us tokenize the preprocessed string input\n",
    "    vectorizer = CountVectorizer(lowercase = True) \n",
    "    dtm_sparse = vectorizer.fit_transform(list_of_strings)\n",
    "    print('Sparse matrix form:\\n', dtm_sparse[:3]) # take a look at sparse representation\n",
    "    print()\n",
    "    \n",
    "    # switch the dataframe from the sparse representation to the normal dense representation (so we can treat it as regular dataframe)\n",
    "    dtm_dense_named = pd.DataFrame(dtm_sparse.todense(), columns=vectorizer.get_feature_names_out ())\n",
    "    print('Dense matrix form:\\n', dtm_dense_named.head()) # take a look at dense representation\n",
    "    dtm_dense_named_withid = pd.concat([metadata.reset_index(), dtm_dense_named], axis = 1) # add back document-level covariates\n",
    "\n",
    "    return(dtm_dense_named_withid)"
   ]
  },
  {
   "cell_type": "code",
   "execution_count": 44,
   "metadata": {},
   "outputs": [
    {
     "data": {
      "text/html": [
       "<div>\n",
       "<style scoped>\n",
       "    .dataframe tbody tr th:only-of-type {\n",
       "        vertical-align: middle;\n",
       "    }\n",
       "\n",
       "    .dataframe tbody tr th {\n",
       "        vertical-align: top;\n",
       "    }\n",
       "\n",
       "    .dataframe thead th {\n",
       "        text-align: right;\n",
       "    }\n",
       "</style>\n",
       "<table border=\"1\" class=\"dataframe\">\n",
       "  <thead>\n",
       "    <tr style=\"text-align: right;\">\n",
       "      <th></th>\n",
       "      <th>id</th>\n",
       "      <th>neighbourhood_group</th>\n",
       "      <th>price_rawdata</th>\n",
       "      <th>name</th>\n",
       "      <th>name_lower</th>\n",
       "    </tr>\n",
       "  </thead>\n",
       "  <tbody>\n",
       "    <tr>\n",
       "      <th>23821</th>\n",
       "      <td>19227560</td>\n",
       "      <td>Queens</td>\n",
       "      <td>100</td>\n",
       "      <td>Super Cozy!</td>\n",
       "      <td>super cozy!</td>\n",
       "    </tr>\n",
       "    <tr>\n",
       "      <th>22905</th>\n",
       "      <td>18560625</td>\n",
       "      <td>Brooklyn</td>\n",
       "      <td>30</td>\n",
       "      <td>Beautiful Private Bedroom by Prospect Park</td>\n",
       "      <td>beautiful private bedroom by prospect park</td>\n",
       "    </tr>\n",
       "    <tr>\n",
       "      <th>20426</th>\n",
       "      <td>16289576</td>\n",
       "      <td>Manhattan</td>\n",
       "      <td>80</td>\n",
       "      <td>Best Location on the Upper West Side! - Part II</td>\n",
       "      <td>best location on the upper west side! - part ii</td>\n",
       "    </tr>\n",
       "    <tr>\n",
       "      <th>2018</th>\n",
       "      <td>893413</td>\n",
       "      <td>Manhattan</td>\n",
       "      <td>2500</td>\n",
       "      <td>Architecturally Stunning Former Synagogue!</td>\n",
       "      <td>architecturally stunning former synagogue!</td>\n",
       "    </tr>\n",
       "    <tr>\n",
       "      <th>18790</th>\n",
       "      <td>14882137</td>\n",
       "      <td>Queens</td>\n",
       "      <td>50</td>\n",
       "      <td>Large, beautiful room near Bushwick</td>\n",
       "      <td>large, beautiful room near bushwick</td>\n",
       "    </tr>\n",
       "  </tbody>\n",
       "</table>\n",
       "</div>"
      ],
      "text/plain": [
       "             id neighbourhood_group  price_rawdata  \\\n",
       "23821  19227560              Queens            100   \n",
       "22905  18560625            Brooklyn             30   \n",
       "20426  16289576           Manhattan             80   \n",
       "2018     893413           Manhattan           2500   \n",
       "18790  14882137              Queens             50   \n",
       "\n",
       "                                                  name  \\\n",
       "23821                                      Super Cozy!   \n",
       "22905       Beautiful Private Bedroom by Prospect Park   \n",
       "20426  Best Location on the Upper West Side! - Part II   \n",
       "2018        Architecturally Stunning Former Synagogue!   \n",
       "18790              Large, beautiful room near Bushwick   \n",
       "\n",
       "                                            name_lower  \n",
       "23821                                      super cozy!  \n",
       "22905       beautiful private bedroom by prospect park  \n",
       "20426  best location on the upper west side! - part ii  \n",
       "2018        architecturally stunning former synagogue!  \n",
       "18790              large, beautiful room near bushwick  "
      ]
     },
     "execution_count": 44,
     "metadata": {},
     "output_type": "execute_result"
    }
   ],
   "source": [
    "\n",
    "## filter out na's\n",
    "## for shorter runtime, random sampling of 1000\n",
    "## get metadata for those\n",
    "## and also renaming price col since it's likely to be corpus word\n",
    "ab_small = ab.loc[~ab.name.isnull(),\n",
    "           ['id', 'neighbourhood_group', 'price', 'name']].copy().rename(columns = {'price':\n",
    "            'price_rawdata'}).sample(n = 1000, random_state = 422)\n",
    "\n",
    "ab_small['name_lower'] = ab_small['name'].str.lower()\n",
    "ab_small.head()"
   ]
  },
  {
   "cell_type": "markdown",
   "metadata": {},
   "source": [
    "## 2.2 Execute the dtm function to create the document-term matrix"
   ]
  },
  {
   "cell_type": "code",
   "execution_count": 45,
   "metadata": {},
   "outputs": [
    {
     "name": "stdout",
     "output_type": "stream",
     "text": [
      "Sparse matrix form:\n",
      "   (0, 841)\t1\n",
      "  (0, 281)\t1\n",
      "  (1, 152)\t1\n",
      "  (1, 693)\t1\n",
      "  (1, 157)\t1\n",
      "  (1, 205)\t1\n",
      "  (1, 698)\t1\n",
      "  (1, 653)\t1\n",
      "  (2, 165)\t1\n",
      "  (2, 537)\t1\n",
      "  (2, 637)\t1\n",
      "  (2, 856)\t1\n",
      "  (2, 902)\t1\n",
      "  (2, 939)\t1\n",
      "  (2, 774)\t1\n",
      "  (2, 657)\t1\n",
      "  (2, 471)\t1\n",
      "\n",
      "Dense matrix form:\n",
      "    001  10  10m  10min  10mins  1100  12mins  14  15  15min  ...  yoga  york  \\\n",
      "0    0   0    0      0       0     0       0   0   0      0  ...     0     0   \n",
      "1    0   0    0      0       0     0       0   0   0      0  ...     0     0   \n",
      "2    0   0    0      0       0     0       0   0   0      0  ...     0     0   \n",
      "3    0   0    0      0       0     0       0   0   0      0  ...     0     0   \n",
      "4    0   0    0      0       0     0       0   0   0      0  ...     0     0   \n",
      "\n",
      "   you  your  yu  zen  ღღღsteps  法拉盛中心私人房間獨立衛浴  溫馨大套房  獨一無二的紐約閣樓  \n",
      "0    0     0   0    0         0              0      0          0  \n",
      "1    0     0   0    0         0              0      0          0  \n",
      "2    0     0   0    0         0              0      0          0  \n",
      "3    0     0   0    0         0              0      0          0  \n",
      "4    0     0   0    0         0              0      0          0  \n",
      "\n",
      "[5 rows x 970 columns]\n"
     ]
    }
   ],
   "source": [
    "## example application on raw lowercase texts; \n",
    "dtm_nopre = create_dtm(list_of_strings= ab_small.name_lower,\n",
    "                      metadata = ab_small[['id', 'neighbourhood_group', 'price_rawdata']])\n",
    "\n"
   ]
  },
  {
   "cell_type": "code",
   "execution_count": 46,
   "metadata": {},
   "outputs": [
    {
     "data": {
      "text/html": [
       "<div>\n",
       "<style scoped>\n",
       "    .dataframe tbody tr th:only-of-type {\n",
       "        vertical-align: middle;\n",
       "    }\n",
       "\n",
       "    .dataframe tbody tr th {\n",
       "        vertical-align: top;\n",
       "    }\n",
       "\n",
       "    .dataframe thead th {\n",
       "        text-align: right;\n",
       "    }\n",
       "</style>\n",
       "<table border=\"1\" class=\"dataframe\">\n",
       "  <thead>\n",
       "    <tr style=\"text-align: right;\">\n",
       "      <th></th>\n",
       "      <th>index</th>\n",
       "      <th>id</th>\n",
       "      <th>neighbourhood_group</th>\n",
       "      <th>price_rawdata</th>\n",
       "      <th>001</th>\n",
       "      <th>10</th>\n",
       "      <th>10m</th>\n",
       "      <th>10min</th>\n",
       "      <th>10mins</th>\n",
       "      <th>1100</th>\n",
       "      <th>...</th>\n",
       "      <th>yoga</th>\n",
       "      <th>york</th>\n",
       "      <th>you</th>\n",
       "      <th>your</th>\n",
       "      <th>yu</th>\n",
       "      <th>zen</th>\n",
       "      <th>ღღღsteps</th>\n",
       "      <th>法拉盛中心私人房間獨立衛浴</th>\n",
       "      <th>溫馨大套房</th>\n",
       "      <th>獨一無二的紐約閣樓</th>\n",
       "    </tr>\n",
       "  </thead>\n",
       "  <tbody>\n",
       "    <tr>\n",
       "      <th>0</th>\n",
       "      <td>23821</td>\n",
       "      <td>19227560</td>\n",
       "      <td>Queens</td>\n",
       "      <td>100</td>\n",
       "      <td>0</td>\n",
       "      <td>0</td>\n",
       "      <td>0</td>\n",
       "      <td>0</td>\n",
       "      <td>0</td>\n",
       "      <td>0</td>\n",
       "      <td>...</td>\n",
       "      <td>0</td>\n",
       "      <td>0</td>\n",
       "      <td>0</td>\n",
       "      <td>0</td>\n",
       "      <td>0</td>\n",
       "      <td>0</td>\n",
       "      <td>0</td>\n",
       "      <td>0</td>\n",
       "      <td>0</td>\n",
       "      <td>0</td>\n",
       "    </tr>\n",
       "    <tr>\n",
       "      <th>1</th>\n",
       "      <td>22905</td>\n",
       "      <td>18560625</td>\n",
       "      <td>Brooklyn</td>\n",
       "      <td>30</td>\n",
       "      <td>0</td>\n",
       "      <td>0</td>\n",
       "      <td>0</td>\n",
       "      <td>0</td>\n",
       "      <td>0</td>\n",
       "      <td>0</td>\n",
       "      <td>...</td>\n",
       "      <td>0</td>\n",
       "      <td>0</td>\n",
       "      <td>0</td>\n",
       "      <td>0</td>\n",
       "      <td>0</td>\n",
       "      <td>0</td>\n",
       "      <td>0</td>\n",
       "      <td>0</td>\n",
       "      <td>0</td>\n",
       "      <td>0</td>\n",
       "    </tr>\n",
       "    <tr>\n",
       "      <th>2</th>\n",
       "      <td>20426</td>\n",
       "      <td>16289576</td>\n",
       "      <td>Manhattan</td>\n",
       "      <td>80</td>\n",
       "      <td>0</td>\n",
       "      <td>0</td>\n",
       "      <td>0</td>\n",
       "      <td>0</td>\n",
       "      <td>0</td>\n",
       "      <td>0</td>\n",
       "      <td>...</td>\n",
       "      <td>0</td>\n",
       "      <td>0</td>\n",
       "      <td>0</td>\n",
       "      <td>0</td>\n",
       "      <td>0</td>\n",
       "      <td>0</td>\n",
       "      <td>0</td>\n",
       "      <td>0</td>\n",
       "      <td>0</td>\n",
       "      <td>0</td>\n",
       "    </tr>\n",
       "    <tr>\n",
       "      <th>3</th>\n",
       "      <td>2018</td>\n",
       "      <td>893413</td>\n",
       "      <td>Manhattan</td>\n",
       "      <td>2500</td>\n",
       "      <td>0</td>\n",
       "      <td>0</td>\n",
       "      <td>0</td>\n",
       "      <td>0</td>\n",
       "      <td>0</td>\n",
       "      <td>0</td>\n",
       "      <td>...</td>\n",
       "      <td>0</td>\n",
       "      <td>0</td>\n",
       "      <td>0</td>\n",
       "      <td>0</td>\n",
       "      <td>0</td>\n",
       "      <td>0</td>\n",
       "      <td>0</td>\n",
       "      <td>0</td>\n",
       "      <td>0</td>\n",
       "      <td>0</td>\n",
       "    </tr>\n",
       "    <tr>\n",
       "      <th>4</th>\n",
       "      <td>18790</td>\n",
       "      <td>14882137</td>\n",
       "      <td>Queens</td>\n",
       "      <td>50</td>\n",
       "      <td>0</td>\n",
       "      <td>0</td>\n",
       "      <td>0</td>\n",
       "      <td>0</td>\n",
       "      <td>0</td>\n",
       "      <td>0</td>\n",
       "      <td>...</td>\n",
       "      <td>0</td>\n",
       "      <td>0</td>\n",
       "      <td>0</td>\n",
       "      <td>0</td>\n",
       "      <td>0</td>\n",
       "      <td>0</td>\n",
       "      <td>0</td>\n",
       "      <td>0</td>\n",
       "      <td>0</td>\n",
       "      <td>0</td>\n",
       "    </tr>\n",
       "  </tbody>\n",
       "</table>\n",
       "<p>5 rows × 974 columns</p>\n",
       "</div>"
      ],
      "text/plain": [
       "   index        id neighbourhood_group  price_rawdata  001  10  10m  10min  \\\n",
       "0  23821  19227560              Queens            100    0   0    0      0   \n",
       "1  22905  18560625            Brooklyn             30    0   0    0      0   \n",
       "2  20426  16289576           Manhattan             80    0   0    0      0   \n",
       "3   2018    893413           Manhattan           2500    0   0    0      0   \n",
       "4  18790  14882137              Queens             50    0   0    0      0   \n",
       "\n",
       "   10mins  1100  ...  yoga  york  you  your  yu  zen  ღღღsteps  法拉盛中心私人房間獨立衛浴  \\\n",
       "0       0     0  ...     0     0    0     0   0    0         0              0   \n",
       "1       0     0  ...     0     0    0     0   0    0         0              0   \n",
       "2       0     0  ...     0     0    0     0   0    0         0              0   \n",
       "3       0     0  ...     0     0    0     0   0    0         0              0   \n",
       "4       0     0  ...     0     0    0     0   0    0         0              0   \n",
       "\n",
       "   溫馨大套房  獨一無二的紐約閣樓  \n",
       "0      0          0  \n",
       "1      0          0  \n",
       "2      0          0  \n",
       "3      0          0  \n",
       "4      0          0  \n",
       "\n",
       "[5 rows x 974 columns]"
      ]
     },
     "execution_count": 46,
     "metadata": {},
     "output_type": "execute_result"
    },
    {
     "data": {
      "text/plain": [
       "(1000, 974)"
      ]
     },
     "execution_count": 46,
     "metadata": {},
     "output_type": "execute_result"
    },
    {
     "data": {
      "text/html": [
       "<div>\n",
       "<style scoped>\n",
       "    .dataframe tbody tr th:only-of-type {\n",
       "        vertical-align: middle;\n",
       "    }\n",
       "\n",
       "    .dataframe tbody tr th {\n",
       "        vertical-align: top;\n",
       "    }\n",
       "\n",
       "    .dataframe thead th {\n",
       "        text-align: right;\n",
       "    }\n",
       "</style>\n",
       "<table border=\"1\" class=\"dataframe\">\n",
       "  <thead>\n",
       "    <tr style=\"text-align: right;\">\n",
       "      <th></th>\n",
       "      <th>inclusive</th>\n",
       "      <th>incredible</th>\n",
       "      <th>incredibly</th>\n",
       "      <th>indoor</th>\n",
       "      <th>inn</th>\n",
       "      <th>inq</th>\n",
       "      <th>insane</th>\n",
       "      <th>int</th>\n",
       "      <th>interior</th>\n",
       "      <th>international</th>\n",
       "      <th>interns</th>\n",
       "      <th>invincible</th>\n",
       "      <th>inviting</th>\n",
       "      <th>inwood</th>\n",
       "      <th>island</th>\n",
       "      <th>it</th>\n",
       "      <th>italy</th>\n",
       "      <th>its</th>\n",
       "      <th>jefferson</th>\n",
       "      <th>jewel</th>\n",
       "    </tr>\n",
       "  </thead>\n",
       "  <tbody>\n",
       "    <tr>\n",
       "      <th>0</th>\n",
       "      <td>0</td>\n",
       "      <td>0</td>\n",
       "      <td>0</td>\n",
       "      <td>0</td>\n",
       "      <td>0</td>\n",
       "      <td>0</td>\n",
       "      <td>0</td>\n",
       "      <td>0</td>\n",
       "      <td>0</td>\n",
       "      <td>0</td>\n",
       "      <td>0</td>\n",
       "      <td>0</td>\n",
       "      <td>0</td>\n",
       "      <td>0</td>\n",
       "      <td>0</td>\n",
       "      <td>0</td>\n",
       "      <td>0</td>\n",
       "      <td>0</td>\n",
       "      <td>0</td>\n",
       "      <td>0</td>\n",
       "    </tr>\n",
       "    <tr>\n",
       "      <th>1</th>\n",
       "      <td>0</td>\n",
       "      <td>0</td>\n",
       "      <td>0</td>\n",
       "      <td>0</td>\n",
       "      <td>0</td>\n",
       "      <td>0</td>\n",
       "      <td>0</td>\n",
       "      <td>0</td>\n",
       "      <td>0</td>\n",
       "      <td>0</td>\n",
       "      <td>0</td>\n",
       "      <td>0</td>\n",
       "      <td>0</td>\n",
       "      <td>0</td>\n",
       "      <td>0</td>\n",
       "      <td>0</td>\n",
       "      <td>0</td>\n",
       "      <td>0</td>\n",
       "      <td>0</td>\n",
       "      <td>0</td>\n",
       "    </tr>\n",
       "    <tr>\n",
       "      <th>2</th>\n",
       "      <td>0</td>\n",
       "      <td>0</td>\n",
       "      <td>0</td>\n",
       "      <td>0</td>\n",
       "      <td>0</td>\n",
       "      <td>0</td>\n",
       "      <td>0</td>\n",
       "      <td>0</td>\n",
       "      <td>0</td>\n",
       "      <td>0</td>\n",
       "      <td>0</td>\n",
       "      <td>0</td>\n",
       "      <td>0</td>\n",
       "      <td>0</td>\n",
       "      <td>0</td>\n",
       "      <td>0</td>\n",
       "      <td>0</td>\n",
       "      <td>0</td>\n",
       "      <td>0</td>\n",
       "      <td>0</td>\n",
       "    </tr>\n",
       "    <tr>\n",
       "      <th>3</th>\n",
       "      <td>0</td>\n",
       "      <td>0</td>\n",
       "      <td>0</td>\n",
       "      <td>0</td>\n",
       "      <td>0</td>\n",
       "      <td>0</td>\n",
       "      <td>0</td>\n",
       "      <td>0</td>\n",
       "      <td>0</td>\n",
       "      <td>0</td>\n",
       "      <td>0</td>\n",
       "      <td>0</td>\n",
       "      <td>0</td>\n",
       "      <td>0</td>\n",
       "      <td>0</td>\n",
       "      <td>0</td>\n",
       "      <td>0</td>\n",
       "      <td>0</td>\n",
       "      <td>0</td>\n",
       "      <td>0</td>\n",
       "    </tr>\n",
       "    <tr>\n",
       "      <th>4</th>\n",
       "      <td>0</td>\n",
       "      <td>0</td>\n",
       "      <td>0</td>\n",
       "      <td>0</td>\n",
       "      <td>0</td>\n",
       "      <td>0</td>\n",
       "      <td>0</td>\n",
       "      <td>0</td>\n",
       "      <td>0</td>\n",
       "      <td>0</td>\n",
       "      <td>0</td>\n",
       "      <td>0</td>\n",
       "      <td>0</td>\n",
       "      <td>0</td>\n",
       "      <td>0</td>\n",
       "      <td>0</td>\n",
       "      <td>0</td>\n",
       "      <td>0</td>\n",
       "      <td>0</td>\n",
       "      <td>0</td>\n",
       "    </tr>\n",
       "  </tbody>\n",
       "</table>\n",
       "</div>"
      ],
      "text/plain": [
       "   inclusive  incredible  incredibly  indoor  inn  inq  insane  int  interior  \\\n",
       "0          0           0           0       0    0    0       0    0         0   \n",
       "1          0           0           0       0    0    0       0    0         0   \n",
       "2          0           0           0       0    0    0       0    0         0   \n",
       "3          0           0           0       0    0    0       0    0         0   \n",
       "4          0           0           0       0    0    0       0    0         0   \n",
       "\n",
       "   international  interns  invincible  inviting  inwood  island  it  italy  \\\n",
       "0              0        0           0         0       0       0   0      0   \n",
       "1              0        0           0         0       0       0   0      0   \n",
       "2              0        0           0         0       0       0   0      0   \n",
       "3              0        0           0         0       0       0   0      0   \n",
       "4              0        0           0         0       0       0   0      0   \n",
       "\n",
       "   its  jefferson  jewel  \n",
       "0    0          0      0  \n",
       "1    0          0      0  \n",
       "2    0          0      0  \n",
       "3    0          0      0  \n",
       "4    0          0      0  "
      ]
     },
     "execution_count": 46,
     "metadata": {},
     "output_type": "execute_result"
    }
   ],
   "source": [
    "## show first set of rows/cols\n",
    "dtm_nopre.head()\n",
    "\n",
    "## show arbitrary later cols in resulting data\n",
    "dtm_nopre.shape\n",
    "dtm_nopre.iloc[0:5, 480:500]"
   ]
  },
  {
   "cell_type": "markdown",
   "metadata": {},
   "source": [
    "## 2.3 Use that matrix/column sums to get basic summary stats of top words"
   ]
  },
  {
   "cell_type": "code",
   "execution_count": 25,
   "metadata": {},
   "outputs": [
    {
     "data": {
      "text/plain": [
       "0       100\n",
       "1        30\n",
       "2        80\n",
       "3      2500\n",
       "4        50\n",
       "       ... \n",
       "995      65\n",
       "996      65\n",
       "997     300\n",
       "998      95\n",
       "999    1100\n",
       "Name: price_rawdata, Length: 1000, dtype: int64"
      ]
     },
     "execution_count": 25,
     "metadata": {},
     "output_type": "execute_result"
    },
    {
     "data": {
      "text/plain": [
       "in           367\n",
       "room         244\n",
       "private      163\n",
       "bedroom      152\n",
       "apartment    130\n",
       "            ... \n",
       "gay            1\n",
       "gente          1\n",
       "geodesic       1\n",
       "george         1\n",
       "獨一無二的紐約閣樓      1\n",
       "Length: 970, dtype: int64"
      ]
     },
     "execution_count": 25,
     "metadata": {},
     "output_type": "execute_result"
    }
   ],
   "source": [
    "## summing each col\n",
    "top_terms = dtm_nopre[dtm_nopre.columns[4:]].sum(axis = 0)\n",
    "\n",
    "## sorting from most frequent to least frequent\n",
    "top_terms.sort_values(ascending = False)"
   ]
  },
  {
   "cell_type": "markdown",
   "metadata": {},
   "source": [
    "## 2.4 Activity 2: repeat the above but using the preprocessed text data\n",
    "\n",
    "- Stick with the same random sample of 1000 `ab_small`\n",
    "- Apply the preprocessing steps from activity 1 to create a new column in `ab_small` with the preprocessed text (if you got stuck on that, try just removing stopwords)\n",
    "- Use the `create_dtm` function to create a document-term matrix from the preprocessed data\n",
    "- Use colsums to summarize"
   ]
  },
  {
   "cell_type": "code",
   "execution_count": 14,
   "metadata": {},
   "outputs": [
    {
     "name": "stdout",
     "output_type": "stream",
     "text": [
      "Sparse matrix form:\n",
      "   (0, 646)\t1\n",
      "  (0, 170)\t1\n",
      "  (1, 60)\t1\n",
      "  (1, 516)\t1\n",
      "  (1, 65)\t1\n",
      "  (1, 519)\t1\n",
      "  (1, 480)\t1\n",
      "  (2, 70)\t1\n",
      "  (2, 388)\t1\n",
      "  (2, 697)\t1\n",
      "  (2, 729)\t1\n",
      "  (2, 584)\t1\n",
      "  (2, 482)\t1\n",
      "\n",
      "Dense matrix form:\n",
      "    abcd  abod  access  acidot  acogedor  across  address  ador  aesthet  \\\n",
      "0     0     0       0       0         0       0        0     0        0   \n",
      "1     0     0       0       0         0       0        0     0        0   \n",
      "2     0     0       0       0         0       0        0     0        0   \n",
      "3     0     0       0       0         0       0        0     0        0   \n",
      "4     0     0       0       0         0       0        0     0        0   \n",
      "\n",
      "   afford  ...  yard  year  yellow  yoga  york  zen  ღღღstep  法拉盛中心私人房間獨立衛浴  \\\n",
      "0       0  ...     0     0       0     0     0    0        0              0   \n",
      "1       0  ...     0     0       0     0     0    0        0              0   \n",
      "2       0  ...     0     0       0     0     0    0        0              0   \n",
      "3       0  ...     0     0       0     0     0    0        0              0   \n",
      "4       0  ...     0     0       0     0     0    0        0              0   \n",
      "\n",
      "   溫馨大套房  獨一無二的紐約閣樓  \n",
      "0      0          0  \n",
      "1      0          0  \n",
      "2      0          0  \n",
      "3      0          0  \n",
      "4      0          0  \n",
      "\n",
      "[5 rows x 753 columns]\n"
     ]
    },
    {
     "data": {
      "text/plain": [
       "room         246\n",
       "privat       165\n",
       "bedroom      159\n",
       "cozi          97\n",
       "apt           91\n",
       "            ... \n",
       "homey          1\n",
       "hipstest       1\n",
       "hillsid        1\n",
       "highclass      1\n",
       "獨一無二的紐約閣樓      1\n",
       "Length: 753, dtype: int64"
      ]
     },
     "execution_count": 14,
     "metadata": {},
     "output_type": "execute_result"
    }
   ],
   "source": [
    "## your code here \n",
    "ab_small[\"preprocessed\"] = ab_small.name_lower.apply(process_string)\n",
    "metadata_list = ['id', 'neighbourhood_group', 'price_rawdata']\n",
    "dtm_pre = create_dtm(list_of_strings= ab_small.preprocessed,\n",
    "                metadata = ab_small[metadata_list])\n",
    "dtm_pre_termsonly = dtm_pre[[col for col in dtm_pre.columns\n",
    "                             if col not in metadata_list and\n",
    "                             col != \"index\"]]\n",
    "dtm_pre_termsonly.sum().sort_values(ascending = False)"
   ]
  },
  {
   "cell_type": "markdown",
   "metadata": {},
   "source": [
    "# 3. Use gensim to more automatically preprocess/estimate a topic model"
   ]
  },
  {
   "cell_type": "markdown",
   "metadata": {},
   "source": [
    "## 3.1 Creating the objects to feed the LDA modeling function\n",
    "\n",
    "Different outputs described below: \n",
    "- Tokenized and preprocessed text \n",
    "- Dictionary \n",
    "- Corpus "
   ]
  },
  {
   "cell_type": "code",
   "execution_count": 15,
   "metadata": {},
   "outputs": [
    {
     "data": {
      "text/plain": [
       "{0: '!', 1: 'cozy', 2: 'super', 3: 'beautiful', 4: 'bedroom'}"
      ]
     },
     "execution_count": 15,
     "metadata": {},
     "output_type": "execute_result"
    },
    {
     "name": "stdout",
     "output_type": "stream",
     "text": [
      "Filtering out very rare and very common words reduced the length of dictionary from 1047 to 31.\n"
     ]
    },
    {
     "data": {
      "text/plain": [
       "{0: '!', 1: 'cozy', 2: 'beautiful', 3: 'bedroom', 4: 'park'}"
      ]
     },
     "execution_count": 15,
     "metadata": {},
     "output_type": "execute_result"
    },
    {
     "name": "stdout",
     "output_type": "stream",
     "text": [
      "Sample of documents represented in dictionary format (with omitted words noted):\n"
     ]
    },
    {
     "data": {
      "text/plain": [
       "[([(0, 1), (1, 1)], {'super': 1}),\n",
       " ([(2, 1), (3, 1), (4, 1), (5, 1)], {'by': 1, 'prospect': 1}),\n",
       " ([(0, 1), (6, 1), (7, 1)],\n",
       "  {'best': 1,\n",
       "   'ii': 1,\n",
       "   'location': 1,\n",
       "   'on': 1,\n",
       "   'part': 1,\n",
       "   'side': 1,\n",
       "   'upper': 1,\n",
       "   'west': 1}),\n",
       " ([(0, 1)],\n",
       "  {'architecturally': 1, 'former': 1, 'stunning': 1, 'synagogue': 1}),\n",
       " ([(2, 1), (8, 1), (9, 1), (10, 1), (11, 1)], {'bushwick': 1}),\n",
       " ([(4, 1), (8, 1), (9, 1), (12, 1), (13, 2)],\n",
       "  {'bath': 1, 'bed': 1, 'by': 1, 'central': 1, 'college': 1, 'hunter': 1}),\n",
       " ([(9, 1), (11, 1), (14, 1), (15, 1)], {'bohemian': 1, 'brownstone': 1}),\n",
       " ([(16, 1)],\n",
       "  {'fidi': 1, 'huge': 1, 'loft': 1, 'views': 1, 'w': 1, 'water': 1}),\n",
       " ([], {'hillside': 1, 'hotel': 1}),\n",
       " ([(5, 1), (9, 1), (11, 1), (14, 1), (15, 1)], {'airy': 1})]"
      ]
     },
     "execution_count": 15,
     "metadata": {},
     "output_type": "execute_result"
    }
   ],
   "source": [
    "\n",
    "## Step 1: re-tokenize and store in list\n",
    "## here, i'm doing with the raw random sample of text\n",
    "## in activity, you should do with the preprocessed texts\n",
    "text_raw_tokens = [wordpunct_tokenize(one_text) for one_text in \n",
    "                  ab_small.name_lower]\n",
    "\n",
    "\n",
    "## Step 2: use gensim create dictionary - gets all unique words across documents\n",
    "text_raw_dict = corpora.Dictionary(text_raw_tokens)\n",
    "raw_len = len(text_raw_dict) # get length for comparison below\n",
    "\n",
    "### explore first few keys and values\n",
    "### see that key is just an arbitrary counter; value is the word itself\n",
    "{k: text_raw_dict[k] for k in list(text_raw_dict)[:5]}\n",
    "\n",
    "\n",
    "## Step 3: filter out very rare and very common words\n",
    "## here, i'm using the threshold that a word needs to appear in at least\n",
    "## 5% of docs but not more than 95%\n",
    "## this is an integer count of docs so i round\n",
    "lower_bound = round(ab_small.shape[0]*0.05)\n",
    "upper_bound = round(ab_small.shape[0]*0.95)\n",
    "\n",
    "### apply filtering to dictionary\n",
    "text_raw_dict.filter_extremes(no_below = lower_bound,\n",
    "                             no_above = upper_bound)\n",
    "print(f'Filtering out very rare and very common words reduced the \\\n",
    "length of dictionary from {str(raw_len)} to {str(len(text_raw_dict))}.')\n",
    "{k: text_raw_dict[k] for k in list(text_raw_dict)[:5]} # show first five entries after filtering\n",
    "\n",
    "\n",
    "## Step 4: apply dictionary to TOKENIZED texts\n",
    "## this creates a mapping between each word \n",
    "## in a specific listing and the key in the dictionary.\n",
    "## for words that remain in the filtered dictionary,\n",
    "## output is a list where len(list) == n documents\n",
    "## and each element in the list is a list of tuples\n",
    "## containing the mappings\n",
    "corpus_fromdict = [text_raw_dict.doc2bow(one_text) \n",
    "                   for one_text in text_raw_tokens]\n",
    "\n",
    "### can apply doc2bow(one_text, return_missing = True) to print words\n",
    "### eliminated from the listing bc they're not in filtered dictionary.\n",
    "### but feeding that one with missing values to\n",
    "### the lda function can cause errors\n",
    "corpus_fromdict_showmiss = [text_raw_dict.doc2bow(one_text, return_missing = True)\n",
    "                            for one_text in text_raw_tokens]\n",
    "print('Sample of documents represented in dictionary format (with omitted words noted):')\n",
    "corpus_fromdict_showmiss[:10]"
   ]
  },
  {
   "cell_type": "markdown",
   "metadata": {},
   "source": [
    "##  3.2 Estimating the model"
   ]
  },
  {
   "cell_type": "code",
   "execution_count": 16,
   "metadata": {},
   "outputs": [
    {
     "name": "stdout",
     "output_type": "stream",
     "text": [
      "<class 'gensim.models.ldamodel.LdaModel'>\n"
     ]
    }
   ],
   "source": [
    "## Step 5: we're finally ready to estimate the model!\n",
    "## full documentation here - https://radimrehurek.com/gensim/models/ldamodel.html\n",
    "## here, we're feeding the lda function:\n",
    "## (1) the corpus we created from the dictionary,\n",
    "## (2) a parameter we decide on for the number of topics (k),\n",
    "## (3) the dictionary itself,\n",
    "## (4) parameter for number of passes through training data (more means slower), and\n",
    "## (5) parameter that returns, for each word remaining in dict, the topic probabilities.\n",
    "## see documentation for many other arguments you can vary\n",
    "ldamod = gensim.models.ldamodel.LdaModel(corpus_fromdict, \n",
    "                                         num_topics = 5, \n",
    "                                         id2word=text_raw_dict, \n",
    "                                         passes=6, \n",
    "                                         alpha = 'auto',\n",
    "                                         per_word_topics = True)\n",
    "\n",
    "print(type(ldamod))\n",
    "\n"
   ]
  },
  {
   "cell_type": "markdown",
   "metadata": {},
   "source": [
    "## 3.3  Seeing what topics the estimated model discovers"
   ]
  },
  {
   "cell_type": "code",
   "execution_count": 17,
   "metadata": {},
   "outputs": [
    {
     "name": "stdout",
     "output_type": "stream",
     "text": [
      "(0, '0.118*\"apartment\" + 0.108*\"room\" + 0.089*\",\" + 0.077*\"in\" + 0.070*\"cozy\" + 0.070*\"-\" + 0.058*\"and\" + 0.054*\"near\" + 0.051*\"sunny\" + 0.039*\"park\"')\n",
      "(1, '0.207*\"in\" + 0.148*\"room\" + 0.102*\"private\" + 0.066*\"&\" + 0.066*\"studio\" + 0.062*\"williamsburg\" + 0.055*\"the\" + 0.040*\"with\" + 0.039*\"of\" + 0.033*\"manhattan\"')\n",
      "(2, '0.230*\"bedroom\" + 0.073*\"in\" + 0.072*\"manhattan\" + 0.068*\"to\" + 0.065*\"private\" + 0.054*\"2\" + 0.049*\".\" + 0.048*\"beautiful\" + 0.046*\"park\" + 0.045*\"with\"')\n",
      "(3, '0.195*\",\" + 0.122*\"/\" + 0.118*\"!\" + 0.094*\"apt\" + 0.073*\".\" + 0.050*\"in\" + 0.045*\"1\" + 0.039*\"of\" + 0.037*\"the\" + 0.029*\"park\"')\n",
      "(4, '0.143*\"spacious\" + 0.119*\"in\" + 0.111*\"brooklyn\" + 0.100*\"1\" + 0.085*\"-\" + 0.073*\"east\" + 0.070*\"bedroom\" + 0.052*\"2\" + 0.047*\"room\" + 0.037*\"private\"')\n"
     ]
    }
   ],
   "source": [
    "## Post-model 1: explore corpus-wide summary of topics\n",
    "### getting the topics and top words; can retrieve diff top words\n",
    "topics = ldamod.print_topics(num_words = 10)\n",
    "for topic in topics:\n",
    "    print(topic)\n"
   ]
  },
  {
   "cell_type": "code",
   "execution_count": 18,
   "metadata": {},
   "outputs": [
    {
     "data": {
      "text/plain": [
       "[['super', 'cozy', '!'],\n",
       " ['beautiful', 'private', 'bedroom', 'by', 'prospect', 'park'],\n",
       " ['best',\n",
       "  'location',\n",
       "  'on',\n",
       "  'the',\n",
       "  'upper',\n",
       "  'west',\n",
       "  'side',\n",
       "  '!',\n",
       "  '-',\n",
       "  'part',\n",
       "  'ii'],\n",
       " ['architecturally', 'stunning', 'former', 'synagogue', '!'],\n",
       " ['large', ',', 'beautiful', 'room', 'near', 'bushwick']]"
      ]
     },
     "execution_count": 18,
     "metadata": {},
     "output_type": "execute_result"
    },
    {
     "data": {
      "text/plain": [
       "[[(0, 0.78781086),\n",
       "  (1, 0.06582837),\n",
       "  (2, 0.045407027),\n",
       "  (3, 0.04858933),\n",
       "  (4, 0.052364383)],\n",
       " [(0, 0.038517963),\n",
       "  (1, 0.038100164),\n",
       "  (2, 0.8650329),\n",
       "  (3, 0.027994743),\n",
       "  (4, 0.030354213)],\n",
       " [(0, 0.050430354),\n",
       "  (1, 0.048866555),\n",
       "  (2, 0.033306763),\n",
       "  (3, 0.82855207),\n",
       "  (4, 0.03884424)],\n",
       " [(0, 0.10364498),\n",
       "  (1, 0.10239685),\n",
       "  (2, 0.0710686),\n",
       "  (3, 0.6409364),\n",
       "  (4, 0.0819532)],\n",
       " [(0, 0.8984728),\n",
       "  (1, 0.031493794),\n",
       "  (2, 0.02177272),\n",
       "  (3, 0.023178834),\n",
       "  (4, 0.025081873)]]"
      ]
     },
     "execution_count": 18,
     "metadata": {},
     "output_type": "execute_result"
    }
   ],
   "source": [
    "    \n",
    "## Post-model 2: explore topics associated with each document\n",
    "### for each item in our original dictionary, get list of topic probabilities\n",
    "l=[ldamod.get_document_topics(item) for item in corpus_fromdict]\n",
    "### print result\n",
    "text_raw_tokens[0:5]\n",
    "l[0:5]"
   ]
  },
  {
   "cell_type": "markdown",
   "metadata": {},
   "source": [
    "### Visualizing "
   ]
  },
  {
   "cell_type": "code",
   "execution_count": 19,
   "metadata": {},
   "outputs": [
    {
     "data": {
      "text/html": [
       "\n",
       "<link rel=\"stylesheet\" type=\"text/css\" href=\"https://cdn.jsdelivr.net/gh/bmabey/pyLDAvis@3.4.0/pyLDAvis/js/ldavis.v1.0.0.css\">\n",
       "\n",
       "\n",
       "<div id=\"ldavis_el6377157164667047632101845\" style=\"background-color:white;\"></div>\n",
       "<script type=\"text/javascript\">\n",
       "\n",
       "var ldavis_el6377157164667047632101845_data = {\"mdsDat\": {\"x\": [0.16376963191400346, 0.02938216362794234, -0.1695118662428344, -0.052092516213100064, 0.028452586913989036], \"y\": [-0.07891009591415216, 0.05209335412049421, 0.0006547486287265734, -0.1335782408533684, 0.15974023401829965], \"topics\": [1, 2, 3, 4, 5], \"cluster\": [1, 1, 1, 1, 1], \"Freq\": [26.441333584394343, 23.939639432029864, 17.900009424550127, 17.643091601789845, 14.075925957235825]}, \"tinfo\": {\"Term\": [\"bedroom\", \"spacious\", \",\", \"1\", \"room\", \"brooklyn\", \"/\", \"apartment\", \"apt\", \".\", \"east\", \"&\", \"-\", \"!\", \"manhattan\", \"and\", \"private\", \"cozy\", \"williamsburg\", \"park\", \"2\", \"near\", \"to\", \"with\", \"of\", \"sunny\", \"the\", \"beautiful\", \"in\", \"studio\", \"&\", \"williamsburg\", \"studio\", \"the\", \"of\", \"private\", \"room\", \"with\", \"in\", \"manhattan\", \"cozy\", \"apt\", \"to\", \"large\", \"beautiful\", \"-\", \"!\", \".\", \"spacious\", \"and\", \",\", \"1\", \"bedroom\", \"2\", \"/\", \"park\", \"near\", \"east\", \"apartment\", \"sunny\", \"and\", \"near\", \"apartment\", \"sunny\", \"cozy\", \"park\", \"-\", \"beautiful\", \"room\", \",\", \"large\", \"studio\", \"to\", \"2\", \"/\", \"brooklyn\", \"in\", \"!\", \"manhattan\", \"private\", \"williamsburg\", \"with\", \"&\", \"the\", \"of\", \"spacious\", \"bedroom\", \"east\", \"1\", \"apt\", \"/\", \".\", \"apt\", \",\", \"!\", \"of\", \"1\", \"the\", \"park\", \"large\", \"to\", \"east\", \"williamsburg\", \"sunny\", \"2\", \"near\", \"in\", \"apartment\", \"beautiful\", \"-\", \"studio\", \"manhattan\", \"bedroom\", \"spacious\", \"and\", \"room\", \"private\", \"with\", \"cozy\", \"brooklyn\", \"spacious\", \"east\", \"brooklyn\", \"1\", \"-\", \"2\", \"bedroom\", \"in\", \"apt\", \"private\", \"and\", \"room\", \"with\", \"!\", \",\", \"/\", \"manhattan\", \"sunny\", \"of\", \"studio\", \"the\", \"near\", \"apartment\", \".\", \"to\", \"beautiful\", \"cozy\", \"&\", \"large\", \"williamsburg\", \"bedroom\", \"manhattan\", \"beautiful\", \"to\", \"with\", \"park\", \".\", \"2\", \"large\", \"sunny\", \"private\", \"apartment\", \"brooklyn\", \"cozy\", \"!\", \"in\", \"the\", \"near\", \"/\", \",\", \"&\", \"studio\", \"east\", \"of\", \"williamsburg\", \"and\", \"1\", \"apt\", \"spacious\", \"-\", \"room\"], \"Freq\": [151.0, 88.0, 211.0, 85.0, 240.0, 94.0, 100.0, 124.0, 94.0, 73.0, 52.0, 61.0, 130.0, 131.0, 78.0, 54.0, 163.0, 94.0, 68.0, 69.0, 82.0, 52.0, 88.0, 66.0, 60.0, 66.0, 77.0, 58.0, 366.0, 86.0, 56.55593088090505, 53.414302333694735, 56.555682024382726, 46.92973626505339, 33.46660797861208, 87.47056627055397, 126.33036727727303, 34.53088118195878, 177.0316804711231, 28.21167708193495, 25.65519636135581, 23.473522277614002, 20.416209829682845, 13.084432468825574, 8.99067966481237, 18.655731790914558, 16.417568871838824, 7.393743432533549, 4.239327089829016, 2.1581697048506605, 5.5093703396059395, 1.8746914176643867, 2.5248147251344593, 1.2133422483053746, 1.2657796874915728, 0.6908816887247693, 0.4329112449279947, 0.4145850209077048, 0.8159099074692256, 0.360727349771825, 45.07162464417569, 42.24800701258987, 91.2835101355144, 39.467322768139475, 54.57601585894114, 30.43643513627285, 54.353795212212496, 22.560950436973535, 83.56830276371264, 68.7149684355797, 20.227391003214418, 19.838442766357986, 19.54790508589145, 16.25873909903051, 17.273749884551087, 16.11764213152619, 59.47908781767713, 21.3770513822175, 11.09393394096689, 23.05658798198802, 4.7342407395170865, 3.8808403742857434, 3.3123532078263866, 1.8948050881537315, 0.7383475427014343, 1.0597143480111697, 1.4360551630940097, 0.4198981867742327, 0.6120597484795275, 0.4301791052623139, 70.71492678095348, 42.38992751269203, 54.37107644971588, 113.07156230912226, 68.35884176180721, 22.349498418536832, 25.992966379623212, 21.2295646121954, 16.64336587955578, 13.615313665072906, 15.675693117781023, 8.74308497048898, 9.814720668947142, 8.998686913881093, 10.797232705385646, 5.793235657889161, 29.045042646516364, 9.444051981136187, 3.9294101789751994, 8.545673264804737, 5.663697353894486, 1.7698795385956587, 3.1206346121789283, 1.5718979015233236, 0.8300217774007282, 3.258969460222328, 1.9673101429995434, 0.625908518235624, 0.7764234560981323, 0.4591398715349414, 81.62044433517299, 41.860206733958385, 63.20246889537449, 56.92180207431596, 48.406614069215706, 29.97114584089883, 39.93277265515887, 68.13952265611417, 15.735372124353407, 21.421559822304612, 6.246721188915445, 27.09067092258025, 6.618153420866308, 12.43611554862108, 19.434392245508626, 6.370269729120009, 4.4473743658031735, 3.639397589643047, 2.9550728691848325, 3.366152068833212, 2.4347786993810807, 1.5936172231207133, 2.2883870298106563, 1.1603668134658645, 1.3297429150476283, 0.7975889028639498, 0.7709560817844583, 0.37650582185428516, 0.3463377403076958, 0.2868613346245253, 104.85684862066161, 32.8118288769525, 22.067836357277454, 31.136540175386923, 20.400107374450076, 21.063721938553655, 22.16523291334166, 24.57005570353717, 16.728951020109246, 13.70274091971453, 29.42074048497762, 20.334415439748682, 14.25337157239111, 12.359656933178671, 13.384960134449841, 33.0572794078824, 4.847461583005175, 2.883101108927417, 4.618130441114708, 5.147740031357462, 1.1900240970406484, 1.1478252918643939, 0.6755574038597869, 0.7776976791861342, 0.6001733165588148, 0.2772399942552168, 0.2985408467455487, 0.27594870860886245, 0.20435517548802568, 0.28182915624816285, 0.3793439125316338], \"Total\": [151.0, 88.0, 211.0, 85.0, 240.0, 94.0, 100.0, 124.0, 94.0, 73.0, 52.0, 61.0, 130.0, 131.0, 78.0, 54.0, 163.0, 94.0, 68.0, 69.0, 82.0, 52.0, 88.0, 66.0, 60.0, 66.0, 77.0, 58.0, 366.0, 86.0, 61.648240454588446, 68.85029839334229, 86.5717995053328, 77.33634624778878, 60.28722448822131, 163.33676470282376, 240.62765433631986, 66.05589086979654, 366.75261299931316, 78.33469380425316, 94.13824869135821, 94.28609866555446, 88.10609112378988, 64.00242589752983, 58.3464655409025, 130.24364349339567, 131.97453769893445, 73.44421793138045, 88.69573885002453, 54.58377730959774, 211.878033361174, 85.70006046682865, 151.87112577622787, 82.81051559715753, 100.24285652323084, 69.09267238286604, 52.950872247455166, 52.113332315989084, 124.16627449367914, 66.16887554114997, 54.58377730959774, 52.950872247455166, 124.16627449367914, 66.16887554114997, 94.13824869135821, 69.09267238286604, 130.24364349339567, 58.3464655409025, 240.62765433631986, 211.878033361174, 64.00242589752983, 86.5717995053328, 88.10609112378988, 82.81051559715753, 100.24285652323084, 94.3824357023519, 366.75261299931316, 131.97453769893445, 78.33469380425316, 163.33676470282376, 68.85029839334229, 66.05589086979654, 61.648240454588446, 77.33634624778878, 60.28722448822131, 88.69573885002453, 151.87112577622787, 52.113332315989084, 85.70006046682865, 94.28609866555446, 100.24285652323084, 73.44421793138045, 94.28609866555446, 211.878033361174, 131.97453769893445, 60.28722448822131, 85.70006046682865, 77.33634624778878, 69.09267238286604, 64.00242589752983, 88.10609112378988, 52.113332315989084, 68.85029839334229, 66.16887554114997, 82.81051559715753, 52.950872247455166, 366.75261299931316, 124.16627449367914, 58.3464655409025, 130.24364349339567, 86.5717995053328, 78.33469380425316, 151.87112577622787, 88.69573885002453, 54.58377730959774, 240.62765433631986, 163.33676470282376, 66.05589086979654, 94.13824869135821, 94.3824357023519, 88.69573885002453, 52.113332315989084, 94.3824357023519, 85.70006046682865, 130.24364349339567, 82.81051559715753, 151.87112577622787, 366.75261299931316, 94.28609866555446, 163.33676470282376, 54.58377730959774, 240.62765433631986, 66.05589086979654, 131.97453769893445, 211.878033361174, 100.24285652323084, 78.33469380425316, 66.16887554114997, 60.28722448822131, 86.5717995053328, 77.33634624778878, 52.950872247455166, 124.16627449367914, 73.44421793138045, 88.10609112378988, 58.3464655409025, 94.13824869135821, 61.648240454588446, 64.00242589752983, 68.85029839334229, 151.87112577622787, 78.33469380425316, 58.3464655409025, 88.10609112378988, 66.05589086979654, 69.09267238286604, 73.44421793138045, 82.81051559715753, 64.00242589752983, 66.16887554114997, 163.33676470282376, 124.16627449367914, 94.3824357023519, 94.13824869135821, 131.97453769893445, 366.75261299931316, 77.33634624778878, 52.950872247455166, 100.24285652323084, 211.878033361174, 61.648240454588446, 86.5717995053328, 52.113332315989084, 60.28722448822131, 68.85029839334229, 54.58377730959774, 85.70006046682865, 94.28609866555446, 88.69573885002453, 130.24364349339567, 240.62765433631986], \"Category\": [\"Default\", \"Default\", \"Default\", \"Default\", \"Default\", \"Default\", \"Default\", \"Default\", \"Default\", \"Default\", \"Default\", \"Default\", \"Default\", \"Default\", \"Default\", \"Default\", \"Default\", \"Default\", \"Default\", \"Default\", \"Default\", \"Default\", \"Default\", \"Default\", \"Default\", \"Default\", \"Default\", \"Default\", \"Default\", \"Default\", \"Topic1\", \"Topic1\", \"Topic1\", \"Topic1\", \"Topic1\", \"Topic1\", \"Topic1\", \"Topic1\", \"Topic1\", \"Topic1\", \"Topic1\", \"Topic1\", \"Topic1\", \"Topic1\", \"Topic1\", \"Topic1\", \"Topic1\", \"Topic1\", \"Topic1\", \"Topic1\", \"Topic1\", \"Topic1\", \"Topic1\", \"Topic1\", \"Topic1\", \"Topic1\", \"Topic1\", \"Topic1\", \"Topic1\", \"Topic1\", \"Topic2\", \"Topic2\", \"Topic2\", \"Topic2\", \"Topic2\", \"Topic2\", \"Topic2\", \"Topic2\", \"Topic2\", \"Topic2\", \"Topic2\", \"Topic2\", \"Topic2\", \"Topic2\", \"Topic2\", \"Topic2\", \"Topic2\", \"Topic2\", \"Topic2\", \"Topic2\", \"Topic2\", \"Topic2\", \"Topic2\", \"Topic2\", \"Topic2\", \"Topic2\", \"Topic2\", \"Topic2\", \"Topic2\", \"Topic2\", \"Topic3\", \"Topic3\", \"Topic3\", \"Topic3\", \"Topic3\", \"Topic3\", \"Topic3\", \"Topic3\", \"Topic3\", \"Topic3\", \"Topic3\", \"Topic3\", \"Topic3\", \"Topic3\", \"Topic3\", \"Topic3\", \"Topic3\", \"Topic3\", \"Topic3\", \"Topic3\", \"Topic3\", \"Topic3\", \"Topic3\", \"Topic3\", \"Topic3\", \"Topic3\", \"Topic3\", \"Topic3\", \"Topic3\", \"Topic3\", \"Topic4\", \"Topic4\", \"Topic4\", \"Topic4\", \"Topic4\", \"Topic4\", \"Topic4\", \"Topic4\", \"Topic4\", \"Topic4\", \"Topic4\", \"Topic4\", \"Topic4\", \"Topic4\", \"Topic4\", \"Topic4\", \"Topic4\", \"Topic4\", \"Topic4\", \"Topic4\", \"Topic4\", \"Topic4\", \"Topic4\", \"Topic4\", \"Topic4\", \"Topic4\", \"Topic4\", \"Topic4\", \"Topic4\", \"Topic4\", \"Topic5\", \"Topic5\", \"Topic5\", \"Topic5\", \"Topic5\", \"Topic5\", \"Topic5\", \"Topic5\", \"Topic5\", \"Topic5\", \"Topic5\", \"Topic5\", \"Topic5\", \"Topic5\", \"Topic5\", \"Topic5\", \"Topic5\", \"Topic5\", \"Topic5\", \"Topic5\", \"Topic5\", \"Topic5\", \"Topic5\", \"Topic5\", \"Topic5\", \"Topic5\", \"Topic5\", \"Topic5\", \"Topic5\", \"Topic5\", \"Topic5\"], \"logprob\": [30.0, 29.0, 28.0, 27.0, 26.0, 25.0, 24.0, 23.0, 22.0, 21.0, 20.0, 19.0, 18.0, 17.0, 16.0, 15.0, 14.0, 13.0, 12.0, 11.0, 10.0, 9.0, 8.0, 7.0, 6.0, 5.0, 4.0, 3.0, 2.0, 1.0, -2.7175, -2.7747, -2.7176, -2.9041, -3.2422, -2.2815, -1.9139, -3.2109, -1.5764, -3.413, -3.508, -3.5969, -3.7364, -4.1814, -4.5566, -3.8266, -3.9544, -4.7521, -5.3084, -5.9835, -5.0463, -6.1243, -5.8266, -6.5594, -6.5171, -7.1226, -7.59, -7.6333, -6.9562, -7.7724, -2.8451, -2.9098, -2.1394, -2.9779, -2.6538, -3.2377, -2.6579, -3.5372, -2.2277, -2.4234, -3.6463, -3.6658, -3.6805, -3.8648, -3.8042, -3.8735, -2.5678, -3.5911, -4.247, -3.5154, -5.0986, -5.2973, -5.4557, -6.0143, -6.9567, -6.5954, -6.2915, -7.5211, -7.1443, -7.4969, -2.104, -2.6157, -2.3668, -1.6346, -2.1379, -3.2558, -3.1048, -3.3073, -3.5506, -3.7515, -3.6105, -4.1944, -4.0788, -4.1656, -3.9834, -4.606, -2.9938, -4.1173, -4.9942, -4.2172, -4.6286, -5.7917, -5.2246, -5.9104, -6.549, -5.1812, -5.686, -6.8312, -6.6157, -7.1411, -1.9461, -2.6139, -2.2019, -2.3065, -2.4686, -2.948, -2.661, -2.1266, -3.5923, -3.2838, -4.5161, -3.049, -4.4584, -3.8276, -3.3811, -4.4966, -4.8559, -5.0564, -5.2647, -5.1344, -5.4583, -5.8822, -5.5203, -6.1995, -6.0632, -6.5744, -6.6083, -7.325, -7.4085, -7.597, -1.4697, -2.6315, -3.0282, -2.6839, -3.1068, -3.0748, -3.0238, -2.9208, -3.3052, -3.5047, -2.7406, -3.11, -3.4653, -3.6079, -3.5282, -2.6241, -4.5439, -5.0634, -4.5923, -4.4838, -5.9483, -5.9844, -6.5145, -6.3737, -6.6329, -7.4052, -7.3312, -7.4099, -7.7102, -7.3888, -7.0916], \"loglift\": [30.0, 29.0, 28.0, 27.0, 26.0, 25.0, 24.0, 23.0, 22.0, 21.0, 20.0, 19.0, 18.0, 17.0, 16.0, 15.0, 14.0, 13.0, 12.0, 11.0, 10.0, 9.0, 8.0, 7.0, 6.0, 5.0, 4.0, 3.0, 2.0, 1.0, 1.244, 1.0764, 0.9045, 0.8307, 0.7417, 0.7057, 0.6859, 0.6816, 0.6019, 0.309, 0.0302, -0.0602, -0.132, -0.2573, -0.54, -0.613, -0.754, -0.9657, -1.7106, -1.9002, -2.3193, -2.4922, -2.7666, -2.8929, -3.0417, -3.275, -3.4763, -3.5037, -3.6948, -3.8816, 1.2382, 1.2038, 1.122, 0.9129, 0.8845, 0.6098, 0.5557, 0.4795, 0.372, 0.3036, 0.2778, -0.0437, -0.076, -0.1983, -0.3288, -0.3378, -0.3894, -0.3907, -0.525, -0.5282, -1.2475, -1.4048, -1.4942, -2.2794, -2.9728, -2.9976, -3.2315, -3.3915, -3.5121, -3.9603, 1.3714, 1.1708, 1.1699, 1.0924, 1.0625, 0.7281, 0.5273, 0.4276, 0.2969, 0.1726, -0.0061, -0.0648, -0.2277, -0.2748, -0.3169, -0.4923, -0.8155, -0.8559, -0.9775, -1.0036, -1.0065, -2.0697, -2.1646, -2.3126, -2.4657, -2.5815, -2.6988, -2.9387, -3.0775, -3.6054, 1.6517, 1.5157, 1.3338, 1.3257, 0.7451, 0.7185, 0.399, 0.0517, -0.0556, -0.2966, -0.4329, -0.4492, -0.5659, -0.6272, -0.6541, -1.0211, -1.1339, -1.1656, -1.2808, -1.5124, -1.7235, -1.7685, -2.2589, -2.413, -2.4587, -2.5577, -3.0701, -3.3634, -3.4844, -3.7459, 1.5903, 1.0905, 0.9884, 0.9205, 0.7857, 0.7728, 0.7627, 0.7457, 0.6189, 0.3861, 0.2466, 0.1514, 0.0703, -0.0696, -0.3278, -0.4457, -0.809, -0.9498, -1.1169, -1.7567, -1.9868, -2.3624, -2.3849, -2.3898, -2.7818, -3.3219, -3.699, -3.8732, -4.1124, -4.1752, -4.4919]}, \"token.table\": {\"Topic\": [1, 2, 3, 4, 5, 1, 2, 5, 1, 2, 3, 4, 5, 1, 2, 3, 4, 1, 3, 4, 5, 1, 2, 3, 4, 5, 1, 2, 3, 4, 1, 2, 3, 4, 5, 1, 2, 3, 4, 1, 2, 3, 4, 5, 1, 3, 4, 1, 2, 3, 4, 5, 1, 2, 3, 4, 5, 2, 4, 5, 1, 2, 3, 4, 5, 3, 4, 5, 1, 2, 3, 4, 5, 1, 2, 3, 5, 1, 2, 3, 4, 5, 2, 3, 4, 5, 1, 2, 3, 4, 5, 1, 2, 3, 5, 1, 2, 3, 4, 5, 1, 2, 3, 4, 1, 2, 3, 4, 1, 2, 3, 4, 5, 2, 3, 4, 5, 1, 2, 3, 4, 5, 1, 2, 3, 4, 5, 1, 2, 3, 5, 1, 2, 3, 4, 5], \"Freq\": [0.12123550708319081, 0.15912160304668793, 0.515250905103561, 0.0909266303123931, 0.09850384950509253, 0.9246005981628551, 0.04866318937699238, 0.016221063125664126, 0.028318178646543363, 0.3256590544352487, 0.5333256978432334, 0.08967423238072066, 0.0235984822054528, 0.1458804398462904, 0.41460756587893066, 0.06910126097982178, 0.3685400585590495, 0.09531043010819666, 0.5718625806491799, 0.01361577572974238, 0.29954706605433234, 0.00997577318407975, 0.16958814412935574, 0.7082798960696622, 0.059854639104478496, 0.049878865920398745, 0.02333720640458739, 0.011668603202293695, 0.30338368325963605, 0.6651103825307406, 0.012075761064749668, 0.1932121770359947, 0.13283337171224635, 0.36227283194249005, 0.3018940266187417, 0.0366409233398424, 0.8244207751464541, 0.0183204616699212, 0.1099227700195272, 0.008053716712350152, 0.7328882208238637, 0.07248345041115137, 0.016107433424700304, 0.16107433424700301, 0.24393839946208942, 0.5727249378675143, 0.1696962778866709, 0.15425098875425022, 0.3941969712608617, 0.068555995001889, 0.01713899875047225, 0.37705797251038947, 0.019753590319863058, 0.00658453010662102, 0.019753590319863058, 0.2633812042648408, 0.6913756611952071, 0.16952306730521577, 0.6674970775142871, 0.1483326838920638, 0.2761895442228125, 0.5842471127790264, 0.01062267477780048, 0.01062267477780048, 0.12747209733360576, 0.17270052786930834, 0.805935796723439, 0.01918894754103426, 0.48261414841052946, 0.16087138280350982, 0.07907237459833534, 0.18541108526506217, 0.08997890902569193, 0.20311730091002275, 0.31248815524618884, 0.2187417086723322, 0.2656149319592605, 0.3574406005845618, 0.14042309308679213, 0.02553147147032584, 0.05106294294065168, 0.4212692792603764, 0.7931880669259141, 0.11331258098941631, 0.037770860329805436, 0.056656290494708154, 0.5473796526567153, 0.016587262201718644, 0.36491976843781015, 0.049761786605155935, 0.016587262201718644, 0.014473314832268453, 0.43419944496805357, 0.2460463521485637, 0.30393961147763754, 0.5326418712791852, 0.14081336826920987, 0.012244640719061726, 0.12856872755014814, 0.17754729042639505, 0.5236305874631211, 0.34908705830874737, 0.012467394939598121, 0.11220655445638308, 0.045097995144542324, 0.011274498786135581, 0.022548997572271162, 0.9245089004631176, 0.6584130204719704, 0.23102211244630538, 0.06930663373389162, 0.03465331686694581, 0.01155110562231527, 0.5894009786481283, 0.1360156104572604, 0.06045138242544906, 0.21157983848907172, 0.607734943275056, 0.025861061415959827, 0.2715411448675782, 0.025861061415959827, 0.06465265353989957, 0.22699906152799146, 0.22699906152799146, 0.18159924922239315, 0.011349953076399572, 0.3518485453683867, 0.7697860610161861, 0.07262132651096094, 0.14524265302192188, 0.01452426530219219, 0.5298543330372891, 0.060554780918547324, 0.015138695229636831, 0.10597086660745782, 0.3027739045927366], \"Term\": [\"!\", \"!\", \"!\", \"!\", \"!\", \"&\", \"&\", \"&\", \",\", \",\", \",\", \",\", \",\", \"-\", \"-\", \"-\", \"-\", \".\", \".\", \".\", \".\", \"/\", \"/\", \"/\", \"/\", \"/\", \"1\", \"1\", \"1\", \"1\", \"2\", \"2\", \"2\", \"2\", \"2\", \"and\", \"and\", \"and\", \"and\", \"apartment\", \"apartment\", \"apartment\", \"apartment\", \"apartment\", \"apt\", \"apt\", \"apt\", \"beautiful\", \"beautiful\", \"beautiful\", \"beautiful\", \"beautiful\", \"bedroom\", \"bedroom\", \"bedroom\", \"bedroom\", \"bedroom\", \"brooklyn\", \"brooklyn\", \"brooklyn\", \"cozy\", \"cozy\", \"cozy\", \"cozy\", \"cozy\", \"east\", \"east\", \"east\", \"in\", \"in\", \"in\", \"in\", \"in\", \"large\", \"large\", \"large\", \"large\", \"manhattan\", \"manhattan\", \"manhattan\", \"manhattan\", \"manhattan\", \"near\", \"near\", \"near\", \"near\", \"of\", \"of\", \"of\", \"of\", \"of\", \"park\", \"park\", \"park\", \"park\", \"private\", \"private\", \"private\", \"private\", \"private\", \"room\", \"room\", \"room\", \"room\", \"spacious\", \"spacious\", \"spacious\", \"spacious\", \"studio\", \"studio\", \"studio\", \"studio\", \"studio\", \"sunny\", \"sunny\", \"sunny\", \"sunny\", \"the\", \"the\", \"the\", \"the\", \"the\", \"to\", \"to\", \"to\", \"to\", \"to\", \"williamsburg\", \"williamsburg\", \"williamsburg\", \"williamsburg\", \"with\", \"with\", \"with\", \"with\", \"with\"]}, \"R\": 30, \"lambda.step\": 0.01, \"plot.opts\": {\"xlab\": \"PC1\", \"ylab\": \"PC2\"}, \"topic.order\": [2, 1, 4, 5, 3]};\n",
       "\n",
       "function LDAvis_load_lib(url, callback){\n",
       "  var s = document.createElement('script');\n",
       "  s.src = url;\n",
       "  s.async = true;\n",
       "  s.onreadystatechange = s.onload = callback;\n",
       "  s.onerror = function(){console.warn(\"failed to load library \" + url);};\n",
       "  document.getElementsByTagName(\"head\")[0].appendChild(s);\n",
       "}\n",
       "\n",
       "if(typeof(LDAvis) !== \"undefined\"){\n",
       "   // already loaded: just create the visualization\n",
       "   !function(LDAvis){\n",
       "       new LDAvis(\"#\" + \"ldavis_el6377157164667047632101845\", ldavis_el6377157164667047632101845_data);\n",
       "   }(LDAvis);\n",
       "}else if(typeof define === \"function\" && define.amd){\n",
       "   // require.js is available: use it to load d3/LDAvis\n",
       "   require.config({paths: {d3: \"https://d3js.org/d3.v5\"}});\n",
       "   require([\"d3\"], function(d3){\n",
       "      window.d3 = d3;\n",
       "      LDAvis_load_lib(\"https://cdn.jsdelivr.net/gh/bmabey/pyLDAvis@3.4.0/pyLDAvis/js/ldavis.v3.0.0.js\", function(){\n",
       "        new LDAvis(\"#\" + \"ldavis_el6377157164667047632101845\", ldavis_el6377157164667047632101845_data);\n",
       "      });\n",
       "    });\n",
       "}else{\n",
       "    // require.js not available: dynamically load d3 & LDAvis\n",
       "    LDAvis_load_lib(\"https://d3js.org/d3.v5.js\", function(){\n",
       "         LDAvis_load_lib(\"https://cdn.jsdelivr.net/gh/bmabey/pyLDAvis@3.4.0/pyLDAvis/js/ldavis.v3.0.0.js\", function(){\n",
       "                 new LDAvis(\"#\" + \"ldavis_el6377157164667047632101845\", ldavis_el6377157164667047632101845_data);\n",
       "            })\n",
       "         });\n",
       "}\n",
       "</script>"
      ],
      "text/plain": [
       "<IPython.core.display.HTML object>"
      ]
     },
     "execution_count": 19,
     "metadata": {},
     "output_type": "execute_result"
    }
   ],
   "source": [
    "lda_display = gensimvis.prepare(ldamod, corpus_fromdict, text_raw_dict)\n",
    "pyLDAvis.display(lda_display)"
   ]
  },
  {
   "cell_type": "markdown",
   "metadata": {},
   "source": [
    "## 3.4 Activity 3\n",
    "\n",
    "- Preprocess the texts if you haven't already\n",
    "- Run the topic model with preprocessed texts\n",
    "- Play around with other parameters like `n_topics` to find a configuration that produces useful topics\n",
    "\n",
    "If you get stuck on the preprocessing part, you can use below function and example code for applying it. Then continue as above (start with tokenizing)."
   ]
  },
  {
   "cell_type": "code",
   "execution_count": 20,
   "metadata": {},
   "outputs": [
    {
     "data": {
      "text/plain": [
       "{0: 'cozi', 1: 'super', 2: 'beauti', 3: 'bedroom', 4: 'park'}"
      ]
     },
     "execution_count": 20,
     "metadata": {},
     "output_type": "execute_result"
    },
    {
     "name": "stdout",
     "output_type": "stream",
     "text": [
      "Filtering out very rare and very common words reduced the length of dictionary from 753 to 43.\n"
     ]
    },
    {
     "data": {
      "text/plain": [
       "{0: 'cozi', 1: 'beauti', 2: 'bedroom', 3: 'park', 4: 'privat'}"
      ]
     },
     "execution_count": 20,
     "metadata": {},
     "output_type": "execute_result"
    },
    {
     "name": "stdout",
     "output_type": "stream",
     "text": [
      "Sample of documents represented in dictionary format (with omitted words noted):\n"
     ]
    },
    {
     "data": {
      "text/plain": [
       "[([(0, 1)], {'super': 1}),\n",
       " ([(1, 1), (2, 1), (3, 1), (4, 1)], {'prospect': 1}),\n",
       " ([(5, 1), (6, 1), (7, 1), (8, 1)], {'best': 1, 'part': 1}),\n",
       " ([], {'architectur': 1, 'former': 1, 'stun': 1, 'synagogu': 1}),\n",
       " ([(1, 1), (9, 1), (10, 1), (11, 1), (12, 1)], {}),\n",
       " ([(3, 1), (10, 1), (13, 1), (14, 1)], {'bath': 1, 'colleg': 1, 'hunter': 1}),\n",
       " ([(10, 1), (12, 1)], {'bohemian': 1, 'brownston': 1}),\n",
       " ([(15, 1), (16, 1), (17, 1), (18, 1)], {'fidi': 1, 'water': 1}),\n",
       " ([], {'hillsid': 1, 'hotel': 1}),\n",
       " ([(4, 1), (10, 1), (12, 1)], {'airi': 1})]"
      ]
     },
     "execution_count": 20,
     "metadata": {},
     "output_type": "execute_result"
    }
   ],
   "source": [
    "# your code here\n",
    "## Step 1: re-tokenize and store in list\n",
    "## here, i'm doing with the raw random sample of text\n",
    "## in activity, you should do with the preprocessed texts\n",
    "ab_small = ab_small[ab_small[\"preprocessed\"] != \"\"]\n",
    "text_raw_tokens = [wordpunct_tokenize(one_text) for one_text in \n",
    "                  ab_small.preprocessed]\n",
    "\n",
    "\n",
    "## Step 2: use gensim create dictionary - gets all unique words across documents\n",
    "text_raw_dict = corpora.Dictionary(text_raw_tokens)\n",
    "raw_len = len(text_raw_dict) # get length for comparison below\n",
    "\n",
    "### explore first few keys and values\n",
    "### see that key is just an arbitrary counter; value is the word itself\n",
    "{k: text_raw_dict[k] for k in list(text_raw_dict)[:5]}\n",
    "\n",
    "\n",
    "## Step 3: filter out very rare and very common words\n",
    "## here, i'm using the threshold that a word needs to appear in at least\n",
    "## 2% of docs but not more than 98%\n",
    "## this is an integer count of docs so i round\n",
    "lower_bound = round(ab_small.shape[0]*0.02)\n",
    "upper_bound = round(ab_small.shape[0]*0.98)\n",
    "\n",
    "### apply filtering to dictionary\n",
    "text_raw_dict.filter_extremes(no_below = lower_bound,\n",
    "                             no_above = upper_bound)\n",
    "print(f'Filtering out very rare and very common words reduced the \\\n",
    "length of dictionary from {str(raw_len)} to {str(len(text_raw_dict))}.')\n",
    "{k: text_raw_dict[k] for k in list(text_raw_dict)[:5]} # show first five entries after filtering\n",
    "\n",
    "\n",
    "## Step 4: apply dictionary to TOKENIZED texts\n",
    "## this creates a mapping between each word \n",
    "## in a specific listing and the key in the dictionary.\n",
    "## for words that remain in the filtered dictionary,\n",
    "## output is a list where len(list) == n documents\n",
    "## and each element in the list is a list of tuples\n",
    "## containing the mappings\n",
    "corpus_fromdict = [text_raw_dict.doc2bow(one_text) \n",
    "                   for one_text in text_raw_tokens]\n",
    "\n",
    "### can apply doc2bow(one_text, return_missing = True) to print words\n",
    "### eliminated from the listing bc they're not in filtered dictionary.\n",
    "### but feeding that one with missing values to\n",
    "### the lda function can cause errors\n",
    "corpus_fromdict_showmiss = [text_raw_dict.doc2bow(one_text, return_missing = True)\n",
    "                            for one_text in text_raw_tokens]\n",
    "print('Sample of documents represented in dictionary format (with omitted words noted):')\n",
    "corpus_fromdict_showmiss[:10]"
   ]
  },
  {
   "cell_type": "code",
   "execution_count": 21,
   "metadata": {},
   "outputs": [
    {
     "name": "stdout",
     "output_type": "stream",
     "text": [
      "<class 'gensim.models.ldamodel.LdaModel'>\n"
     ]
    }
   ],
   "source": [
    "## Step 5: we're finally ready to estimate the model!\n",
    "## full documentation here - https://radimrehurek.com/gensim/models/ldamodel.html\n",
    "## here, we're feeding the lda function:\n",
    "## (1) the corpus we created from the dictionary,\n",
    "## (2) a parameter we decide on for the number of topics (k),\n",
    "## (3) the dictionary itself,\n",
    "## (4) parameter for number of passes through training data (more means slower), and\n",
    "## (5) parameter that returns, for each word remaining in dict, the topic probabilities.\n",
    "## see documentation for many other arguments you can vary\n",
    "ldamod = gensim.models.ldamodel.LdaModel(corpus_fromdict, \n",
    "                                         num_topics = 3, \n",
    "                                         id2word=text_raw_dict, \n",
    "                                         passes=6, \n",
    "                                         alpha = 'auto',\n",
    "                                         per_word_topics = True)\n",
    "\n",
    "print(type(ldamod))"
   ]
  },
  {
   "cell_type": "code",
   "execution_count": 22,
   "metadata": {},
   "outputs": [
    {
     "name": "stdout",
     "output_type": "stream",
     "text": [
      "(0, '0.150*\"studio\" + 0.087*\"heart\" + 0.081*\"east\" + 0.075*\"new\" + 0.071*\"modern\" + 0.064*\"luxuri\" + 0.062*\"villag\" + 0.040*\"clean\" + 0.038*\"west\" + 0.035*\"huge\"')\n",
      "(1, '0.170*\"room\" + 0.115*\"privat\" + 0.097*\"bedroom\" + 0.064*\"cozi\" + 0.051*\"spaciou\" + 0.047*\"williamsburg\" + 0.045*\"larg\" + 0.043*\"apt\" + 0.042*\"beauti\" + 0.039*\"sunni\"')\n",
      "(2, '0.129*\"park\" + 0.086*\"central\" + 0.081*\"bed\" + 0.079*\"home\" + 0.066*\"view\" + 0.062*\"apt\" + 0.047*\"upper\" + 0.045*\"close\" + 0.037*\"spaciou\" + 0.036*\"side\"')\n"
     ]
    },
    {
     "data": {
      "text/plain": [
       "[['super', 'cozi'],\n",
       " ['beauti', 'privat', 'bedroom', 'prospect', 'park'],\n",
       " ['best', 'locat', 'upper', 'west', 'side', 'part'],\n",
       " ['architectur', 'stun', 'former', 'synagogu'],\n",
       " ['larg', 'beauti', 'room', 'near', 'bushwick']]"
      ]
     },
     "execution_count": 22,
     "metadata": {},
     "output_type": "execute_result"
    },
    {
     "data": {
      "text/plain": [
       "[[(0, 0.1355943), (1, 0.73369473), (2, 0.13071096)],\n",
       " [(0, 0.05793602), (1, 0.7371042), (2, 0.20495981)],\n",
       " [(0, 0.06327959), (1, 0.14342116), (2, 0.7932992)],\n",
       " [(0, 0.23500067), (1, 0.5332867), (2, 0.23171267)],\n",
       " [(0, 0.048324328), (1, 0.9003263), (2, 0.051349368)]]"
      ]
     },
     "execution_count": 22,
     "metadata": {},
     "output_type": "execute_result"
    }
   ],
   "source": [
    "## Post-model 1: explore corpus-wide summary of topics\n",
    "### getting the topics and top words; can retrieve diff top words\n",
    "topics = ldamod.print_topics(num_words = 10)\n",
    "for topic in topics:\n",
    "    print(topic)\n",
    "\n",
    "## Post-model 2: explore topics associated with each document\n",
    "### for each item in our original dictionary, get list of topic probabilities\n",
    "l=[ldamod.get_document_topics(item) for item in corpus_fromdict]\n",
    "### print result\n",
    "text_raw_tokens[0:5]\n",
    "l[0:5]"
   ]
  },
  {
   "cell_type": "code",
   "execution_count": 23,
   "metadata": {},
   "outputs": [
    {
     "data": {
      "text/html": [
       "\n",
       "<link rel=\"stylesheet\" type=\"text/css\" href=\"https://cdn.jsdelivr.net/gh/bmabey/pyLDAvis@3.4.0/pyLDAvis/js/ldavis.v1.0.0.css\">\n",
       "\n",
       "\n",
       "<div id=\"ldavis_el6377157164676006091672105\" style=\"background-color:white;\"></div>\n",
       "<script type=\"text/javascript\">\n",
       "\n",
       "var ldavis_el6377157164676006091672105_data = {\"mdsDat\": {\"x\": [0.15668703055212585, -0.23943945808015132, 0.08275242752802539], \"y\": [0.15752558309855108, 0.03614799742875877, -0.19367358052730993], \"topics\": [1, 2, 3], \"cluster\": [1, 1, 1], \"Freq\": [58.8726625049246, 21.74509082259243, 19.38224667248297]}, \"tinfo\": {\"Term\": [\"studio\", \"park\", \"heart\", \"central\", \"bed\", \"home\", \"room\", \"modern\", \"new\", \"east\", \"view\", \"privat\", \"villag\", \"luxuri\", \"upper\", \"close\", \"apt\", \"west\", \"side\", \"clean\", \"huge\", \"bushwick\", \"harlem\", \"spaciou\", \"williamsburg\", \"loft\", \"larg\", \"sunni\", \"min\", \"cozi\", \"hous\", \"williamsburg\", \"privat\", \"room\", \"larg\", \"beauti\", \"near\", \"prime\", \"train\", \"cozi\", \"one\", \"quiet\", \"bedroom\", \"spaciou\", \"sunni\", \"min\", \"locat\", \"charm\", \"time\", \"apt\", \"bright\", \"subway\", \"bushwick\", \"loft\", \"harlem\", \"park\", \"huge\", \"studio\", \"villag\", \"central\", \"east\", \"heart\", \"modern\", \"new\", \"villag\", \"studio\", \"huge\", \"luxuri\", \"east\", \"clean\", \"harlem\", \"west\", \"side\", \"loft\", \"upper\", \"charm\", \"sunni\", \"subway\", \"cozi\", \"time\", \"bedroom\", \"near\", \"apt\", \"locat\", \"privat\", \"view\", \"bright\", \"quiet\", \"beauti\", \"williamsburg\", \"prime\", \"home\", \"spaciou\", \"room\", \"park\", \"home\", \"view\", \"close\", \"central\", \"bed\", \"park\", \"upper\", \"side\", \"bushwick\", \"west\", \"bright\", \"apt\", \"subway\", \"locat\", \"time\", \"min\", \"clean\", \"spaciou\", \"east\", \"luxuri\", \"quiet\", \"one\", \"bedroom\", \"train\", \"prime\", \"new\", \"loft\", \"larg\", \"room\", \"charm\", \"beauti\", \"studio\"], \"Freq\": [89.0, 71.0, 45.0, 41.0, 39.0, 36.0, 240.0, 38.0, 40.0, 52.0, 30.0, 161.0, 36.0, 38.0, 36.0, 21.0, 89.0, 35.0, 31.0, 27.0, 21.0, 28.0, 26.0, 86.0, 66.0, 34.0, 63.0, 67.0, 40.0, 95.0, 23.56321397351731, 63.69208683192944, 154.91367302693916, 228.21244458777554, 59.95838463582986, 56.076024213264844, 50.80770047834595, 21.48130624138256, 24.845270541048357, 85.25388523488535, 23.969885155990774, 28.041844947649132, 129.93122028047344, 68.12097087996246, 52.340576861894775, 29.411859340990897, 21.49161715876867, 16.86001382433298, 13.386762301130732, 57.59393926566952, 17.424325282425507, 16.202845354537864, 13.982071517165307, 17.195492422637958, 10.186816344555377, 13.368415668788519, 3.2002156680722105, 13.324926799483471, 4.924326253669247, 3.1065904630216847, 3.3062310380042943, 43.19333951188197, 35.36374480079944, 36.99914173835176, 30.59153022011008, 74.54283215160117, 17.5768638027003, 31.620019758217648, 40.17665702374202, 19.700820836649523, 15.47108080096218, 18.841484625783206, 15.161773178974245, 15.949453096375704, 15.445102462540913, 8.094498776627054, 14.743735345983497, 6.678534808478877, 9.175321770293726, 1.6063008245122161, 11.624665088569682, 3.3533906035087733, 4.437997083454354, 1.379743574455298, 6.3050002674741705, 1.0619895987015693, 0.929072999156994, 0.9607651798889918, 1.681965701834813, 1.7808549929949617, 0.612722189361993, 0.9471844657846472, 1.8598714001144159, 1.9596302605367995, 1.1721569711692448, 35.11444986839601, 29.133920629194982, 19.75244024961644, 37.85695198177548, 36.0060952710168, 56.89902008514995, 20.623704922489612, 16.03588083287581, 13.730128045039047, 14.944584945590856, 8.840817318785483, 27.40748349938426, 9.454730829507481, 9.206391308280256, 5.460191346796217, 10.52761162446959, 6.111498887070096, 16.53178942448035, 8.997398283929682, 6.460967078963627, 4.083824940953955, 2.818316411369048, 14.547328634287286, 1.943911286994681, 1.2754585401337437, 1.9965511477744662, 1.6795739012513566, 2.71523938903422, 10.159758384543832, 0.7356965508308126, 1.6633297147087238, 1.4196256571153318], \"Total\": [89.0, 71.0, 45.0, 41.0, 39.0, 36.0, 240.0, 38.0, 40.0, 52.0, 30.0, 161.0, 36.0, 38.0, 36.0, 21.0, 89.0, 35.0, 31.0, 27.0, 21.0, 28.0, 26.0, 86.0, 66.0, 34.0, 63.0, 67.0, 40.0, 95.0, 24.343567527466295, 66.24744304648662, 161.8325432820705, 240.33183323285618, 63.24744346543608, 59.42131962980838, 54.65124593457673, 23.369486970878295, 27.246783302086964, 95.79724136783558, 27.23672869425167, 33.08643506849208, 156.1032140033304, 86.51263170455722, 67.85926918692442, 40.79502461352514, 32.077752041504226, 25.69020915179085, 20.453254472439163, 89.43941984850814, 27.194215600367983, 32.33611099252422, 28.08627806016591, 34.82451942026502, 26.057427614127505, 71.43959272510772, 21.294631938473348, 89.28738460819999, 36.52662028631588, 41.44993577498714, 52.48028634567599, 45.90644555800946, 38.71266263609946, 40.72380679665832, 36.52662028631588, 89.28738460819999, 21.294631938473348, 38.46357517382337, 52.48028634567599, 27.176229511420534, 26.057427614127505, 35.79455874003981, 31.709021814110862, 34.82451942026502, 36.53793084277702, 25.69020915179085, 67.85926918692442, 32.33611099252422, 95.79724136783558, 20.453254472439163, 156.1032140033304, 54.65124593457673, 89.43941984850814, 32.077752041504226, 161.8325432820705, 30.870372501986342, 27.194215600367983, 33.08643506849208, 59.42131962980838, 66.24744304648662, 23.369486970878295, 36.637445018510874, 86.51263170455722, 240.33183323285618, 71.43959272510772, 36.637445018510874, 30.870372501986342, 21.21584850581784, 41.44993577498714, 39.532146241236084, 71.43959272510772, 36.53793084277702, 31.709021814110862, 28.08627806016591, 35.79455874003981, 27.194215600367983, 89.43941984850814, 32.33611099252422, 32.077752041504226, 20.453254472439163, 40.79502461352514, 27.176229511420534, 86.51263170455722, 52.48028634567599, 38.46357517382337, 33.08643506849208, 27.23672869425167, 156.1032140033304, 27.246783302086964, 23.369486970878295, 40.72380679665832, 34.82451942026502, 63.24744346543608, 240.33183323285618, 25.69020915179085, 59.42131962980838, 89.28738460819999], \"Category\": [\"Default\", \"Default\", \"Default\", \"Default\", \"Default\", \"Default\", \"Default\", \"Default\", \"Default\", \"Default\", \"Default\", \"Default\", \"Default\", \"Default\", \"Default\", \"Default\", \"Default\", \"Default\", \"Default\", \"Default\", \"Default\", \"Default\", \"Default\", \"Default\", \"Default\", \"Default\", \"Default\", \"Default\", \"Default\", \"Default\", \"Topic1\", \"Topic1\", \"Topic1\", \"Topic1\", \"Topic1\", \"Topic1\", \"Topic1\", \"Topic1\", \"Topic1\", \"Topic1\", \"Topic1\", \"Topic1\", \"Topic1\", \"Topic1\", \"Topic1\", \"Topic1\", \"Topic1\", \"Topic1\", \"Topic1\", \"Topic1\", \"Topic1\", \"Topic1\", \"Topic1\", \"Topic1\", \"Topic1\", \"Topic1\", \"Topic1\", \"Topic1\", \"Topic1\", \"Topic1\", \"Topic1\", \"Topic2\", \"Topic2\", \"Topic2\", \"Topic2\", \"Topic2\", \"Topic2\", \"Topic2\", \"Topic2\", \"Topic2\", \"Topic2\", \"Topic2\", \"Topic2\", \"Topic2\", \"Topic2\", \"Topic2\", \"Topic2\", \"Topic2\", \"Topic2\", \"Topic2\", \"Topic2\", \"Topic2\", \"Topic2\", \"Topic2\", \"Topic2\", \"Topic2\", \"Topic2\", \"Topic2\", \"Topic2\", \"Topic2\", \"Topic2\", \"Topic2\", \"Topic2\", \"Topic2\", \"Topic2\", \"Topic3\", \"Topic3\", \"Topic3\", \"Topic3\", \"Topic3\", \"Topic3\", \"Topic3\", \"Topic3\", \"Topic3\", \"Topic3\", \"Topic3\", \"Topic3\", \"Topic3\", \"Topic3\", \"Topic3\", \"Topic3\", \"Topic3\", \"Topic3\", \"Topic3\", \"Topic3\", \"Topic3\", \"Topic3\", \"Topic3\", \"Topic3\", \"Topic3\", \"Topic3\", \"Topic3\", \"Topic3\", \"Topic3\", \"Topic3\", \"Topic3\", \"Topic3\"], \"logprob\": [30.0, 29.0, 28.0, 27.0, 26.0, 25.0, 24.0, 23.0, 22.0, 21.0, 20.0, 19.0, 18.0, 17.0, 16.0, 15.0, 14.0, 13.0, 12.0, 11.0, 10.0, 9.0, 8.0, 7.0, 6.0, 5.0, 4.0, 3.0, 2.0, 1.0, -4.0425, -3.0481, -2.1593, -1.7719, -3.1085, -3.1754, -3.2741, -4.135, -3.9895, -2.7565, -4.0253, -3.8684, -2.3351, -2.9809, -3.2444, -3.8207, -4.1345, -4.3772, -4.6079, -3.1487, -4.3443, -4.417, -4.5644, -4.3575, -4.881, -4.6092, -6.0389, -4.6125, -5.6079, -6.0686, -6.0063, -2.4405, -2.6405, -2.5953, -2.7854, -1.8948, -3.3396, -2.7524, -2.5129, -3.2255, -3.4672, -3.2701, -3.4874, -3.4367, -3.4689, -4.115, -3.5153, -4.3072, -3.9896, -5.7322, -3.753, -4.9962, -4.7159, -5.8843, -4.3648, -6.146, -6.2797, -6.2462, -5.6862, -5.6291, -6.696, -6.2604, -5.5856, -5.5334, -6.0473, -2.5325, -2.7192, -3.1078, -2.4573, -2.5074, -2.0498, -3.0647, -3.3163, -3.4715, -3.3868, -3.9117, -2.7803, -3.8446, -3.8712, -4.3936, -3.7371, -4.2809, -3.2858, -3.8942, -4.2253, -4.6841, -5.055, -3.4137, -5.4264, -5.8478, -5.3997, -5.5726, -5.0922, -3.7727, -6.3981, -5.5823, -5.7407], \"loglift\": [30.0, 29.0, 28.0, 27.0, 26.0, 25.0, 24.0, 23.0, 22.0, 21.0, 20.0, 19.0, 18.0, 17.0, 16.0, 15.0, 14.0, 13.0, 12.0, 11.0, 10.0, 9.0, 8.0, 7.0, 6.0, 5.0, 4.0, 3.0, 2.0, 1.0, 0.4972, 0.4905, 0.4861, 0.478, 0.4764, 0.4718, 0.4569, 0.4455, 0.4375, 0.4132, 0.402, 0.3644, 0.3463, 0.2908, 0.2701, 0.2026, 0.1293, 0.1086, 0.1059, 0.0896, 0.0847, -0.1612, -0.1677, -0.1759, -0.4094, -1.1462, -1.3654, -1.3724, -1.4741, -2.0612, -2.2348, 1.4649, 1.4353, 1.4299, 1.3485, 1.3453, 1.3339, 1.3299, 1.2586, 1.2041, 1.0045, 0.884, 0.788, 0.7449, 0.6647, 0.3709, -0.0008, -0.0515, -0.8199, -1.0184, -1.0716, -1.2652, -1.4776, -1.6205, -1.7194, -1.8439, -1.8508, -2.0134, -2.0389, -2.0905, -2.1155, -2.1296, -2.314, -3.2835, -2.5842, 1.5984, 1.5829, 1.5693, 1.5501, 1.5474, 1.4132, 1.0689, 0.959, 0.9251, 0.7674, 0.5172, 0.4581, 0.4111, 0.3925, 0.3202, 0.2863, 0.1486, -0.0142, -0.1227, -0.1431, -0.4513, -0.6276, -0.7323, -0.9994, -1.2673, -1.3746, -1.391, -1.5074, -1.5228, -1.9122, -1.935, -2.5007]}, \"token.table\": {\"Topic\": [1, 2, 3, 1, 2, 3, 1, 2, 3, 1, 2, 3, 1, 2, 3, 1, 3, 1, 3, 1, 2, 3, 1, 2, 3, 1, 2, 3, 1, 2, 3, 1, 2, 3, 1, 2, 1, 2, 3, 1, 2, 3, 1, 1, 2, 3, 1, 2, 3, 1, 2, 3, 1, 2, 3, 2, 3, 1, 2, 3, 1, 2, 3, 1, 2, 1, 2, 3, 1, 3, 1, 2, 3, 1, 2, 3, 1, 2, 3, 1, 2, 3, 1, 2, 3, 1, 2, 3, 1, 2, 3, 1, 2, 3, 1, 2, 3, 1, 2, 3, 1, 2, 3, 1, 3, 2, 3, 1, 2, 3, 1, 2, 3, 1, 2, 3, 1, 2, 3], \"Freq\": [0.648483633930542, 0.044723009236589104, 0.30188031234697643, 0.9424226918701399, 0.03365795328107642, 0.03365795328107642, 0.07588760756102567, 0.025295869187008557, 0.910651290732308, 0.8327823410299963, 0.07687221609507658, 0.09609027011884573, 0.6251329418661358, 0.03677252599212563, 0.3309527339291307, 0.4984640531582525, 0.4984640531582525, 0.07237646920095694, 0.9167686098787879, 0.6617306966850809, 0.3114026807929792, 0.0389253350991224, 0.03679686321385239, 0.7359372642770479, 0.22078117928311436, 0.04713457487810486, 0.04713457487810486, 0.9426914975620971, 0.8872906858937922, 0.09394842556522506, 0.010438713951691674, 0.05716432224168264, 0.7621909632224352, 0.17149296672504794, 0.3837677359440622, 0.5756516039160934, 0.04356686682423952, 0.9366876367211497, 0.02178343341211976, 0.027294479718625447, 0.027294479718625447, 0.9553067901518907, 0.985886722351658, 0.14088057538011975, 0.8452834522807184, 0.04696019179337325, 0.948654944966894, 0.015810915749448234, 0.047432747248344696, 0.6546593406180355, 0.031174254315144548, 0.28056828883630097, 0.48816179757838646, 0.4594463977208343, 0.057430799715104286, 0.8319559441728079, 0.1559917395324015, 0.7108710014207313, 0.02451279315243901, 0.2696407246768291, 0.07749402380818177, 0.9040969444287872, 0.02583134126939392, 0.9331900696473113, 0.054893533508665375, 0.049111322278547746, 0.9085594621531333, 0.049111322278547746, 0.8811630893494642, 0.11014538616868302, 0.18197192206879842, 0.01399784015913834, 0.7978768890708854, 0.8986076599015197, 0.042790840947691415, 0.042790840947691415, 0.9577801649563059, 0.03707536122411507, 0.006179226870685844, 0.8462682649864612, 0.030223866606659332, 0.12089546642663733, 0.9486883070504109, 0.008321827254828166, 0.041609136274140826, 0.03153676596718569, 0.4730514895077853, 0.504588255474971, 0.7860123852459104, 0.02311801133076207, 0.1965030963114776, 0.1455972762226715, 0.8399842859000278, 0.011199790478667038, 0.49480285380326156, 0.21647624853892694, 0.2783266052643346, 0.7662917774248549, 0.22104570502640045, 0.014736380335093363, 0.6355956709734164, 0.0977839493805256, 0.244459873451314, 0.9175395026570028, 0.07340316021256021, 0.41053227848465496, 0.574745189878517, 0.03239351905895063, 0.03239351905895063, 0.9394120527095683, 0.13688646693308143, 0.8486960949851048, 0.027377293386616285, 0.05587441416795003, 0.5308069345955253, 0.41905810625962525, 0.9660750220214602, 0.030189844438170632, 0.015094922219085316], \"Term\": [\"apt\", \"apt\", \"apt\", \"beauti\", \"beauti\", \"beauti\", \"bed\", \"bed\", \"bed\", \"bedroom\", \"bedroom\", \"bedroom\", \"bright\", \"bright\", \"bright\", \"bushwick\", \"bushwick\", \"central\", \"central\", \"charm\", \"charm\", \"charm\", \"clean\", \"clean\", \"clean\", \"close\", \"close\", \"close\", \"cozi\", \"cozi\", \"cozi\", \"east\", \"east\", \"east\", \"harlem\", \"harlem\", \"heart\", \"heart\", \"heart\", \"home\", \"home\", \"home\", \"hous\", \"huge\", \"huge\", \"huge\", \"larg\", \"larg\", \"larg\", \"locat\", \"locat\", \"locat\", \"loft\", \"loft\", \"loft\", \"luxuri\", \"luxuri\", \"min\", \"min\", \"min\", \"modern\", \"modern\", \"modern\", \"near\", \"near\", \"new\", \"new\", \"new\", \"one\", \"one\", \"park\", \"park\", \"park\", \"prime\", \"prime\", \"prime\", \"privat\", \"privat\", \"privat\", \"quiet\", \"quiet\", \"quiet\", \"room\", \"room\", \"room\", \"side\", \"side\", \"side\", \"spaciou\", \"spaciou\", \"spaciou\", \"studio\", \"studio\", \"studio\", \"subway\", \"subway\", \"subway\", \"sunni\", \"sunni\", \"sunni\", \"time\", \"time\", \"time\", \"train\", \"train\", \"upper\", \"upper\", \"view\", \"view\", \"view\", \"villag\", \"villag\", \"villag\", \"west\", \"west\", \"west\", \"williamsburg\", \"williamsburg\", \"williamsburg\"]}, \"R\": 30, \"lambda.step\": 0.01, \"plot.opts\": {\"xlab\": \"PC1\", \"ylab\": \"PC2\"}, \"topic.order\": [2, 1, 3]};\n",
       "\n",
       "function LDAvis_load_lib(url, callback){\n",
       "  var s = document.createElement('script');\n",
       "  s.src = url;\n",
       "  s.async = true;\n",
       "  s.onreadystatechange = s.onload = callback;\n",
       "  s.onerror = function(){console.warn(\"failed to load library \" + url);};\n",
       "  document.getElementsByTagName(\"head\")[0].appendChild(s);\n",
       "}\n",
       "\n",
       "if(typeof(LDAvis) !== \"undefined\"){\n",
       "   // already loaded: just create the visualization\n",
       "   !function(LDAvis){\n",
       "       new LDAvis(\"#\" + \"ldavis_el6377157164676006091672105\", ldavis_el6377157164676006091672105_data);\n",
       "   }(LDAvis);\n",
       "}else if(typeof define === \"function\" && define.amd){\n",
       "   // require.js is available: use it to load d3/LDAvis\n",
       "   require.config({paths: {d3: \"https://d3js.org/d3.v5\"}});\n",
       "   require([\"d3\"], function(d3){\n",
       "      window.d3 = d3;\n",
       "      LDAvis_load_lib(\"https://cdn.jsdelivr.net/gh/bmabey/pyLDAvis@3.4.0/pyLDAvis/js/ldavis.v3.0.0.js\", function(){\n",
       "        new LDAvis(\"#\" + \"ldavis_el6377157164676006091672105\", ldavis_el6377157164676006091672105_data);\n",
       "      });\n",
       "    });\n",
       "}else{\n",
       "    // require.js not available: dynamically load d3 & LDAvis\n",
       "    LDAvis_load_lib(\"https://d3js.org/d3.v5.js\", function(){\n",
       "         LDAvis_load_lib(\"https://cdn.jsdelivr.net/gh/bmabey/pyLDAvis@3.4.0/pyLDAvis/js/ldavis.v3.0.0.js\", function(){\n",
       "                 new LDAvis(\"#\" + \"ldavis_el6377157164676006091672105\", ldavis_el6377157164676006091672105_data);\n",
       "            })\n",
       "         });\n",
       "}\n",
       "</script>"
      ],
      "text/plain": [
       "<IPython.core.display.HTML object>"
      ]
     },
     "execution_count": 23,
     "metadata": {},
     "output_type": "execute_result"
    }
   ],
   "source": [
    "lda_display = gensimvis.prepare(ldamod, corpus_fromdict, text_raw_dict)\n",
    "pyLDAvis.display(lda_display)"
   ]
  },
  {
   "cell_type": "code",
   "execution_count": 24,
   "metadata": {},
   "outputs": [],
   "source": [
    "# Hint: example code for preprocessing\n",
    "def processtext(row, colname):\n",
    "    \n",
    "    string_of_col = str(row[colname])\n",
    "    try:\n",
    "        processed_string = \" \".join([porter.stem(i.lower()) \n",
    "                        for i in wordpunct_tokenize(string_of_col) if \n",
    "                        i.lower().isalpha() and len(i) >=3]) #and i not in punctlist]) # optional: remove punctuation too \n",
    "        return(processed_string)\n",
    "    except:\n",
    "        processed_string = \"\" # to handle data errors where not actually text\n",
    "        return(processed_string)\n",
    "\n",
    "# ab_small['text_preprocess'] = ab_small.apply(processtext,\n",
    "#                             axis = 1,\n",
    "#                             args = [\"name_lower\"])\n",
    "#\n",
    "# ab_small = ab_small[ab_small.text_preprocess != \"\"].copy()\n",
    "#\n",
    "# ab_small.head()"
   ]
  }
 ],
 "metadata": {
  "kernelspec": {
   "display_name": "Python 3 (ipykernel)",
   "language": "python",
   "name": "python3"
  },
  "language_info": {
   "codemirror_mode": {
    "name": "ipython",
    "version": 3
   },
   "file_extension": ".py",
   "mimetype": "text/x-python",
   "name": "python",
   "nbconvert_exporter": "python",
   "pygments_lexer": "ipython3",
   "version": "3.9.19"
  }
 },
 "nbformat": 4,
 "nbformat_minor": 4
}
