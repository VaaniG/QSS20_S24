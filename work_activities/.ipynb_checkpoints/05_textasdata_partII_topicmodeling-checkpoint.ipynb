{
 "cells": [
  {
   "cell_type": "markdown",
   "metadata": {},
   "source": [
    "# Notebook for topic modeling "
   ]
  },
  {
   "cell_type": "markdown",
   "metadata": {},
   "source": [
    "# 0. Imports"
   ]
  },
  {
   "cell_type": "code",
   "execution_count": 56,
   "metadata": {
    "scrolled": true
   },
   "outputs": [],
   "source": [
    "## load packages \n",
    "import pandas as pd\n",
    "import re\n",
    "import numpy as np\n",
    "\n",
    "## nltk imports\n",
    "#!pip install nltk # can install on terminal or by uncommenting this line\n",
    "#import nltk; nltk.download('punkt'); nltk.download('stopwords')\n",
    "from nltk.tokenize import word_tokenize, wordpunct_tokenize\n",
    "from nltk.corpus import stopwords\n",
    "from nltk.stem.porter import PorterStemmer\n",
    "\n",
    "## sklearn imports\n",
    "from sklearn.feature_extraction.text import CountVectorizer\n",
    "\n",
    "## lda\n",
    "#!pip install gensim # can install by uncommenting this line\n",
    "from gensim import corpora\n",
    "import gensim\n",
    "\n",
    "## visualizing LDA--likely need to install\n",
    "#!pip install pyLDAvis # can install by uncommenting this line\n",
    "import pyLDAvis.gensim_models as gensimvis\n",
    "import pyLDAvis\n",
    "pyLDAvis.enable_notebook()\n",
    "\n",
    "## print mult things\n",
    "from IPython.core.interactiveshell import InteractiveShell\n",
    "InteractiveShell.ast_node_interactivity = \"all\"\n",
    "\n",
    "## random\n",
    "import random\n",
    "import string; punctlist = [char for char in string.punctuation] # list of english punctuation marks"
   ]
  },
  {
   "cell_type": "markdown",
   "metadata": {},
   "source": [
    "# 0. Load data"
   ]
  },
  {
   "cell_type": "code",
   "execution_count": 57,
   "metadata": {},
   "outputs": [
    {
     "data": {
      "text/html": [
       "<div>\n",
       "<style scoped>\n",
       "    .dataframe tbody tr th:only-of-type {\n",
       "        vertical-align: middle;\n",
       "    }\n",
       "\n",
       "    .dataframe tbody tr th {\n",
       "        vertical-align: top;\n",
       "    }\n",
       "\n",
       "    .dataframe thead th {\n",
       "        text-align: right;\n",
       "    }\n",
       "</style>\n",
       "<table border=\"1\" class=\"dataframe\">\n",
       "  <thead>\n",
       "    <tr style=\"text-align: right;\">\n",
       "      <th></th>\n",
       "      <th>id</th>\n",
       "      <th>name</th>\n",
       "      <th>name_upper</th>\n",
       "      <th>neighbourhood_group</th>\n",
       "      <th>price</th>\n",
       "    </tr>\n",
       "  </thead>\n",
       "  <tbody>\n",
       "    <tr>\n",
       "      <th>0</th>\n",
       "      <td>2539</td>\n",
       "      <td>Clean &amp; quiet apt home by the park</td>\n",
       "      <td>CLEAN &amp; QUIET APT HOME BY THE PARK</td>\n",
       "      <td>Brooklyn</td>\n",
       "      <td>149</td>\n",
       "    </tr>\n",
       "    <tr>\n",
       "      <th>1</th>\n",
       "      <td>2595</td>\n",
       "      <td>Skylit Midtown Castle</td>\n",
       "      <td>SKYLIT MIDTOWN CASTLE</td>\n",
       "      <td>Manhattan</td>\n",
       "      <td>225</td>\n",
       "    </tr>\n",
       "    <tr>\n",
       "      <th>2</th>\n",
       "      <td>3647</td>\n",
       "      <td>THE VILLAGE OF HARLEM....NEW YORK !</td>\n",
       "      <td>THE VILLAGE OF HARLEM....NEW YORK !</td>\n",
       "      <td>Manhattan</td>\n",
       "      <td>150</td>\n",
       "    </tr>\n",
       "    <tr>\n",
       "      <th>3</th>\n",
       "      <td>3831</td>\n",
       "      <td>Cozy Entire Floor of Brownstone</td>\n",
       "      <td>COZY ENTIRE FLOOR OF BROWNSTONE</td>\n",
       "      <td>Brooklyn</td>\n",
       "      <td>89</td>\n",
       "    </tr>\n",
       "    <tr>\n",
       "      <th>4</th>\n",
       "      <td>5022</td>\n",
       "      <td>Entire Apt: Spacious Studio/Loft by central park</td>\n",
       "      <td>ENTIRE APT: SPACIOUS STUDIO/LOFT BY CENTRAL PARK</td>\n",
       "      <td>Manhattan</td>\n",
       "      <td>80</td>\n",
       "    </tr>\n",
       "  </tbody>\n",
       "</table>\n",
       "</div>"
      ],
      "text/plain": [
       "     id                                              name  \\\n",
       "0  2539                Clean & quiet apt home by the park   \n",
       "1  2595                             Skylit Midtown Castle   \n",
       "2  3647               THE VILLAGE OF HARLEM....NEW YORK !   \n",
       "3  3831                   Cozy Entire Floor of Brownstone   \n",
       "4  5022  Entire Apt: Spacious Studio/Loft by central park   \n",
       "\n",
       "                                         name_upper neighbourhood_group  price  \n",
       "0                CLEAN & QUIET APT HOME BY THE PARK            Brooklyn    149  \n",
       "1                             SKYLIT MIDTOWN CASTLE           Manhattan    225  \n",
       "2               THE VILLAGE OF HARLEM....NEW YORK !           Manhattan    150  \n",
       "3                   COZY ENTIRE FLOOR OF BROWNSTONE            Brooklyn     89  \n",
       "4  ENTIRE APT: SPACIOUS STUDIO/LOFT BY CENTRAL PARK           Manhattan     80  "
      ]
     },
     "execution_count": 57,
     "metadata": {},
     "output_type": "execute_result"
    }
   ],
   "source": [
    "ab = pd.read_csv(\"../public_data/airbnb_text.zip\")\n",
    "ab.head()"
   ]
  },
  {
   "cell_type": "markdown",
   "metadata": {},
   "source": [
    "# 1. Preprocess documents\n",
    "\n",
    "In this case, each name/name_upper, or listing title, we're treating as a document"
   ]
  },
  {
   "cell_type": "markdown",
   "metadata": {},
   "source": [
    "## 1.1 Load stopwords list and augment with our own custom ones"
   ]
  },
  {
   "cell_type": "code",
   "execution_count": 58,
   "metadata": {},
   "outputs": [
    {
     "name": "stderr",
     "output_type": "stream",
     "text": [
      "[nltk_data] Downloading package stopwords to\n",
      "[nltk_data]     /Users/vaanigupta/nltk_data...\n",
      "[nltk_data]   Package stopwords is already up-to-date!\n"
     ]
    },
    {
     "data": {
      "text/plain": [
       "True"
      ]
     },
     "execution_count": 58,
     "metadata": {},
     "output_type": "execute_result"
    }
   ],
   "source": [
    "import nltk\n",
    "nltk.download('stopwords')"
   ]
  },
  {
   "cell_type": "code",
   "execution_count": 59,
   "metadata": {},
   "outputs": [],
   "source": [
    "list_stopwords = stopwords.words(\"english\")\n",
    "\n",
    "custom_words_toadd = ['apartment', 'new york', 'nyc',\n",
    "                      'bronx', 'brooklyn',\n",
    "                     'manhattan', 'queens', \n",
    "                      'staten island']\n",
    "\n",
    "list_stopwords_new = list_stopwords + custom_words_toadd\n"
   ]
  },
  {
   "cell_type": "markdown",
   "metadata": {},
   "source": [
    "## 1.2 Remove stopwords from lowercase version of corpus\n"
   ]
  },
  {
   "cell_type": "code",
   "execution_count": 60,
   "metadata": {},
   "outputs": [
    {
     "data": {
      "text/plain": [
       "['clean & quiet apt home by the park',\n",
       " 'skylit midtown castle',\n",
       " 'the village of harlem....new york !',\n",
       " 'cozy entire floor of brownstone',\n",
       " 'entire apt: spacious studio/loft by central park']"
      ]
     },
     "execution_count": 60,
     "metadata": {},
     "output_type": "execute_result"
    },
    {
     "data": {
      "text/plain": [
       "['cozy', 'entire', 'floor', 'brownstone']"
      ]
     },
     "execution_count": 60,
     "metadata": {},
     "output_type": "execute_result"
    }
   ],
   "source": [
    "## convert to lowercase and a list\n",
    "corpus_lower = ab.name.str.lower().to_list()\n",
    "corpus_lower[0:5]\n",
    "\n",
    "## use wordpunct tokenize and filter out with one\n",
    "example_listing = corpus_lower[3]\n",
    "nostop_listing = [word for word in wordpunct_tokenize(example_listing) \n",
    "                          if word not in list_stopwords_new]\n",
    "nostop_listing"
   ]
  },
  {
   "cell_type": "markdown",
   "metadata": {},
   "source": [
    "## 1.3 stem and remove non-alpha\n",
    "\n",
    "Other contexts we may want to leave digits in"
   ]
  },
  {
   "cell_type": "code",
   "execution_count": 61,
   "metadata": {},
   "outputs": [
    {
     "data": {
      "text/plain": [
       "['cozi', 'entir', 'floor', 'brownston']"
      ]
     },
     "execution_count": 61,
     "metadata": {},
     "output_type": "execute_result"
    }
   ],
   "source": [
    "## initialize stemmer\n",
    "porter = PorterStemmer()\n",
    "\n",
    "## apply to one by iterating\n",
    "## over the tokens in the list\n",
    "example_listing_preprocess = [porter.stem(token) \n",
    "                            for token in nostop_listing \n",
    "                            if token.isalpha() and \n",
    "                            len(token) > 2]\n",
    "\n",
    "example_listing_preprocess"
   ]
  },
  {
   "cell_type": "code",
   "execution_count": 62,
   "metadata": {},
   "outputs": [
    {
     "data": {
      "text/plain": [
       "'cozy entire floor of brownstone'"
      ]
     },
     "execution_count": 62,
     "metadata": {},
     "output_type": "execute_result"
    },
    {
     "data": {
      "text/plain": [
       "['cozi', 'entir', 'floor', 'brownston']"
      ]
     },
     "execution_count": 62,
     "metadata": {},
     "output_type": "execute_result"
    }
   ],
   "source": [
    "example_listing\n",
    "example_listing_preprocess"
   ]
  },
  {
   "cell_type": "markdown",
   "metadata": {},
   "source": [
    "## 1.4 Activity 1\n",
    "\n",
    "The above example performed preprocessing on a single Airbnb listing. We want to generalize this preprocessing across all listings.\n",
    "\n",
    "- Embed step two (remove stopwords) and step three (stem) into one or two functions that take in a raw string (eg the raw text of an Airbnb review) and return a preprocessed string \n",
    "- Apply the function iteratively to preprocess all the texts in `corpus_lower`. Output could either be a list where each list element is a string of a list (e.g., `cozy brownstone apt`), or a list of lists where each element is a tokenized string (e.g., `['cozy', 'brownstone', 'apt'])`\n",
    "\n",
    "Output is flexible: it could be a list of lists containing tokenized/stemmed text or a list of strings."
   ]
  },
  {
   "cell_type": "code",
   "execution_count": 63,
   "metadata": {},
   "outputs": [
    {
     "data": {
      "text/plain": [
       "['clean quiet apt home park',\n",
       " 'skylit midtown castl',\n",
       " 'villag harlem new york',\n",
       " 'cozi entir floor brownston',\n",
       " 'entir apt spaciou studio loft central park',\n",
       " 'larg cozi midtown east']"
      ]
     },
     "execution_count": 63,
     "metadata": {},
     "output_type": "execute_result"
    }
   ],
   "source": [
    "# your code here to define the function(s)\n",
    "# based on 1.2/1.3\n",
    "list_stopwords = stopwords.words(\"english\")\n",
    "\n",
    "custom_words_toadd = ['apartment', 'new york', 'nyc',\n",
    "                      'bronx', 'brooklyn',\n",
    "                     'manhattan', 'queens', \n",
    "                      'staten island']\n",
    "\n",
    "list_stopwords_new = list_stopwords + custom_words_toadd\n",
    "\n",
    "porter = PorterStemmer()\n",
    "corpus_lower = ab.name.str.lower().to_list()\n",
    "\n",
    "# defining function\n",
    "def process_string(text):\n",
    "    if pd.isna(text):\n",
    "        return \"\"\n",
    "    \n",
    "    lower_text = text.lower()\n",
    "\n",
    "    ## use wordpunct tokenize and filter out with one\n",
    "    nostop_listing = [word for word in wordpunct_tokenize(lower_text) \n",
    "                              if word not in list_stopwords_new]\n",
    "    \n",
    "    ## apply to one by iterating\n",
    "    ## over the tokens in the list\n",
    "    text_preprocess = [porter.stem(token) \n",
    "                                for token in nostop_listing \n",
    "                                if token.isalpha() and \n",
    "                                len(token) > 2]\n",
    "    \n",
    "    return \" \".join(text_preprocess)\n",
    "    \n",
    "    \n",
    "\n",
    "# your code here to apply the function\n",
    "preprocessing = [process_string(text) for text in corpus_lower]\n",
    "preprocessing[:6]"
   ]
  },
  {
   "cell_type": "markdown",
   "metadata": {},
   "source": [
    "# 2. Create a document-term matrix and do some basic diagnostics (more manual approach)\n",
    "\n",
    "Here we'll create a DTM first using the raw documents; in the activity, you'll create one using the preprocessed docs\n",
    "that you created in activity 1"
   ]
  },
  {
   "cell_type": "markdown",
   "metadata": {},
   "source": [
    "## 2.1 Define the dtm function and select data to transform into a document-term matrix"
   ]
  },
  {
   "cell_type": "code",
   "execution_count": 64,
   "metadata": {},
   "outputs": [],
   "source": [
    "## function provided\n",
    "def create_dtm(list_of_strings, metadata):\n",
    "    \"\"\" \n",
    "    Function to create dense document-term matrix (DTM) from a list of strings and provided metadata. \n",
    "    A sparse DTM is a list of term_index/doc_index tuples: if a given term occurs in a given doc at least once, \n",
    "        then this count is listed as a tuple; if not, that term/doc pair is omitted. \n",
    "    In a dense DTM, each row is one text (e.g., an Airbnb listing), each column is a term, and \n",
    "        each cell indicates the frequency of that word in that text. \n",
    "    \n",
    "    Parameters:\n",
    "        list_of_strings (Series): each row contains a preprocessed string (need not be tokenized)\n",
    "        metadata (DataFrame): contains document-level covariates\n",
    "    \n",
    "    Returns:\n",
    "        Dense DTM with metadata on left and then one column per word in lexicon\n",
    "    \"\"\"\n",
    "    \n",
    "    # initialize a sklearn tokenizer; this helps us tokenize the preprocessed string input\n",
    "    vectorizer = CountVectorizer(lowercase = True) \n",
    "    dtm_sparse = vectorizer.fit_transform(list_of_strings)\n",
    "    print('Sparse matrix form:\\n', dtm_sparse[:3]) # take a look at sparse representation\n",
    "    print()\n",
    "    \n",
    "    # switch the dataframe from the sparse representation to the normal dense representation (so we can treat it as regular dataframe)\n",
    "    dtm_dense_named = pd.DataFrame(dtm_sparse.todense(), columns=vectorizer.get_feature_names_out ())\n",
    "    print('Dense matrix form:\\n', dtm_dense_named.head()) # take a look at dense representation\n",
    "    dtm_dense_named_withid = pd.concat([metadata.reset_index(), dtm_dense_named], axis = 1) # add back document-level covariates\n",
    "\n",
    "    return(dtm_dense_named_withid)"
   ]
  },
  {
   "cell_type": "code",
   "execution_count": 65,
   "metadata": {},
   "outputs": [
    {
     "data": {
      "text/html": [
       "<div>\n",
       "<style scoped>\n",
       "    .dataframe tbody tr th:only-of-type {\n",
       "        vertical-align: middle;\n",
       "    }\n",
       "\n",
       "    .dataframe tbody tr th {\n",
       "        vertical-align: top;\n",
       "    }\n",
       "\n",
       "    .dataframe thead th {\n",
       "        text-align: right;\n",
       "    }\n",
       "</style>\n",
       "<table border=\"1\" class=\"dataframe\">\n",
       "  <thead>\n",
       "    <tr style=\"text-align: right;\">\n",
       "      <th></th>\n",
       "      <th>id</th>\n",
       "      <th>neighbourhood_group</th>\n",
       "      <th>price_rawdata</th>\n",
       "      <th>name</th>\n",
       "      <th>name_lower</th>\n",
       "    </tr>\n",
       "  </thead>\n",
       "  <tbody>\n",
       "    <tr>\n",
       "      <th>23821</th>\n",
       "      <td>19227560</td>\n",
       "      <td>Queens</td>\n",
       "      <td>100</td>\n",
       "      <td>Super Cozy!</td>\n",
       "      <td>super cozy!</td>\n",
       "    </tr>\n",
       "    <tr>\n",
       "      <th>22905</th>\n",
       "      <td>18560625</td>\n",
       "      <td>Brooklyn</td>\n",
       "      <td>30</td>\n",
       "      <td>Beautiful Private Bedroom by Prospect Park</td>\n",
       "      <td>beautiful private bedroom by prospect park</td>\n",
       "    </tr>\n",
       "    <tr>\n",
       "      <th>20426</th>\n",
       "      <td>16289576</td>\n",
       "      <td>Manhattan</td>\n",
       "      <td>80</td>\n",
       "      <td>Best Location on the Upper West Side! - Part II</td>\n",
       "      <td>best location on the upper west side! - part ii</td>\n",
       "    </tr>\n",
       "    <tr>\n",
       "      <th>2018</th>\n",
       "      <td>893413</td>\n",
       "      <td>Manhattan</td>\n",
       "      <td>2500</td>\n",
       "      <td>Architecturally Stunning Former Synagogue!</td>\n",
       "      <td>architecturally stunning former synagogue!</td>\n",
       "    </tr>\n",
       "    <tr>\n",
       "      <th>18790</th>\n",
       "      <td>14882137</td>\n",
       "      <td>Queens</td>\n",
       "      <td>50</td>\n",
       "      <td>Large, beautiful room near Bushwick</td>\n",
       "      <td>large, beautiful room near bushwick</td>\n",
       "    </tr>\n",
       "  </tbody>\n",
       "</table>\n",
       "</div>"
      ],
      "text/plain": [
       "             id neighbourhood_group  price_rawdata  \\\n",
       "23821  19227560              Queens            100   \n",
       "22905  18560625            Brooklyn             30   \n",
       "20426  16289576           Manhattan             80   \n",
       "2018     893413           Manhattan           2500   \n",
       "18790  14882137              Queens             50   \n",
       "\n",
       "                                                  name  \\\n",
       "23821                                      Super Cozy!   \n",
       "22905       Beautiful Private Bedroom by Prospect Park   \n",
       "20426  Best Location on the Upper West Side! - Part II   \n",
       "2018        Architecturally Stunning Former Synagogue!   \n",
       "18790              Large, beautiful room near Bushwick   \n",
       "\n",
       "                                            name_lower  \n",
       "23821                                      super cozy!  \n",
       "22905       beautiful private bedroom by prospect park  \n",
       "20426  best location on the upper west side! - part ii  \n",
       "2018        architecturally stunning former synagogue!  \n",
       "18790              large, beautiful room near bushwick  "
      ]
     },
     "execution_count": 65,
     "metadata": {},
     "output_type": "execute_result"
    }
   ],
   "source": [
    "\n",
    "## filter out na's\n",
    "## for shorter runtime, random sampling of 1000\n",
    "## get metadata for those\n",
    "## and also renaming price col since it's likely to be corpus word\n",
    "ab_small = ab.loc[~ab.name.isnull(),\n",
    "           ['id', 'neighbourhood_group', 'price', 'name']].copy().rename(columns = {'price':\n",
    "            'price_rawdata'}).sample(n = 1000, random_state = 422)\n",
    "\n",
    "ab_small['name_lower'] = ab_small['name'].str.lower()\n",
    "ab_small.head()"
   ]
  },
  {
   "cell_type": "markdown",
   "metadata": {},
   "source": [
    "## 2.2 Execute the dtm function to create the document-term matrix"
   ]
  },
  {
   "cell_type": "code",
   "execution_count": 66,
   "metadata": {},
   "outputs": [
    {
     "name": "stdout",
     "output_type": "stream",
     "text": [
      "Sparse matrix form:\n",
      "   (0, 841)\t1\n",
      "  (0, 281)\t1\n",
      "  (1, 152)\t1\n",
      "  (1, 693)\t1\n",
      "  (1, 157)\t1\n",
      "  (1, 205)\t1\n",
      "  (1, 698)\t1\n",
      "  (1, 653)\t1\n",
      "  (2, 165)\t1\n",
      "  (2, 537)\t1\n",
      "  (2, 637)\t1\n",
      "  (2, 856)\t1\n",
      "  (2, 902)\t1\n",
      "  (2, 939)\t1\n",
      "  (2, 774)\t1\n",
      "  (2, 657)\t1\n",
      "  (2, 471)\t1\n",
      "\n",
      "Dense matrix form:\n",
      "    001  10  10m  10min  10mins  1100  12mins  14  15  15min  ...  yoga  york  \\\n",
      "0    0   0    0      0       0     0       0   0   0      0  ...     0     0   \n",
      "1    0   0    0      0       0     0       0   0   0      0  ...     0     0   \n",
      "2    0   0    0      0       0     0       0   0   0      0  ...     0     0   \n",
      "3    0   0    0      0       0     0       0   0   0      0  ...     0     0   \n",
      "4    0   0    0      0       0     0       0   0   0      0  ...     0     0   \n",
      "\n",
      "   you  your  yu  zen  ღღღsteps  法拉盛中心私人房間獨立衛浴  溫馨大套房  獨一無二的紐約閣樓  \n",
      "0    0     0   0    0         0              0      0          0  \n",
      "1    0     0   0    0         0              0      0          0  \n",
      "2    0     0   0    0         0              0      0          0  \n",
      "3    0     0   0    0         0              0      0          0  \n",
      "4    0     0   0    0         0              0      0          0  \n",
      "\n",
      "[5 rows x 970 columns]\n"
     ]
    }
   ],
   "source": [
    "## example application on raw lowercase texts; \n",
    "dtm_nopre = create_dtm(list_of_strings= ab_small.name_lower,\n",
    "                      metadata = ab_small[['id', 'neighbourhood_group', 'price_rawdata']])\n",
    "\n"
   ]
  },
  {
   "cell_type": "code",
   "execution_count": 67,
   "metadata": {},
   "outputs": [
    {
     "data": {
      "text/html": [
       "<div>\n",
       "<style scoped>\n",
       "    .dataframe tbody tr th:only-of-type {\n",
       "        vertical-align: middle;\n",
       "    }\n",
       "\n",
       "    .dataframe tbody tr th {\n",
       "        vertical-align: top;\n",
       "    }\n",
       "\n",
       "    .dataframe thead th {\n",
       "        text-align: right;\n",
       "    }\n",
       "</style>\n",
       "<table border=\"1\" class=\"dataframe\">\n",
       "  <thead>\n",
       "    <tr style=\"text-align: right;\">\n",
       "      <th></th>\n",
       "      <th>index</th>\n",
       "      <th>id</th>\n",
       "      <th>neighbourhood_group</th>\n",
       "      <th>price_rawdata</th>\n",
       "      <th>001</th>\n",
       "      <th>10</th>\n",
       "      <th>10m</th>\n",
       "      <th>10min</th>\n",
       "      <th>10mins</th>\n",
       "      <th>1100</th>\n",
       "      <th>...</th>\n",
       "      <th>yoga</th>\n",
       "      <th>york</th>\n",
       "      <th>you</th>\n",
       "      <th>your</th>\n",
       "      <th>yu</th>\n",
       "      <th>zen</th>\n",
       "      <th>ღღღsteps</th>\n",
       "      <th>法拉盛中心私人房間獨立衛浴</th>\n",
       "      <th>溫馨大套房</th>\n",
       "      <th>獨一無二的紐約閣樓</th>\n",
       "    </tr>\n",
       "  </thead>\n",
       "  <tbody>\n",
       "    <tr>\n",
       "      <th>0</th>\n",
       "      <td>23821</td>\n",
       "      <td>19227560</td>\n",
       "      <td>Queens</td>\n",
       "      <td>100</td>\n",
       "      <td>0</td>\n",
       "      <td>0</td>\n",
       "      <td>0</td>\n",
       "      <td>0</td>\n",
       "      <td>0</td>\n",
       "      <td>0</td>\n",
       "      <td>...</td>\n",
       "      <td>0</td>\n",
       "      <td>0</td>\n",
       "      <td>0</td>\n",
       "      <td>0</td>\n",
       "      <td>0</td>\n",
       "      <td>0</td>\n",
       "      <td>0</td>\n",
       "      <td>0</td>\n",
       "      <td>0</td>\n",
       "      <td>0</td>\n",
       "    </tr>\n",
       "    <tr>\n",
       "      <th>1</th>\n",
       "      <td>22905</td>\n",
       "      <td>18560625</td>\n",
       "      <td>Brooklyn</td>\n",
       "      <td>30</td>\n",
       "      <td>0</td>\n",
       "      <td>0</td>\n",
       "      <td>0</td>\n",
       "      <td>0</td>\n",
       "      <td>0</td>\n",
       "      <td>0</td>\n",
       "      <td>...</td>\n",
       "      <td>0</td>\n",
       "      <td>0</td>\n",
       "      <td>0</td>\n",
       "      <td>0</td>\n",
       "      <td>0</td>\n",
       "      <td>0</td>\n",
       "      <td>0</td>\n",
       "      <td>0</td>\n",
       "      <td>0</td>\n",
       "      <td>0</td>\n",
       "    </tr>\n",
       "    <tr>\n",
       "      <th>2</th>\n",
       "      <td>20426</td>\n",
       "      <td>16289576</td>\n",
       "      <td>Manhattan</td>\n",
       "      <td>80</td>\n",
       "      <td>0</td>\n",
       "      <td>0</td>\n",
       "      <td>0</td>\n",
       "      <td>0</td>\n",
       "      <td>0</td>\n",
       "      <td>0</td>\n",
       "      <td>...</td>\n",
       "      <td>0</td>\n",
       "      <td>0</td>\n",
       "      <td>0</td>\n",
       "      <td>0</td>\n",
       "      <td>0</td>\n",
       "      <td>0</td>\n",
       "      <td>0</td>\n",
       "      <td>0</td>\n",
       "      <td>0</td>\n",
       "      <td>0</td>\n",
       "    </tr>\n",
       "    <tr>\n",
       "      <th>3</th>\n",
       "      <td>2018</td>\n",
       "      <td>893413</td>\n",
       "      <td>Manhattan</td>\n",
       "      <td>2500</td>\n",
       "      <td>0</td>\n",
       "      <td>0</td>\n",
       "      <td>0</td>\n",
       "      <td>0</td>\n",
       "      <td>0</td>\n",
       "      <td>0</td>\n",
       "      <td>...</td>\n",
       "      <td>0</td>\n",
       "      <td>0</td>\n",
       "      <td>0</td>\n",
       "      <td>0</td>\n",
       "      <td>0</td>\n",
       "      <td>0</td>\n",
       "      <td>0</td>\n",
       "      <td>0</td>\n",
       "      <td>0</td>\n",
       "      <td>0</td>\n",
       "    </tr>\n",
       "    <tr>\n",
       "      <th>4</th>\n",
       "      <td>18790</td>\n",
       "      <td>14882137</td>\n",
       "      <td>Queens</td>\n",
       "      <td>50</td>\n",
       "      <td>0</td>\n",
       "      <td>0</td>\n",
       "      <td>0</td>\n",
       "      <td>0</td>\n",
       "      <td>0</td>\n",
       "      <td>0</td>\n",
       "      <td>...</td>\n",
       "      <td>0</td>\n",
       "      <td>0</td>\n",
       "      <td>0</td>\n",
       "      <td>0</td>\n",
       "      <td>0</td>\n",
       "      <td>0</td>\n",
       "      <td>0</td>\n",
       "      <td>0</td>\n",
       "      <td>0</td>\n",
       "      <td>0</td>\n",
       "    </tr>\n",
       "  </tbody>\n",
       "</table>\n",
       "<p>5 rows × 974 columns</p>\n",
       "</div>"
      ],
      "text/plain": [
       "   index        id neighbourhood_group  price_rawdata  001  10  10m  10min  \\\n",
       "0  23821  19227560              Queens            100    0   0    0      0   \n",
       "1  22905  18560625            Brooklyn             30    0   0    0      0   \n",
       "2  20426  16289576           Manhattan             80    0   0    0      0   \n",
       "3   2018    893413           Manhattan           2500    0   0    0      0   \n",
       "4  18790  14882137              Queens             50    0   0    0      0   \n",
       "\n",
       "   10mins  1100  ...  yoga  york  you  your  yu  zen  ღღღsteps  法拉盛中心私人房間獨立衛浴  \\\n",
       "0       0     0  ...     0     0    0     0   0    0         0              0   \n",
       "1       0     0  ...     0     0    0     0   0    0         0              0   \n",
       "2       0     0  ...     0     0    0     0   0    0         0              0   \n",
       "3       0     0  ...     0     0    0     0   0    0         0              0   \n",
       "4       0     0  ...     0     0    0     0   0    0         0              0   \n",
       "\n",
       "   溫馨大套房  獨一無二的紐約閣樓  \n",
       "0      0          0  \n",
       "1      0          0  \n",
       "2      0          0  \n",
       "3      0          0  \n",
       "4      0          0  \n",
       "\n",
       "[5 rows x 974 columns]"
      ]
     },
     "execution_count": 67,
     "metadata": {},
     "output_type": "execute_result"
    },
    {
     "data": {
      "text/plain": [
       "(1000, 974)"
      ]
     },
     "execution_count": 67,
     "metadata": {},
     "output_type": "execute_result"
    },
    {
     "data": {
      "text/html": [
       "<div>\n",
       "<style scoped>\n",
       "    .dataframe tbody tr th:only-of-type {\n",
       "        vertical-align: middle;\n",
       "    }\n",
       "\n",
       "    .dataframe tbody tr th {\n",
       "        vertical-align: top;\n",
       "    }\n",
       "\n",
       "    .dataframe thead th {\n",
       "        text-align: right;\n",
       "    }\n",
       "</style>\n",
       "<table border=\"1\" class=\"dataframe\">\n",
       "  <thead>\n",
       "    <tr style=\"text-align: right;\">\n",
       "      <th></th>\n",
       "      <th>inclusive</th>\n",
       "      <th>incredible</th>\n",
       "      <th>incredibly</th>\n",
       "      <th>indoor</th>\n",
       "      <th>inn</th>\n",
       "      <th>inq</th>\n",
       "      <th>insane</th>\n",
       "      <th>int</th>\n",
       "      <th>interior</th>\n",
       "      <th>international</th>\n",
       "      <th>interns</th>\n",
       "      <th>invincible</th>\n",
       "      <th>inviting</th>\n",
       "      <th>inwood</th>\n",
       "      <th>island</th>\n",
       "      <th>it</th>\n",
       "      <th>italy</th>\n",
       "      <th>its</th>\n",
       "      <th>jefferson</th>\n",
       "      <th>jewel</th>\n",
       "    </tr>\n",
       "  </thead>\n",
       "  <tbody>\n",
       "    <tr>\n",
       "      <th>0</th>\n",
       "      <td>0</td>\n",
       "      <td>0</td>\n",
       "      <td>0</td>\n",
       "      <td>0</td>\n",
       "      <td>0</td>\n",
       "      <td>0</td>\n",
       "      <td>0</td>\n",
       "      <td>0</td>\n",
       "      <td>0</td>\n",
       "      <td>0</td>\n",
       "      <td>0</td>\n",
       "      <td>0</td>\n",
       "      <td>0</td>\n",
       "      <td>0</td>\n",
       "      <td>0</td>\n",
       "      <td>0</td>\n",
       "      <td>0</td>\n",
       "      <td>0</td>\n",
       "      <td>0</td>\n",
       "      <td>0</td>\n",
       "    </tr>\n",
       "    <tr>\n",
       "      <th>1</th>\n",
       "      <td>0</td>\n",
       "      <td>0</td>\n",
       "      <td>0</td>\n",
       "      <td>0</td>\n",
       "      <td>0</td>\n",
       "      <td>0</td>\n",
       "      <td>0</td>\n",
       "      <td>0</td>\n",
       "      <td>0</td>\n",
       "      <td>0</td>\n",
       "      <td>0</td>\n",
       "      <td>0</td>\n",
       "      <td>0</td>\n",
       "      <td>0</td>\n",
       "      <td>0</td>\n",
       "      <td>0</td>\n",
       "      <td>0</td>\n",
       "      <td>0</td>\n",
       "      <td>0</td>\n",
       "      <td>0</td>\n",
       "    </tr>\n",
       "    <tr>\n",
       "      <th>2</th>\n",
       "      <td>0</td>\n",
       "      <td>0</td>\n",
       "      <td>0</td>\n",
       "      <td>0</td>\n",
       "      <td>0</td>\n",
       "      <td>0</td>\n",
       "      <td>0</td>\n",
       "      <td>0</td>\n",
       "      <td>0</td>\n",
       "      <td>0</td>\n",
       "      <td>0</td>\n",
       "      <td>0</td>\n",
       "      <td>0</td>\n",
       "      <td>0</td>\n",
       "      <td>0</td>\n",
       "      <td>0</td>\n",
       "      <td>0</td>\n",
       "      <td>0</td>\n",
       "      <td>0</td>\n",
       "      <td>0</td>\n",
       "    </tr>\n",
       "    <tr>\n",
       "      <th>3</th>\n",
       "      <td>0</td>\n",
       "      <td>0</td>\n",
       "      <td>0</td>\n",
       "      <td>0</td>\n",
       "      <td>0</td>\n",
       "      <td>0</td>\n",
       "      <td>0</td>\n",
       "      <td>0</td>\n",
       "      <td>0</td>\n",
       "      <td>0</td>\n",
       "      <td>0</td>\n",
       "      <td>0</td>\n",
       "      <td>0</td>\n",
       "      <td>0</td>\n",
       "      <td>0</td>\n",
       "      <td>0</td>\n",
       "      <td>0</td>\n",
       "      <td>0</td>\n",
       "      <td>0</td>\n",
       "      <td>0</td>\n",
       "    </tr>\n",
       "    <tr>\n",
       "      <th>4</th>\n",
       "      <td>0</td>\n",
       "      <td>0</td>\n",
       "      <td>0</td>\n",
       "      <td>0</td>\n",
       "      <td>0</td>\n",
       "      <td>0</td>\n",
       "      <td>0</td>\n",
       "      <td>0</td>\n",
       "      <td>0</td>\n",
       "      <td>0</td>\n",
       "      <td>0</td>\n",
       "      <td>0</td>\n",
       "      <td>0</td>\n",
       "      <td>0</td>\n",
       "      <td>0</td>\n",
       "      <td>0</td>\n",
       "      <td>0</td>\n",
       "      <td>0</td>\n",
       "      <td>0</td>\n",
       "      <td>0</td>\n",
       "    </tr>\n",
       "  </tbody>\n",
       "</table>\n",
       "</div>"
      ],
      "text/plain": [
       "   inclusive  incredible  incredibly  indoor  inn  inq  insane  int  interior  \\\n",
       "0          0           0           0       0    0    0       0    0         0   \n",
       "1          0           0           0       0    0    0       0    0         0   \n",
       "2          0           0           0       0    0    0       0    0         0   \n",
       "3          0           0           0       0    0    0       0    0         0   \n",
       "4          0           0           0       0    0    0       0    0         0   \n",
       "\n",
       "   international  interns  invincible  inviting  inwood  island  it  italy  \\\n",
       "0              0        0           0         0       0       0   0      0   \n",
       "1              0        0           0         0       0       0   0      0   \n",
       "2              0        0           0         0       0       0   0      0   \n",
       "3              0        0           0         0       0       0   0      0   \n",
       "4              0        0           0         0       0       0   0      0   \n",
       "\n",
       "   its  jefferson  jewel  \n",
       "0    0          0      0  \n",
       "1    0          0      0  \n",
       "2    0          0      0  \n",
       "3    0          0      0  \n",
       "4    0          0      0  "
      ]
     },
     "execution_count": 67,
     "metadata": {},
     "output_type": "execute_result"
    }
   ],
   "source": [
    "## show first set of rows/cols\n",
    "dtm_nopre.head()\n",
    "\n",
    "## show arbitrary later cols in resulting data\n",
    "dtm_nopre.shape\n",
    "dtm_nopre.iloc[0:5, 480:500]"
   ]
  },
  {
   "cell_type": "markdown",
   "metadata": {},
   "source": [
    "## 2.3 Use that matrix/column sums to get basic summary stats of top words"
   ]
  },
  {
   "cell_type": "code",
   "execution_count": 68,
   "metadata": {},
   "outputs": [
    {
     "data": {
      "text/plain": [
       "in           367\n",
       "room         244\n",
       "private      163\n",
       "bedroom      152\n",
       "apartment    130\n",
       "            ... \n",
       "gay            1\n",
       "gente          1\n",
       "geodesic       1\n",
       "george         1\n",
       "獨一無二的紐約閣樓      1\n",
       "Length: 970, dtype: int64"
      ]
     },
     "execution_count": 68,
     "metadata": {},
     "output_type": "execute_result"
    }
   ],
   "source": [
    "## summing each col\n",
    "top_terms = dtm_nopre[dtm_nopre.columns[4:]].sum(axis = 0)\n",
    "\n",
    "## sorting from most frequent to least frequent\n",
    "top_terms.sort_values(ascending = False)"
   ]
  },
  {
   "cell_type": "markdown",
   "metadata": {},
   "source": [
    "## 2.4 Activity 2: repeat the above but using the preprocessed text data\n",
    "\n",
    "- Stick with the same random sample of 1000 `ab_small`\n",
    "- Apply the preprocessing steps from activity 1 to create a new column in `ab_small` with the preprocessed text (if you got stuck on that, try just removing stopwords)\n",
    "- Use the `create_dtm` function to create a document-term matrix from the preprocessed data\n",
    "- Use colsums to summarize"
   ]
  },
  {
   "cell_type": "code",
   "execution_count": 69,
   "metadata": {},
   "outputs": [
    {
     "name": "stdout",
     "output_type": "stream",
     "text": [
      "Sparse matrix form:\n",
      "   (0, 646)\t1\n",
      "  (0, 170)\t1\n",
      "  (1, 60)\t1\n",
      "  (1, 516)\t1\n",
      "  (1, 65)\t1\n",
      "  (1, 519)\t1\n",
      "  (1, 480)\t1\n",
      "  (2, 70)\t1\n",
      "  (2, 388)\t1\n",
      "  (2, 697)\t1\n",
      "  (2, 729)\t1\n",
      "  (2, 584)\t1\n",
      "  (2, 482)\t1\n",
      "\n",
      "Dense matrix form:\n",
      "    abcd  abod  access  acidot  acogedor  across  address  ador  aesthet  \\\n",
      "0     0     0       0       0         0       0        0     0        0   \n",
      "1     0     0       0       0         0       0        0     0        0   \n",
      "2     0     0       0       0         0       0        0     0        0   \n",
      "3     0     0       0       0         0       0        0     0        0   \n",
      "4     0     0       0       0         0       0        0     0        0   \n",
      "\n",
      "   afford  ...  yard  year  yellow  yoga  york  zen  ღღღstep  法拉盛中心私人房間獨立衛浴  \\\n",
      "0       0  ...     0     0       0     0     0    0        0              0   \n",
      "1       0  ...     0     0       0     0     0    0        0              0   \n",
      "2       0  ...     0     0       0     0     0    0        0              0   \n",
      "3       0  ...     0     0       0     0     0    0        0              0   \n",
      "4       0  ...     0     0       0     0     0    0        0              0   \n",
      "\n",
      "   溫馨大套房  獨一無二的紐約閣樓  \n",
      "0      0          0  \n",
      "1      0          0  \n",
      "2      0          0  \n",
      "3      0          0  \n",
      "4      0          0  \n",
      "\n",
      "[5 rows x 753 columns]\n"
     ]
    },
    {
     "data": {
      "text/plain": [
       "room         246\n",
       "privat       165\n",
       "bedroom      159\n",
       "cozi          97\n",
       "apt           91\n",
       "            ... \n",
       "homey          1\n",
       "hipstest       1\n",
       "hillsid        1\n",
       "highclass      1\n",
       "獨一無二的紐約閣樓      1\n",
       "Length: 753, dtype: int64"
      ]
     },
     "execution_count": 69,
     "metadata": {},
     "output_type": "execute_result"
    }
   ],
   "source": [
    "## your code here \n",
    "ab_small[\"preprocessed\"] = ab_small.name_lower.apply(process_string)\n",
    "metadata_list = ['id', 'neighbourhood_group', 'price_rawdata']\n",
    "dtm_pre = create_dtm(list_of_strings= ab_small.preprocessed,\n",
    "                metadata = ab_small[metadata_list])\n",
    "dtm_pre_termsonly = dtm_pre[[col for col in dtm_pre.columns\n",
    "                             if col not in metadata_list and\n",
    "                             col != \"index\"]]\n",
    "dtm_pre_termsonly.sum().sort_values(ascending = False)"
   ]
  },
  {
   "cell_type": "markdown",
   "metadata": {},
   "source": [
    "# 3. Use gensim to more automatically preprocess/estimate a topic model"
   ]
  },
  {
   "cell_type": "markdown",
   "metadata": {},
   "source": [
    "## 3.1 Creating the objects to feed the LDA modeling function\n",
    "\n",
    "Different outputs described below: \n",
    "- Tokenized and preprocessed text \n",
    "- Dictionary \n",
    "- Corpus "
   ]
  },
  {
   "cell_type": "code",
   "execution_count": 70,
   "metadata": {},
   "outputs": [
    {
     "data": {
      "text/plain": [
       "{0: '!', 1: 'cozy', 2: 'super', 3: 'beautiful', 4: 'bedroom'}"
      ]
     },
     "execution_count": 70,
     "metadata": {},
     "output_type": "execute_result"
    },
    {
     "name": "stdout",
     "output_type": "stream",
     "text": [
      "Filtering out very rare and very common words reduced the length of dictionary from 1047 to 31.\n"
     ]
    },
    {
     "data": {
      "text/plain": [
       "{0: '!', 1: 'cozy', 2: 'beautiful', 3: 'bedroom', 4: 'park'}"
      ]
     },
     "execution_count": 70,
     "metadata": {},
     "output_type": "execute_result"
    },
    {
     "name": "stdout",
     "output_type": "stream",
     "text": [
      "Sample of documents represented in dictionary format (with omitted words noted):\n"
     ]
    },
    {
     "data": {
      "text/plain": [
       "[([(0, 1), (1, 1)], {'super': 1}),\n",
       " ([(2, 1), (3, 1), (4, 1), (5, 1)], {'by': 1, 'prospect': 1}),\n",
       " ([(0, 1), (6, 1), (7, 1)],\n",
       "  {'best': 1,\n",
       "   'ii': 1,\n",
       "   'location': 1,\n",
       "   'on': 1,\n",
       "   'part': 1,\n",
       "   'side': 1,\n",
       "   'upper': 1,\n",
       "   'west': 1}),\n",
       " ([(0, 1)],\n",
       "  {'architecturally': 1, 'former': 1, 'stunning': 1, 'synagogue': 1}),\n",
       " ([(2, 1), (8, 1), (9, 1), (10, 1), (11, 1)], {'bushwick': 1}),\n",
       " ([(4, 1), (8, 1), (9, 1), (12, 1), (13, 2)],\n",
       "  {'bath': 1, 'bed': 1, 'by': 1, 'central': 1, 'college': 1, 'hunter': 1}),\n",
       " ([(9, 1), (11, 1), (14, 1), (15, 1)], {'bohemian': 1, 'brownstone': 1}),\n",
       " ([(16, 1)],\n",
       "  {'fidi': 1, 'huge': 1, 'loft': 1, 'views': 1, 'w': 1, 'water': 1}),\n",
       " ([], {'hillside': 1, 'hotel': 1}),\n",
       " ([(5, 1), (9, 1), (11, 1), (14, 1), (15, 1)], {'airy': 1})]"
      ]
     },
     "execution_count": 70,
     "metadata": {},
     "output_type": "execute_result"
    }
   ],
   "source": [
    "\n",
    "## Step 1: re-tokenize and store in list\n",
    "## here, i'm doing with the raw random sample of text\n",
    "## in activity, you should do with the preprocessed texts\n",
    "text_raw_tokens = [wordpunct_tokenize(one_text) for one_text in \n",
    "                  ab_small.name_lower]\n",
    "\n",
    "\n",
    "## Step 2: use gensim create dictionary - gets all unique words across documents\n",
    "text_raw_dict = corpora.Dictionary(text_raw_tokens)\n",
    "raw_len = len(text_raw_dict) # get length for comparison below\n",
    "\n",
    "### explore first few keys and values\n",
    "### see that key is just an arbitrary counter; value is the word itself\n",
    "{k: text_raw_dict[k] for k in list(text_raw_dict)[:5]}\n",
    "\n",
    "\n",
    "## Step 3: filter out very rare and very common words\n",
    "## here, i'm using the threshold that a word needs to appear in at least\n",
    "## 5% of docs but not more than 95%\n",
    "## this is an integer count of docs so i round\n",
    "lower_bound = round(ab_small.shape[0]*0.05)\n",
    "upper_bound = round(ab_small.shape[0]*0.95)\n",
    "\n",
    "### apply filtering to dictionary\n",
    "text_raw_dict.filter_extremes(no_below = lower_bound,\n",
    "                             no_above = upper_bound)\n",
    "print(f'Filtering out very rare and very common words reduced the \\\n",
    "length of dictionary from {str(raw_len)} to {str(len(text_raw_dict))}.')\n",
    "{k: text_raw_dict[k] for k in list(text_raw_dict)[:5]} # show first five entries after filtering\n",
    "\n",
    "\n",
    "## Step 4: apply dictionary to TOKENIZED texts\n",
    "## this creates a mapping between each word \n",
    "## in a specific listing and the key in the dictionary.\n",
    "## for words that remain in the filtered dictionary,\n",
    "## output is a list where len(list) == n documents\n",
    "## and each element in the list is a list of tuples\n",
    "## containing the mappings\n",
    "corpus_fromdict = [text_raw_dict.doc2bow(one_text) \n",
    "                   for one_text in text_raw_tokens]\n",
    "\n",
    "### can apply doc2bow(one_text, return_missing = True) to print words\n",
    "### eliminated from the listing bc they're not in filtered dictionary.\n",
    "### but feeding that one with missing values to\n",
    "### the lda function can cause errors\n",
    "corpus_fromdict_showmiss = [text_raw_dict.doc2bow(one_text, return_missing = True)\n",
    "                            for one_text in text_raw_tokens]\n",
    "print('Sample of documents represented in dictionary format (with omitted words noted):')\n",
    "corpus_fromdict_showmiss[:10]"
   ]
  },
  {
   "cell_type": "markdown",
   "metadata": {},
   "source": [
    "##  3.2 Estimating the model"
   ]
  },
  {
   "cell_type": "code",
   "execution_count": 71,
   "metadata": {},
   "outputs": [
    {
     "name": "stdout",
     "output_type": "stream",
     "text": [
      "<class 'gensim.models.ldamodel.LdaModel'>\n"
     ]
    }
   ],
   "source": [
    "## Step 5: we're finally ready to estimate the model!\n",
    "## full documentation here - https://radimrehurek.com/gensim/models/ldamodel.html\n",
    "## here, we're feeding the lda function:\n",
    "## (1) the corpus we created from the dictionary,\n",
    "## (2) a parameter we decide on for the number of topics (k),\n",
    "## (3) the dictionary itself,\n",
    "## (4) parameter for number of passes through training data (more means slower), and\n",
    "## (5) parameter that returns, for each word remaining in dict, the topic probabilities.\n",
    "## see documentation for many other arguments you can vary\n",
    "ldamod = gensim.models.ldamodel.LdaModel(corpus_fromdict, \n",
    "                                         num_topics = 5, \n",
    "                                         id2word=text_raw_dict, \n",
    "                                         passes=6, \n",
    "                                         alpha = 'auto',\n",
    "                                         per_word_topics = True)\n",
    "\n",
    "print(type(ldamod))\n",
    "\n"
   ]
  },
  {
   "cell_type": "markdown",
   "metadata": {},
   "source": [
    "## 3.3  Seeing what topics the estimated model discovers"
   ]
  },
  {
   "cell_type": "code",
   "execution_count": 72,
   "metadata": {},
   "outputs": [
    {
     "name": "stdout",
     "output_type": "stream",
     "text": [
      "(0, '0.171*\"in\" + 0.111*\"room\" + 0.104*\"apartment\" + 0.094*\"2\" + 0.086*\"williamsburg\" + 0.077*\"bedroom\" + 0.045*\"large\" + 0.040*\"beautiful\" + 0.033*\"brooklyn\" + 0.032*\"cozy\"')\n",
      "(1, '0.134*\"in\" + 0.110*\"1\" + 0.097*\"brooklyn\" + 0.075*\"spacious\" + 0.073*\"-\" + 0.065*\"apartment\" + 0.059*\"and\" + 0.052*\"studio\" + 0.038*\"room\" + 0.037*\"sunny\"')\n",
      "(2, '0.148*\"private\" + 0.126*\"in\" + 0.124*\"room\" + 0.090*\"bedroom\" + 0.074*\"with\" + 0.066*\",\" + 0.063*\"cozy\" + 0.056*\"!\" + 0.050*\"apt\" + 0.030*\"sunny\"')\n",
      "(3, '0.114*\"/\" + 0.105*\"-\" + 0.095*\"&\" + 0.095*\"in\" + 0.075*\"studio\" + 0.072*\"the\" + 0.057*\"park\" + 0.048*\"room\" + 0.047*\"apt\" + 0.043*\"to\"')\n",
      "(4, '0.262*\",\" + 0.118*\".\" + 0.103*\"!\" + 0.098*\"manhattan\" + 0.080*\"to\" + 0.049*\"private\" + 0.040*\"of\" + 0.038*\"room\" + 0.023*\"with\" + 0.022*\"apt\"')\n"
     ]
    }
   ],
   "source": [
    "## Post-model 1: explore corpus-wide summary of topics\n",
    "### getting the topics and top words; can retrieve diff top words\n",
    "topics = ldamod.print_topics(num_words = 10)\n",
    "for topic in topics:\n",
    "    print(topic)\n"
   ]
  },
  {
   "cell_type": "code",
   "execution_count": 73,
   "metadata": {},
   "outputs": [
    {
     "data": {
      "text/plain": [
       "[['super', 'cozy', '!'],\n",
       " ['beautiful', 'private', 'bedroom', 'by', 'prospect', 'park'],\n",
       " ['best',\n",
       "  'location',\n",
       "  'on',\n",
       "  'the',\n",
       "  'upper',\n",
       "  'west',\n",
       "  'side',\n",
       "  '!',\n",
       "  '-',\n",
       "  'part',\n",
       "  'ii'],\n",
       " ['architecturally', 'stunning', 'former', 'synagogue', '!'],\n",
       " ['large', ',', 'beautiful', 'room', 'near', 'bushwick']]"
      ]
     },
     "execution_count": 73,
     "metadata": {},
     "output_type": "execute_result"
    },
    {
     "data": {
      "text/plain": [
       "[[(0, 0.06191041),\n",
       "  (1, 0.0583538),\n",
       "  (2, 0.78064334),\n",
       "  (3, 0.051410276),\n",
       "  (4, 0.047682144)],\n",
       " [(0, 0.8761406),\n",
       "  (1, 0.033805307),\n",
       "  (2, 0.03260667),\n",
       "  (3, 0.029851437),\n",
       "  (4, 0.027596021)],\n",
       " [(0, 0.04546413),\n",
       "  (1, 0.042973652),\n",
       "  (2, 0.04106706),\n",
       "  (3, 0.83537334),\n",
       "  (4, 0.035121802)],\n",
       " [(0, 0.09690956),\n",
       "  (1, 0.09153603),\n",
       "  (2, 0.08749432),\n",
       "  (3, 0.080643155),\n",
       "  (4, 0.64341694)],\n",
       " [(0, 0.68648034),\n",
       "  (1, 0.027949566),\n",
       "  (2, 0.026654072),\n",
       "  (3, 0.024635887),\n",
       "  (4, 0.23428012)]]"
      ]
     },
     "execution_count": 73,
     "metadata": {},
     "output_type": "execute_result"
    }
   ],
   "source": [
    "    \n",
    "## Post-model 2: explore topics associated with each document\n",
    "### for each item in our original dictionary, get list of topic probabilities\n",
    "l=[ldamod.get_document_topics(item) for item in corpus_fromdict]\n",
    "### print result\n",
    "text_raw_tokens[0:5]\n",
    "l[0:5]"
   ]
  },
  {
   "cell_type": "markdown",
   "metadata": {},
   "source": [
    "### Visualizing "
   ]
  },
  {
   "cell_type": "code",
   "execution_count": 74,
   "metadata": {},
   "outputs": [
    {
     "data": {
      "text/html": [
       "\n",
       "<link rel=\"stylesheet\" type=\"text/css\" href=\"https://cdn.jsdelivr.net/gh/bmabey/pyLDAvis@3.4.0/pyLDAvis/js/ldavis.v1.0.0.css\">\n",
       "\n",
       "\n",
       "<div id=\"ldavis_el2175257134422885361731452\" style=\"background-color:white;\"></div>\n",
       "<script type=\"text/javascript\">\n",
       "\n",
       "var ldavis_el2175257134422885361731452_data = {\"mdsDat\": {\"x\": [-0.16009087371475, 0.007136213428471628, -0.07111220638959101, -0.010896224043556271, 0.23496309071942567], \"y\": [-0.06509897201987144, -0.09249967592066545, 0.002816527960558035, 0.18681191601141622, -0.03202979603143726], \"topics\": [1, 2, 3, 4, 5], \"cluster\": [1, 1, 1, 1, 1], \"Freq\": [21.738486233617124, 21.339596934782875, 20.29408516521815, 19.607201016628775, 17.02063064975308]}, \"tinfo\": {\"Term\": [\",\", \".\", \"1\", \"&\", \"williamsburg\", \"private\", \"2\", \"apartment\", \"brooklyn\", \"-\", \"manhattan\", \"/\", \"studio\", \"in\", \"with\", \"bedroom\", \"to\", \"the\", \"spacious\", \"!\", \"and\", \"of\", \"park\", \"room\", \"apt\", \"near\", \"cozy\", \"large\", \"beautiful\", \"sunny\", \"williamsburg\", \"2\", \"apartment\", \"large\", \"beautiful\", \"east\", \"bedroom\", \"near\", \"in\", \"room\", \"of\", \"brooklyn\", \"the\", \"park\", \"cozy\", \"private\", \"!\", \"/\", \"spacious\", \"to\", \"sunny\", \"manhattan\", \"apt\", \",\", \"1\", \"&\", \".\", \"and\", \"with\", \"studio\", \"-\", \"with\", \"private\", \"cozy\", \"bedroom\", \"apt\", \"room\", \"sunny\", \"!\", \"in\", \"spacious\", \",\", \"and\", \"beautiful\", \"2\", \"-\", \"to\", \"/\", \"1\", \"large\", \"williamsburg\", \"brooklyn\", \"apartment\", \"park\", \"&\", \"near\", \"manhattan\", \"east\", \".\", \"of\", \"studio\", \"1\", \"brooklyn\", \"and\", \"spacious\", \"studio\", \"sunny\", \"-\", \"apartment\", \"beautiful\", \"east\", \"in\", \"manhattan\", \"bedroom\", \"apt\", \"cozy\", \"!\", \",\", \"room\", \".\", \"park\", \"near\", \"to\", \"/\", \"the\", \"large\", \"of\", \"private\", \"williamsburg\", \"2\", \"&\", \"&\", \"/\", \"the\", \"studio\", \"park\", \"-\", \"near\", \"of\", \"apt\", \"to\", \"large\", \"east\", \"cozy\", \"in\", \"sunny\", \"spacious\", \"room\", \"private\", \"manhattan\", \"!\", \"beautiful\", \"with\", \"apartment\", \".\", \"brooklyn\", \"williamsburg\", \"and\", \"2\", \"1\", \",\", \"bedroom\", \".\", \"manhattan\", \",\", \"to\", \"!\", \"of\", \"with\", \"large\", \"private\", \"sunny\", \"apt\", \"park\", \"the\", \"east\", \"and\", \"near\", \"/\", \"room\", \"bedroom\", \"studio\", \"apartment\", \"beautiful\", \"-\", \"cozy\", \"2\", \"1\", \"brooklyn\", \"in\", \"&\", \"williamsburg\", \"spacious\"], \"Freq\": [218.0, 74.0, 81.0, 62.0, 64.0, 164.0, 79.0, 124.0, 91.0, 133.0, 81.0, 101.0, 87.0, 357.0, 66.0, 148.0, 91.0, 76.0, 86.0, 132.0, 56.0, 59.0, 71.0, 240.0, 92.0, 55.0, 96.0, 63.0, 57.0, 68.0, 60.754337269421214, 65.83782476770205, 73.55761824045086, 31.56506544187907, 28.104556464930308, 20.96214838303844, 54.07582207150787, 19.05342674388686, 120.08015042966079, 78.15327786526288, 16.30755228931057, 23.50156552004977, 19.618501025355034, 17.664032735879587, 22.31689239530142, 17.408723121135257, 12.132760273670618, 6.014267435060162, 2.5455849870770364, 2.00423913286108, 1.4812755145119458, 1.7469483239524333, 1.652182487275896, 3.5117006734433853, 0.9825038589135474, 0.7515184231461433, 0.7496005911286633, 0.3896765472856797, 0.31349020521640414, 0.36067143848056027, 0.5116289253809273, 51.23666469673133, 102.56440810914489, 43.56928494975864, 61.96872529682897, 34.610957361219896, 85.852019955904, 20.68945387728633, 38.46645133298728, 87.42216737054636, 20.47390924228923, 45.490157001489, 11.137184762974915, 10.26947151476084, 11.969578358836477, 16.69471287777441, 11.390672854782297, 10.710040855473768, 7.466455934019094, 5.1369102449806014, 2.363037175380197, 2.5812770678023873, 3.3235630002448553, 1.6134429240073656, 0.9338089327548267, 0.6566078299746109, 0.5922463684949518, 0.3576128077425916, 0.5240444307192117, 0.3900619095514156, 0.43029081527037183, 72.18274706202682, 64.02984429979229, 38.67037631408715, 49.20305090022081, 34.33865483341215, 24.637994356281514, 47.91723851742273, 42.82672479253544, 15.440492387696764, 12.871779159697956, 88.0900123088505, 17.973303590057508, 24.171298632086724, 14.156856924094688, 12.052246217333897, 15.142041418507572, 24.407539666321444, 25.04684622755386, 7.741675624797816, 6.436168734841492, 4.849172602401187, 6.492912496707909, 2.784815310942468, 1.6593500761989468, 1.0582960133979196, 0.8442428270892803, 1.2710267335386252, 0.2602662125223654, 0.3219851583812498, 0.2513771002977581, 60.64743957337412, 72.66859251103618, 45.45784485465977, 47.56061447499936, 36.46055205102603, 66.38583006683513, 25.512533155780968, 20.312798726504017, 30.134414166378946, 27.607507309977347, 14.212968310565607, 10.883932829421898, 16.841758005811293, 60.2569565120882, 11.388080648032394, 14.361683092446079, 30.31150255234304, 15.779411043175768, 6.9662793253650435, 10.24026154485396, 2.6796051333104853, 2.074733149465503, 1.3619707017018372, 0.7720996670265972, 0.8884064101499914, 0.5479065262841967, 0.4331202095761586, 0.46619637833642413, 0.3808435282394755, 0.9721130373061412, 0.5092872887041832, 65.20567767932513, 53.77340645605123, 144.496437884566, 44.17899961068208, 56.561374778720115, 21.851945066706904, 12.554529394223424, 12.018705025858662, 27.092845922573524, 10.321265526305995, 12.052170815880563, 9.027088283080742, 9.587777353488777, 5.6240944203470535, 5.766878539342763, 5.5927306392903215, 9.041539466357152, 21.02572513052891, 7.7369220056678705, 4.419481037376791, 3.4391066745484378, 1.07038183220545, 2.3467803103020084, 1.5883459273996938, 1.209819757276332, 0.5158903894152519, 0.5274616111840142, 1.8602724147316023, 0.310582863487997, 0.21581959240925094, 0.28418176694615344], \"Total\": [218.0, 74.0, 81.0, 62.0, 64.0, 164.0, 79.0, 124.0, 91.0, 133.0, 81.0, 101.0, 87.0, 357.0, 66.0, 148.0, 91.0, 76.0, 86.0, 132.0, 56.0, 59.0, 71.0, 240.0, 92.0, 55.0, 96.0, 63.0, 57.0, 68.0, 64.14136677601722, 79.80540442053253, 124.50898340948143, 63.991945036681855, 57.56450733290385, 50.69956760024794, 148.46205529479562, 55.66447097133395, 357.7095590358775, 240.3893717315927, 59.70660081916219, 91.52855490897845, 76.62784275377408, 71.20128472883522, 96.36852749560495, 164.11641492956807, 132.54288934873955, 101.21925557886972, 86.8684099889793, 91.67433140501072, 68.51806992241818, 81.05218406392116, 92.60658175484998, 218.87794826312597, 81.52844077261419, 62.89472689306084, 74.99309799299742, 56.397236373266665, 66.37446827306208, 87.10971259953922, 133.8561906977152, 66.37446827306208, 164.11641492956807, 96.36852749560495, 148.46205529479562, 92.60658175484998, 240.3893717315927, 68.51806992241818, 132.54288934873955, 357.7095590358775, 86.8684099889793, 218.87794826312597, 56.397236373266665, 57.56450733290385, 79.80540442053253, 133.8561906977152, 91.67433140501072, 101.21925557886972, 81.52844077261419, 63.991945036681855, 64.14136677601722, 91.52855490897845, 124.50898340948143, 71.20128472883522, 62.89472689306084, 55.66447097133395, 81.05218406392116, 50.69956760024794, 74.99309799299742, 59.70660081916219, 87.10971259953922, 81.52844077261419, 91.52855490897845, 56.397236373266665, 86.8684099889793, 87.10971259953922, 68.51806992241818, 133.8561906977152, 124.50898340948143, 57.56450733290385, 50.69956760024794, 357.7095590358775, 81.05218406392116, 148.46205529479562, 92.60658175484998, 96.36852749560495, 132.54288934873955, 218.87794826312597, 240.3893717315927, 74.99309799299742, 71.20128472883522, 55.66447097133395, 91.67433140501072, 101.21925557886972, 76.62784275377408, 63.991945036681855, 59.70660081916219, 164.11641492956807, 64.14136677601722, 79.80540442053253, 62.89472689306084, 62.89472689306084, 101.21925557886972, 76.62784275377408, 87.10971259953922, 71.20128472883522, 133.8561906977152, 55.66447097133395, 59.70660081916219, 92.60658175484998, 91.67433140501072, 63.991945036681855, 50.69956760024794, 96.36852749560495, 357.7095590358775, 68.51806992241818, 86.8684099889793, 240.3893717315927, 164.11641492956807, 81.05218406392116, 132.54288934873955, 57.56450733290385, 66.37446827306208, 124.50898340948143, 74.99309799299742, 91.52855490897845, 64.14136677601722, 56.397236373266665, 79.80540442053253, 81.52844077261419, 218.87794826312597, 148.46205529479562, 74.99309799299742, 81.05218406392116, 218.87794826312597, 91.67433140501072, 132.54288934873955, 59.70660081916219, 66.37446827306208, 63.991945036681855, 164.11641492956807, 68.51806992241818, 92.60658175484998, 71.20128472883522, 76.62784275377408, 50.69956760024794, 56.397236373266665, 55.66447097133395, 101.21925557886972, 240.3893717315927, 148.46205529479562, 87.10971259953922, 124.50898340948143, 57.56450733290385, 133.8561906977152, 96.36852749560495, 79.80540442053253, 81.52844077261419, 91.52855490897845, 357.7095590358775, 62.89472689306084, 64.14136677601722, 86.8684099889793], \"Category\": [\"Default\", \"Default\", \"Default\", \"Default\", \"Default\", \"Default\", \"Default\", \"Default\", \"Default\", \"Default\", \"Default\", \"Default\", \"Default\", \"Default\", \"Default\", \"Default\", \"Default\", \"Default\", \"Default\", \"Default\", \"Default\", \"Default\", \"Default\", \"Default\", \"Default\", \"Default\", \"Default\", \"Default\", \"Default\", \"Default\", \"Topic1\", \"Topic1\", \"Topic1\", \"Topic1\", \"Topic1\", \"Topic1\", \"Topic1\", \"Topic1\", \"Topic1\", \"Topic1\", \"Topic1\", \"Topic1\", \"Topic1\", \"Topic1\", \"Topic1\", \"Topic1\", \"Topic1\", \"Topic1\", \"Topic1\", \"Topic1\", \"Topic1\", \"Topic1\", \"Topic1\", \"Topic1\", \"Topic1\", \"Topic1\", \"Topic1\", \"Topic1\", \"Topic1\", \"Topic1\", \"Topic1\", \"Topic2\", \"Topic2\", \"Topic2\", \"Topic2\", \"Topic2\", \"Topic2\", \"Topic2\", \"Topic2\", \"Topic2\", \"Topic2\", \"Topic2\", \"Topic2\", \"Topic2\", \"Topic2\", \"Topic2\", \"Topic2\", \"Topic2\", \"Topic2\", \"Topic2\", \"Topic2\", \"Topic2\", \"Topic2\", \"Topic2\", \"Topic2\", \"Topic2\", \"Topic2\", \"Topic2\", \"Topic2\", \"Topic2\", \"Topic2\", \"Topic3\", \"Topic3\", \"Topic3\", \"Topic3\", \"Topic3\", \"Topic3\", \"Topic3\", \"Topic3\", \"Topic3\", \"Topic3\", \"Topic3\", \"Topic3\", \"Topic3\", \"Topic3\", \"Topic3\", \"Topic3\", \"Topic3\", \"Topic3\", \"Topic3\", \"Topic3\", \"Topic3\", \"Topic3\", \"Topic3\", \"Topic3\", \"Topic3\", \"Topic3\", \"Topic3\", \"Topic3\", \"Topic3\", \"Topic3\", \"Topic4\", \"Topic4\", \"Topic4\", \"Topic4\", \"Topic4\", \"Topic4\", \"Topic4\", \"Topic4\", \"Topic4\", \"Topic4\", \"Topic4\", \"Topic4\", \"Topic4\", \"Topic4\", \"Topic4\", \"Topic4\", \"Topic4\", \"Topic4\", \"Topic4\", \"Topic4\", \"Topic4\", \"Topic4\", \"Topic4\", \"Topic4\", \"Topic4\", \"Topic4\", \"Topic4\", \"Topic4\", \"Topic4\", \"Topic4\", \"Topic4\", \"Topic5\", \"Topic5\", \"Topic5\", \"Topic5\", \"Topic5\", \"Topic5\", \"Topic5\", \"Topic5\", \"Topic5\", \"Topic5\", \"Topic5\", \"Topic5\", \"Topic5\", \"Topic5\", \"Topic5\", \"Topic5\", \"Topic5\", \"Topic5\", \"Topic5\", \"Topic5\", \"Topic5\", \"Topic5\", \"Topic5\", \"Topic5\", \"Topic5\", \"Topic5\", \"Topic5\", \"Topic5\", \"Topic5\", \"Topic5\", \"Topic5\"], \"logprob\": [30.0, 29.0, 28.0, 27.0, 26.0, 25.0, 24.0, 23.0, 22.0, 21.0, 20.0, 19.0, 18.0, 17.0, 16.0, 15.0, 14.0, 13.0, 12.0, 11.0, 10.0, 9.0, 8.0, 7.0, 6.0, 5.0, 4.0, 3.0, 2.0, 1.0, -2.4501, -2.3697, -2.2589, -3.1049, -3.221, -3.5142, -2.5665, -3.6097, -1.7688, -2.1983, -3.7653, -3.3999, -3.5805, -3.6854, -3.4516, -3.7, -4.061, -4.7628, -5.6226, -5.8617, -6.164, -5.9991, -6.0548, -5.3008, -6.5746, -6.8426, -6.8451, -7.4994, -7.7169, -7.5767, -7.2271, -2.602, -1.9079, -2.7641, -2.4118, -2.9942, -2.0858, -3.5088, -2.8886, -2.0677, -3.5193, -2.7209, -4.1281, -4.2092, -4.056, -3.7233, -4.1056, -4.1672, -4.528, -4.902, -5.6785, -5.5901, -5.3374, -6.06, -6.6069, -6.9591, -7.0622, -7.5667, -7.1846, -7.4799, -7.3817, -2.209, -2.3288, -2.8331, -2.5922, -2.9519, -3.2839, -2.6187, -2.731, -3.7512, -3.9331, -2.0098, -3.5993, -3.303, -3.838, -3.9989, -3.7707, -3.2933, -3.2674, -4.4416, -4.6262, -4.9094, -4.6175, -5.464, -5.9818, -6.4315, -6.6575, -6.2484, -7.8342, -7.6214, -7.869, -2.3487, -2.1678, -2.637, -2.5917, -2.8575, -2.2583, -3.2146, -3.4425, -3.0481, -3.1357, -3.7996, -4.0665, -3.6299, -2.3551, -4.0212, -3.7892, -3.0422, -3.695, -4.5127, -4.1274, -5.4681, -5.7239, -6.1448, -6.7124, -6.5721, -7.0554, -7.2905, -7.2169, -7.4191, -6.482, -7.1285, -2.1347, -2.3275, -1.339, -2.524, -2.2769, -3.228, -3.7822, -3.8258, -3.013, -3.9781, -3.823, -4.112, -4.0518, -4.5852, -4.5601, -4.5908, -4.1104, -3.2665, -4.2663, -4.8263, -5.0771, -6.2443, -5.4592, -5.8496, -6.1218, -6.9741, -6.952, -5.6916, -7.4816, -7.8456, -7.5704], \"loglift\": [30.0, 29.0, 28.0, 27.0, 26.0, 25.0, 24.0, 23.0, 22.0, 21.0, 20.0, 19.0, 18.0, 17.0, 16.0, 15.0, 14.0, 13.0, 12.0, 11.0, 10.0, 9.0, 8.0, 7.0, 6.0, 5.0, 4.0, 3.0, 2.0, 1.0, 1.4718, 1.3337, 0.9998, 0.8194, 0.8091, 0.6429, 0.5161, 0.454, 0.4345, 0.4025, 0.2283, 0.1665, 0.1636, 0.1321, 0.0633, -0.7175, -0.8649, -1.2971, -2.0039, -2.2969, -2.3081, -2.3111, -2.5002, -2.6063, -2.8925, -2.901, -3.0795, -3.4488, -3.8292, -3.9609, -4.0408, 1.2857, 1.0745, 0.7508, 0.6709, 0.5604, 0.515, 0.3471, 0.3075, 0.1356, 0.0994, -0.0264, -0.0775, -0.1791, -0.3526, -0.5371, -0.5408, -0.7015, -0.8459, -0.9777, -1.7565, -2.0238, -2.0787, -2.2425, -2.6653, -2.8954, -3.3743, -3.4096, -3.419, -3.4863, -3.7659, 1.4731, 1.2375, 1.2175, 1.0264, 0.6639, 0.572, 0.5676, 0.5276, 0.2789, 0.224, 0.1935, 0.0886, -0.2203, -0.2833, -0.4841, -0.5746, -0.5988, -0.6667, -0.6759, -0.8087, -0.8457, -1.0527, -1.9983, -2.2377, -2.5073, -2.6639, -3.2659, -3.9123, -3.918, -3.9274, 1.5929, 1.2979, 1.1071, 1.0241, 0.96, 0.928, 0.8491, 0.5511, 0.5066, 0.4291, 0.1247, 0.0906, -0.115, -0.1518, -0.1653, -0.1706, -0.4415, -0.7126, -0.8247, -0.9313, -1.438, -1.8362, -2.8862, -2.9468, -3.0057, -3.1335, -3.2399, -3.5135, -3.737, -3.7875, -4.0458, 1.6309, 1.3604, 1.3555, 1.0408, 0.9192, 0.7656, 0.1055, 0.0985, -0.0306, -0.1221, -0.2684, -0.2945, -0.3077, -0.4281, -0.5095, -0.5271, -0.6447, -0.6658, -1.1836, -1.2104, -1.8184, -2.2141, -2.273, -2.3347, -2.4184, -3.2921, -3.3856, -3.4883, -3.54, -3.9237, -3.9518]}, \"token.table\": {\"Topic\": [1, 2, 3, 4, 5, 1, 2, 4, 1, 2, 3, 4, 5, 1, 2, 3, 4, 5, 1, 2, 3, 4, 5, 1, 2, 3, 4, 5, 1, 2, 3, 5, 1, 2, 5, 2, 3, 5, 1, 2, 3, 4, 5, 1, 2, 3, 4, 5, 1, 2, 3, 4, 5, 1, 2, 3, 4, 5, 1, 2, 3, 4, 5, 1, 2, 3, 4, 5, 1, 3, 4, 5, 1, 2, 3, 4, 5, 1, 2, 3, 4, 5, 1, 2, 3, 4, 5, 1, 2, 3, 4, 5, 1, 3, 4, 5, 1, 2, 3, 4, 5, 1, 2, 3, 4, 5, 1, 2, 3, 4, 5, 1, 2, 3, 4, 3, 4, 5, 1, 2, 3, 4, 5, 1, 3, 4, 5, 1, 2, 3, 4, 5, 1, 2, 4, 2, 4, 5], \"Freq\": [0.0905367316116541, 0.28669965010357135, 0.11317091451456764, 0.07544727634304509, 0.430049475155357, 0.015899584105044103, 0.015899584105044103, 0.9698746304076903, 0.018275025107560704, 0.20559403246005792, 0.10965015064536422, 0.004568756276890176, 0.6579009038721854, 0.0074707041548663245, 0.12700197063272753, 0.3585937994335836, 0.49306647422117744, 0.014941408309732649, 0.013334560469729846, 0.013334560469729846, 0.10667648375783877, 0.013334560469729846, 0.8667464305324399, 0.05927725871610288, 0.10867497431285528, 0.02963862935805144, 0.721206647712585, 0.08891588807415432, 0.012265658346012488, 0.08585960842208741, 0.8831274009128991, 0.012265658346012488, 0.8270116601654531, 0.15036575639371877, 0.012530479699476564, 0.1950450182912545, 0.6915232466689932, 0.10638819179522972, 0.5943346252906989, 0.02409464697124455, 0.34535660658783857, 0.00803154899041485, 0.02409464697124455, 0.02159673710119698, 0.37794289927094715, 0.15117715970837886, 0.3239510565179547, 0.1295804226071819, 0.48641083364219484, 0.17371815487221245, 0.26057723230831864, 0.05211544646166373, 0.017371815487221245, 0.36372930371180834, 0.4176151264839281, 0.16165746831635927, 0.00673572784651497, 0.05388582277211976, 0.26221325163351544, 0.03277665645418943, 0.6992353376893745, 0.010925552151396477, 0.010925552151396477, 0.22829029945490603, 0.45658059890981206, 0.12452198152085783, 0.17640614048788195, 0.020753663586809638, 0.4142047160161047, 0.25641244324806484, 0.21696437505605484, 0.11834420457602991, 0.3354676915076912, 0.24321407634307612, 0.24600964043897355, 0.1677338457538456, 0.005591128191794853, 0.5000629373221389, 0.07813483395658422, 0.01562696679131684, 0.2187775350784358, 0.1875236014958021, 0.024675460915682616, 0.012337730457841308, 0.22207914824114355, 0.08636411320488915, 0.6662374447234306, 0.34133082859593883, 0.017964780452417832, 0.08982390226208917, 0.46708429176286365, 0.10778868271450699, 0.26797707088468137, 0.016748566930292585, 0.3349713386058517, 0.3684684724664369, 0.2528044271750384, 0.028089380797226494, 0.08426814239167948, 0.5056088543500769, 0.1264022135875192, 0.10358500706523288, 0.6276032781011169, 0.0060932357097195815, 0.0974917713555133, 0.1645173641624287, 0.3244735798348484, 0.3577529213563714, 0.10399794225475911, 0.12479753070571094, 0.08735827149399766, 0.03453499379556504, 0.2302332919704336, 0.5640715653275623, 0.1611633043793035, 0.3903123886575634, 0.5510292545753837, 0.04591910454794863, 0.014594690147172603, 0.30648849309062465, 0.36486725367931505, 0.1605415916188986, 0.145946901471726, 0.2610017362000571, 0.02610017362000571, 0.5872539064501285, 0.13050086810002856, 0.021816357636295608, 0.11998996699962586, 0.06544907290888682, 0.3054290069081385, 0.47995986799850343, 0.9510243243336718, 0.03118112538798924, 0.01559056269399462, 0.7683677372779532, 0.03013206812854718, 0.1958584428355567], \"Term\": [\"!\", \"!\", \"!\", \"!\", \"!\", \"&\", \"&\", \"&\", \",\", \",\", \",\", \",\", \",\", \"-\", \"-\", \"-\", \"-\", \"-\", \".\", \".\", \".\", \".\", \".\", \"/\", \"/\", \"/\", \"/\", \"/\", \"1\", \"1\", \"1\", \"1\", \"2\", \"2\", \"2\", \"and\", \"and\", \"and\", \"apartment\", \"apartment\", \"apartment\", \"apartment\", \"apartment\", \"apt\", \"apt\", \"apt\", \"apt\", \"apt\", \"beautiful\", \"beautiful\", \"beautiful\", \"beautiful\", \"beautiful\", \"bedroom\", \"bedroom\", \"bedroom\", \"bedroom\", \"bedroom\", \"brooklyn\", \"brooklyn\", \"brooklyn\", \"brooklyn\", \"brooklyn\", \"cozy\", \"cozy\", \"cozy\", \"cozy\", \"cozy\", \"east\", \"east\", \"east\", \"east\", \"in\", \"in\", \"in\", \"in\", \"in\", \"large\", \"large\", \"large\", \"large\", \"large\", \"manhattan\", \"manhattan\", \"manhattan\", \"manhattan\", \"manhattan\", \"near\", \"near\", \"near\", \"near\", \"near\", \"of\", \"of\", \"of\", \"of\", \"park\", \"park\", \"park\", \"park\", \"park\", \"private\", \"private\", \"private\", \"private\", \"private\", \"room\", \"room\", \"room\", \"room\", \"room\", \"spacious\", \"spacious\", \"spacious\", \"spacious\", \"studio\", \"studio\", \"studio\", \"sunny\", \"sunny\", \"sunny\", \"sunny\", \"sunny\", \"the\", \"the\", \"the\", \"the\", \"to\", \"to\", \"to\", \"to\", \"to\", \"williamsburg\", \"williamsburg\", \"williamsburg\", \"with\", \"with\", \"with\"]}, \"R\": 30, \"lambda.step\": 0.01, \"plot.opts\": {\"xlab\": \"PC1\", \"ylab\": \"PC2\"}, \"topic.order\": [1, 3, 2, 4, 5]};\n",
       "\n",
       "function LDAvis_load_lib(url, callback){\n",
       "  var s = document.createElement('script');\n",
       "  s.src = url;\n",
       "  s.async = true;\n",
       "  s.onreadystatechange = s.onload = callback;\n",
       "  s.onerror = function(){console.warn(\"failed to load library \" + url);};\n",
       "  document.getElementsByTagName(\"head\")[0].appendChild(s);\n",
       "}\n",
       "\n",
       "if(typeof(LDAvis) !== \"undefined\"){\n",
       "   // already loaded: just create the visualization\n",
       "   !function(LDAvis){\n",
       "       new LDAvis(\"#\" + \"ldavis_el2175257134422885361731452\", ldavis_el2175257134422885361731452_data);\n",
       "   }(LDAvis);\n",
       "}else if(typeof define === \"function\" && define.amd){\n",
       "   // require.js is available: use it to load d3/LDAvis\n",
       "   require.config({paths: {d3: \"https://d3js.org/d3.v5\"}});\n",
       "   require([\"d3\"], function(d3){\n",
       "      window.d3 = d3;\n",
       "      LDAvis_load_lib(\"https://cdn.jsdelivr.net/gh/bmabey/pyLDAvis@3.4.0/pyLDAvis/js/ldavis.v3.0.0.js\", function(){\n",
       "        new LDAvis(\"#\" + \"ldavis_el2175257134422885361731452\", ldavis_el2175257134422885361731452_data);\n",
       "      });\n",
       "    });\n",
       "}else{\n",
       "    // require.js not available: dynamically load d3 & LDAvis\n",
       "    LDAvis_load_lib(\"https://d3js.org/d3.v5.js\", function(){\n",
       "         LDAvis_load_lib(\"https://cdn.jsdelivr.net/gh/bmabey/pyLDAvis@3.4.0/pyLDAvis/js/ldavis.v3.0.0.js\", function(){\n",
       "                 new LDAvis(\"#\" + \"ldavis_el2175257134422885361731452\", ldavis_el2175257134422885361731452_data);\n",
       "            })\n",
       "         });\n",
       "}\n",
       "</script>"
      ],
      "text/plain": [
       "<IPython.core.display.HTML object>"
      ]
     },
     "execution_count": 74,
     "metadata": {},
     "output_type": "execute_result"
    }
   ],
   "source": [
    "lda_display = gensimvis.prepare(ldamod, corpus_fromdict, text_raw_dict)\n",
    "pyLDAvis.display(lda_display)"
   ]
  },
  {
   "cell_type": "markdown",
   "metadata": {},
   "source": [
    "## 3.4 Activity 3\n",
    "\n",
    "- Preprocess the texts if you haven't already\n",
    "- Run the topic model with preprocessed texts\n",
    "- Play around with other parameters like `n_topics` to find a configuration that produces useful topics\n",
    "\n",
    "If you get stuck on the preprocessing part, you can use below function and example code for applying it. Then continue as above (start with tokenizing)."
   ]
  },
  {
   "cell_type": "code",
   "execution_count": 92,
   "metadata": {},
   "outputs": [
    {
     "data": {
      "text/plain": [
       "{0: 'cozi', 1: 'super', 2: 'beauti', 3: 'bedroom', 4: 'park'}"
      ]
     },
     "execution_count": 92,
     "metadata": {},
     "output_type": "execute_result"
    },
    {
     "name": "stdout",
     "output_type": "stream",
     "text": [
      "Filtering out very rare and very common words reduced the length of dictionary from 753 to 43.\n"
     ]
    },
    {
     "data": {
      "text/plain": [
       "{0: 'cozi', 1: 'beauti', 2: 'bedroom', 3: 'park', 4: 'privat'}"
      ]
     },
     "execution_count": 92,
     "metadata": {},
     "output_type": "execute_result"
    },
    {
     "name": "stdout",
     "output_type": "stream",
     "text": [
      "Sample of documents represented in dictionary format (with omitted words noted):\n"
     ]
    },
    {
     "data": {
      "text/plain": [
       "[([(0, 1)], {'super': 1}),\n",
       " ([(1, 1), (2, 1), (3, 1), (4, 1)], {'prospect': 1}),\n",
       " ([(5, 1), (6, 1), (7, 1), (8, 1)], {'best': 1, 'part': 1}),\n",
       " ([], {'architectur': 1, 'former': 1, 'stun': 1, 'synagogu': 1}),\n",
       " ([(1, 1), (9, 1), (10, 1), (11, 1), (12, 1)], {}),\n",
       " ([(3, 1), (10, 1), (13, 1), (14, 1)], {'bath': 1, 'colleg': 1, 'hunter': 1}),\n",
       " ([(10, 1), (12, 1)], {'bohemian': 1, 'brownston': 1}),\n",
       " ([(15, 1), (16, 1), (17, 1), (18, 1)], {'fidi': 1, 'water': 1}),\n",
       " ([], {'hillsid': 1, 'hotel': 1}),\n",
       " ([(4, 1), (10, 1), (12, 1)], {'airi': 1})]"
      ]
     },
     "execution_count": 92,
     "metadata": {},
     "output_type": "execute_result"
    }
   ],
   "source": [
    "# your code here\n",
    "## Step 1: re-tokenize and store in list\n",
    "## here, i'm doing with the raw random sample of text\n",
    "## in activity, you should do with the preprocessed texts\n",
    "ab_small = ab_small[ab_small[\"preprocessed\"] != \"\"]\n",
    "text_raw_tokens = [wordpunct_tokenize(one_text) for one_text in \n",
    "                  ab_small.preprocessed]\n",
    "\n",
    "\n",
    "## Step 2: use gensim create dictionary - gets all unique words across documents\n",
    "text_raw_dict = corpora.Dictionary(text_raw_tokens)\n",
    "raw_len = len(text_raw_dict) # get length for comparison below\n",
    "\n",
    "### explore first few keys and values\n",
    "### see that key is just an arbitrary counter; value is the word itself\n",
    "{k: text_raw_dict[k] for k in list(text_raw_dict)[:5]}\n",
    "\n",
    "\n",
    "## Step 3: filter out very rare and very common words\n",
    "## here, i'm using the threshold that a word needs to appear in at least\n",
    "## 2% of docs but not more than 98%\n",
    "## this is an integer count of docs so i round\n",
    "lower_bound = round(ab_small.shape[0]*0.02)\n",
    "upper_bound = round(ab_small.shape[0]*0.98)\n",
    "\n",
    "### apply filtering to dictionary\n",
    "text_raw_dict.filter_extremes(no_below = lower_bound,\n",
    "                             no_above = upper_bound)\n",
    "print(f'Filtering out very rare and very common words reduced the \\\n",
    "length of dictionary from {str(raw_len)} to {str(len(text_raw_dict))}.')\n",
    "{k: text_raw_dict[k] for k in list(text_raw_dict)[:5]} # show first five entries after filtering\n",
    "\n",
    "\n",
    "## Step 4: apply dictionary to TOKENIZED texts\n",
    "## this creates a mapping between each word \n",
    "## in a specific listing and the key in the dictionary.\n",
    "## for words that remain in the filtered dictionary,\n",
    "## output is a list where len(list) == n documents\n",
    "## and each element in the list is a list of tuples\n",
    "## containing the mappings\n",
    "corpus_fromdict = [text_raw_dict.doc2bow(one_text) \n",
    "                   for one_text in text_raw_tokens]\n",
    "\n",
    "### can apply doc2bow(one_text, return_missing = True) to print words\n",
    "### eliminated from the listing bc they're not in filtered dictionary.\n",
    "### but feeding that one with missing values to\n",
    "### the lda function can cause errors\n",
    "corpus_fromdict_showmiss = [text_raw_dict.doc2bow(one_text, return_missing = True)\n",
    "                            for one_text in text_raw_tokens]\n",
    "print('Sample of documents represented in dictionary format (with omitted words noted):')\n",
    "corpus_fromdict_showmiss[:10]"
   ]
  },
  {
   "cell_type": "code",
   "execution_count": 93,
   "metadata": {},
   "outputs": [
    {
     "name": "stdout",
     "output_type": "stream",
     "text": [
      "<class 'gensim.models.ldamodel.LdaModel'>\n"
     ]
    }
   ],
   "source": [
    "## Step 5: we're finally ready to estimate the model!\n",
    "## full documentation here - https://radimrehurek.com/gensim/models/ldamodel.html\n",
    "## here, we're feeding the lda function:\n",
    "## (1) the corpus we created from the dictionary,\n",
    "## (2) a parameter we decide on for the number of topics (k),\n",
    "## (3) the dictionary itself,\n",
    "## (4) parameter for number of passes through training data (more means slower), and\n",
    "## (5) parameter that returns, for each word remaining in dict, the topic probabilities.\n",
    "## see documentation for many other arguments you can vary\n",
    "ldamod = gensim.models.ldamodel.LdaModel(corpus_fromdict, \n",
    "                                         num_topics = 3, \n",
    "                                         id2word=text_raw_dict, \n",
    "                                         passes=6, \n",
    "                                         alpha = 'auto',\n",
    "                                         per_word_topics = True)\n",
    "\n",
    "print(type(ldamod))"
   ]
  },
  {
   "cell_type": "code",
   "execution_count": 94,
   "metadata": {},
   "outputs": [
    {
     "name": "stdout",
     "output_type": "stream",
     "text": [
      "(0, '0.209*\"bedroom\" + 0.113*\"spaciou\" + 0.075*\"beauti\" + 0.061*\"privat\" + 0.057*\"williamsburg\" + 0.049*\"home\" + 0.047*\"new\" + 0.047*\"modern\" + 0.037*\"quiet\" + 0.036*\"bright\"')\n",
      "(1, '0.209*\"room\" + 0.116*\"privat\" + 0.069*\"studio\" + 0.062*\"sunni\" + 0.055*\"apt\" + 0.045*\"east\" + 0.042*\"larg\" + 0.035*\"bed\" + 0.034*\"villag\" + 0.033*\"west\"')\n",
      "(2, '0.156*\"cozi\" + 0.120*\"park\" + 0.092*\"near\" + 0.072*\"central\" + 0.062*\"luxuri\" + 0.054*\"locat\" + 0.050*\"room\" + 0.050*\"subway\" + 0.041*\"view\" + 0.035*\"hous\"')\n"
     ]
    },
    {
     "data": {
      "text/plain": [
       "[['super', 'cozi'],\n",
       " ['beauti', 'privat', 'bedroom', 'prospect', 'park'],\n",
       " ['best', 'locat', 'upper', 'west', 'side', 'part'],\n",
       " ['architectur', 'stun', 'former', 'synagogu'],\n",
       " ['larg', 'beauti', 'room', 'near', 'bushwick']]"
      ]
     },
     "execution_count": 94,
     "metadata": {},
     "output_type": "execute_result"
    },
    {
     "data": {
      "text/plain": [
       "[[(0, 0.18248759), (1, 0.24002607), (2, 0.5774863)],\n",
       " [(0, 0.60370487), (1, 0.14175689), (2, 0.25453824)],\n",
       " [(0, 0.08157108), (1, 0.6511958), (2, 0.26723307)],\n",
       " [(0, 0.31727996), (1, 0.4146086), (2, 0.26811144)],\n",
       " [(0, 0.21688859), (1, 0.3224094), (2, 0.46070197)]]"
      ]
     },
     "execution_count": 94,
     "metadata": {},
     "output_type": "execute_result"
    }
   ],
   "source": [
    "## Post-model 1: explore corpus-wide summary of topics\n",
    "### getting the topics and top words; can retrieve diff top words\n",
    "topics = ldamod.print_topics(num_words = 10)\n",
    "for topic in topics:\n",
    "    print(topic)\n",
    "\n",
    "## Post-model 2: explore topics associated with each document\n",
    "### for each item in our original dictionary, get list of topic probabilities\n",
    "l=[ldamod.get_document_topics(item) for item in corpus_fromdict]\n",
    "### print result\n",
    "text_raw_tokens[0:5]\n",
    "l[0:5]"
   ]
  },
  {
   "cell_type": "code",
   "execution_count": 95,
   "metadata": {},
   "outputs": [
    {
     "data": {
      "text/html": [
       "\n",
       "<link rel=\"stylesheet\" type=\"text/css\" href=\"https://cdn.jsdelivr.net/gh/bmabey/pyLDAvis@3.4.0/pyLDAvis/js/ldavis.v1.0.0.css\">\n",
       "\n",
       "\n",
       "<div id=\"ldavis_el2175256696372486292403601\" style=\"background-color:white;\"></div>\n",
       "<script type=\"text/javascript\">\n",
       "\n",
       "var ldavis_el2175256696372486292403601_data = {\"mdsDat\": {\"x\": [0.0178013478902953, -0.2197199303284606, 0.2019185824381654], \"y\": [-0.1948106928358125, 0.08506814472409688, 0.10974254811171537], \"topics\": [1, 2, 3], \"cluster\": [1, 1, 1], \"Freq\": [44.41868373137682, 30.916133641915376, 24.665182626707804]}, \"tinfo\": {\"Term\": [\"bedroom\", \"cozi\", \"room\", \"park\", \"spaciou\", \"near\", \"central\", \"beauti\", \"luxuri\", \"locat\", \"subway\", \"home\", \"privat\", \"sunni\", \"modern\", \"williamsburg\", \"new\", \"studio\", \"bright\", \"view\", \"villag\", \"hous\", \"one\", \"east\", \"west\", \"quiet\", \"charm\", \"bed\", \"close\", \"side\", \"villag\", \"charm\", \"close\", \"west\", \"sunni\", \"east\", \"bed\", \"room\", \"side\", \"studio\", \"upper\", \"privat\", \"clean\", \"larg\", \"apt\", \"harlem\", \"huge\", \"heart\", \"loft\", \"time\", \"bushwick\", \"williamsburg\", \"min\", \"train\", \"view\", \"hous\", \"prime\", \"subway\", \"quiet\", \"new\", \"cozi\", \"bedroom\", \"spaciou\", \"bedroom\", \"home\", \"bright\", \"spaciou\", \"modern\", \"beauti\", \"new\", \"one\", \"quiet\", \"train\", \"williamsburg\", \"min\", \"loft\", \"prime\", \"huge\", \"time\", \"heart\", \"bushwick\", \"privat\", \"clean\", \"apt\", \"upper\", \"larg\", \"east\", \"side\", \"sunni\", \"harlem\", \"hous\", \"view\", \"luxuri\", \"park\", \"cozi\", \"room\", \"studio\", \"central\", \"locat\", \"near\", \"luxuri\", \"park\", \"cozi\", \"subway\", \"hous\", \"view\", \"prime\", \"harlem\", \"bushwick\", \"time\", \"larg\", \"apt\", \"min\", \"studio\", \"one\", \"loft\", \"quiet\", \"room\", \"bed\", \"heart\", \"beauti\", \"new\", \"train\", \"upper\", \"clean\", \"modern\", \"west\", \"spaciou\", \"bedroom\", \"privat\"], \"Freq\": [157.0, 95.0, 242.0, 72.0, 87.0, 54.0, 42.0, 59.0, 37.0, 32.0, 32.0, 37.0, 163.0, 67.0, 37.0, 66.0, 39.0, 86.0, 27.0, 31.0, 35.0, 24.0, 27.0, 51.0, 35.0, 33.0, 25.0, 40.0, 21.0, 31.0, 34.332866344255876, 24.762609391605608, 20.325943643410472, 33.18972373012207, 62.28398562530367, 45.238130271998685, 35.47330388028906, 211.19221567040233, 27.25469560357076, 69.45229545382728, 28.99847873922801, 117.42814962952843, 18.45607821340891, 42.231332211899065, 56.05605828209656, 15.48569589960885, 12.163871310356651, 25.588237332922454, 15.286878318371933, 8.509624879744806, 11.181247917530895, 25.644794970030553, 12.127806431927887, 6.916717286511417, 7.080690952918336, 3.691997738484098, 3.264656706143016, 3.746170275785028, 3.5462875936258187, 2.505235032582769, 5.507741799415886, 4.662807636466632, 4.107488019850516, 147.24961435521723, 34.52139527953108, 25.411405934336212, 79.83338187316001, 32.826623890255824, 52.563796680692626, 32.9483375306701, 22.6533266833252, 25.795222340695368, 18.05483509379734, 40.35685941135819, 21.090779146665863, 14.626414377270219, 9.775281838690812, 7.968371540104393, 6.976875146358961, 14.253696387368336, 8.065154773362556, 42.65052776934103, 6.276998737248117, 16.587113173107888, 4.319327946018822, 6.239083195966552, 4.649639100649291, 2.67290139931772, 5.047872747812088, 1.626319775504047, 1.0453850286050201, 1.2742084647687075, 1.4017419464522303, 2.455012424239826, 2.8449713307874687, 3.3666087208825406, 1.7750566748232772, 40.67266274449537, 30.57397802511176, 51.61054715071928, 34.589839843698876, 67.23764419134528, 87.57698604584729, 28.016201491610076, 19.74528592617909, 22.992907031089537, 10.493463272790395, 8.402063757653233, 9.207634346534634, 5.123873269002701, 15.338182923208446, 17.682326250445534, 8.006958911545606, 15.188996453442513, 4.170074662430073, 4.45308461031858, 4.035626357353879, 28.06094182495962, 3.9776287463316593, 4.35286404293975, 5.849244987724863, 3.8158045884036422, 2.5212597713275438, 3.028059898751012, 1.7889701759776477, 2.4195334390772496, 1.7251154014775842, 3.450787543149383, 5.197902955015512, 3.015856132744061], \"Total\": [157.0, 95.0, 242.0, 72.0, 87.0, 54.0, 42.0, 59.0, 37.0, 32.0, 32.0, 37.0, 163.0, 67.0, 37.0, 66.0, 39.0, 86.0, 27.0, 31.0, 35.0, 24.0, 27.0, 51.0, 35.0, 33.0, 25.0, 40.0, 21.0, 31.0, 35.37696972557324, 25.549873090698597, 21.61676745243872, 35.371698927878214, 67.80503558930991, 51.09510159772963, 40.2754465469372, 242.6197662162445, 31.439854601542233, 86.41634858209306, 36.34586658399784, 163.09453353161354, 26.52204712663468, 63.808598331074066, 90.32549770564998, 25.51407943276613, 20.62976975765762, 44.19479776323054, 34.36637730596073, 20.610373295106466, 28.454037037428087, 66.79445490573544, 41.225544490139356, 27.4928121516363, 31.34780644877658, 24.48266869326821, 23.533401817624224, 32.30942802528129, 33.377136291675065, 39.26937715165651, 95.92969917605065, 157.11032494669936, 87.39165743615992, 157.11032494669936, 37.31344009213018, 27.496128975020902, 87.39165743615992, 37.30998926214022, 59.88408245141954, 39.26937715165651, 27.482344470758342, 33.377136291675065, 27.4928121516363, 66.79445490573544, 41.225544490139356, 34.36637730596073, 23.533401817624224, 20.62976975765762, 20.610373295106466, 44.19479776323054, 28.454037037428087, 163.09453353161354, 26.52204712663468, 90.32549770564998, 36.34586658399784, 63.808598331074066, 51.09510159772963, 31.439854601542233, 67.80503558930991, 25.51407943276613, 24.48266869326821, 31.34780644877658, 37.19416290712649, 72.43167033599002, 95.92969917605065, 242.6197662162445, 86.41634858209306, 42.082146935747346, 32.29814783847962, 54.810807894975746, 37.19416290712649, 72.43167033599002, 95.92969917605065, 32.30942802528129, 24.48266869326821, 31.34780644877658, 23.533401817624224, 25.51407943276613, 28.454037037428087, 20.610373295106466, 63.808598331074066, 90.32549770564998, 41.225544490139356, 86.41634858209306, 27.482344470758342, 34.36637730596073, 33.377136291675065, 242.6197662162445, 40.2754465469372, 44.19479776323054, 59.88408245141954, 39.26937715165651, 27.4928121516363, 36.34586658399784, 26.52204712663468, 37.30998926214022, 35.371698927878214, 87.39165743615992, 157.11032494669936, 163.09453353161354], \"Category\": [\"Default\", \"Default\", \"Default\", \"Default\", \"Default\", \"Default\", \"Default\", \"Default\", \"Default\", \"Default\", \"Default\", \"Default\", \"Default\", \"Default\", \"Default\", \"Default\", \"Default\", \"Default\", \"Default\", \"Default\", \"Default\", \"Default\", \"Default\", \"Default\", \"Default\", \"Default\", \"Default\", \"Default\", \"Default\", \"Default\", \"Topic1\", \"Topic1\", \"Topic1\", \"Topic1\", \"Topic1\", \"Topic1\", \"Topic1\", \"Topic1\", \"Topic1\", \"Topic1\", \"Topic1\", \"Topic1\", \"Topic1\", \"Topic1\", \"Topic1\", \"Topic1\", \"Topic1\", \"Topic1\", \"Topic1\", \"Topic1\", \"Topic1\", \"Topic1\", \"Topic1\", \"Topic1\", \"Topic1\", \"Topic1\", \"Topic1\", \"Topic1\", \"Topic1\", \"Topic1\", \"Topic1\", \"Topic1\", \"Topic1\", \"Topic2\", \"Topic2\", \"Topic2\", \"Topic2\", \"Topic2\", \"Topic2\", \"Topic2\", \"Topic2\", \"Topic2\", \"Topic2\", \"Topic2\", \"Topic2\", \"Topic2\", \"Topic2\", \"Topic2\", \"Topic2\", \"Topic2\", \"Topic2\", \"Topic2\", \"Topic2\", \"Topic2\", \"Topic2\", \"Topic2\", \"Topic2\", \"Topic2\", \"Topic2\", \"Topic2\", \"Topic2\", \"Topic2\", \"Topic2\", \"Topic2\", \"Topic2\", \"Topic2\", \"Topic2\", \"Topic3\", \"Topic3\", \"Topic3\", \"Topic3\", \"Topic3\", \"Topic3\", \"Topic3\", \"Topic3\", \"Topic3\", \"Topic3\", \"Topic3\", \"Topic3\", \"Topic3\", \"Topic3\", \"Topic3\", \"Topic3\", \"Topic3\", \"Topic3\", \"Topic3\", \"Topic3\", \"Topic3\", \"Topic3\", \"Topic3\", \"Topic3\", \"Topic3\", \"Topic3\", \"Topic3\", \"Topic3\", \"Topic3\", \"Topic3\", \"Topic3\", \"Topic3\", \"Topic3\"], \"logprob\": [30.0, 29.0, 28.0, 27.0, 26.0, 25.0, 24.0, 23.0, 22.0, 21.0, 20.0, 19.0, 18.0, 17.0, 16.0, 15.0, 14.0, 13.0, 12.0, 11.0, 10.0, 9.0, 8.0, 7.0, 6.0, 5.0, 4.0, 3.0, 2.0, 1.0, -3.3843, -3.7111, -3.9085, -3.4182, -2.7887, -3.1085, -3.3516, -1.5677, -3.6152, -2.6798, -3.5532, -2.1546, -4.005, -3.1773, -2.8941, -4.1805, -4.422, -3.6783, -4.1934, -4.7792, -4.5062, -3.6761, -4.4249, -4.9865, -4.963, -5.6143, -5.7373, -5.5997, -5.6545, -6.002, -5.2143, -5.3808, -5.5076, -1.5659, -3.0165, -3.3228, -2.1781, -3.0668, -2.596, -3.0631, -3.4377, -3.3078, -3.6646, -2.8603, -3.5092, -3.8752, -4.2782, -4.4826, -4.6154, -3.901, -4.4705, -2.805, -4.7211, -3.7494, -5.0949, -4.7272, -5.0212, -5.5749, -4.9391, -6.0717, -6.5137, -6.3157, -6.2203, -5.6599, -5.5125, -5.3441, -5.9842, -2.6266, -2.912, -2.3884, -2.7886, -2.1239, -1.8596, -2.9994, -3.3492, -3.197, -3.9814, -4.2037, -4.1121, -4.6982, -3.6018, -3.4596, -4.2518, -3.6116, -4.9042, -4.8386, -4.937, -2.9978, -4.9515, -4.8613, -4.5658, -4.993, -5.4074, -5.2242, -5.7505, -5.4486, -5.7869, -5.0936, -4.6839, -5.2283], \"loglift\": [30.0, 29.0, 28.0, 27.0, 26.0, 25.0, 24.0, 23.0, 22.0, 21.0, 20.0, 19.0, 18.0, 17.0, 16.0, 15.0, 14.0, 13.0, 12.0, 11.0, 10.0, 9.0, 8.0, 7.0, 6.0, 5.0, 4.0, 3.0, 2.0, 1.0, 0.7816, 0.7802, 0.7499, 0.7478, 0.7266, 0.6898, 0.6845, 0.6728, 0.6687, 0.593, 0.5857, 0.483, 0.4489, 0.3988, 0.3344, 0.3122, 0.2832, 0.265, 0.0014, -0.0731, -0.1225, -0.1458, -0.412, -0.5685, -0.6763, -1.0803, -1.1638, -1.3431, -1.4305, -1.9406, -2.046, -2.7058, -2.2461, 1.1091, 1.0961, 1.095, 1.0834, 1.0459, 1.0435, 0.9984, 0.9807, 0.9162, 0.7534, 0.67, 0.5037, 0.3196, 0.2953, 0.2226, 0.0907, 0.0423, -0.0868, -0.1674, -0.2672, -0.5209, -0.9561, -1.1512, -1.223, -1.291, -1.4238, -1.579, -1.9797, -2.0289, -2.1045, -2.2106, -2.3442, -3.1037, -2.7115, 1.3657, 1.3449, 1.3396, 1.3272, 1.3254, 1.3087, 1.2572, 1.1847, 1.0898, 0.5921, 0.289, 0.2715, 0.0079, -0.0258, -0.2311, -0.239, -0.3388, -0.4858, -0.6437, -0.7129, -0.7573, -0.9153, -0.918, -0.9263, -0.9315, -0.9894, -1.0854, -1.2966, -1.3359, -1.6208, -1.832, -2.0089, -2.5907]}, \"token.table\": {\"Topic\": [1, 2, 3, 1, 2, 3, 1, 2, 3, 1, 2, 3, 1, 2, 3, 1, 2, 3, 1, 2, 3, 1, 1, 2, 3, 1, 3, 1, 2, 3, 1, 2, 3, 1, 2, 3, 1, 2, 3, 1, 2, 3, 1, 2, 3, 1, 2, 1, 2, 3, 1, 2, 3, 1, 2, 3, 1, 2, 3, 1, 2, 3, 1, 2, 3, 1, 2, 3, 1, 2, 3, 1, 2, 3, 1, 2, 3, 1, 2, 3, 1, 2, 3, 1, 2, 3, 1, 2, 3, 1, 2, 3, 1, 2, 3, 1, 2, 3, 1, 2, 3, 1, 2, 1, 2, 3, 1, 2, 3, 1, 2, 3, 1, 2, 3, 1, 2, 1, 3, 1, 2, 3], \"Freq\": [0.6199799771100196, 0.18820820733697022, 0.19927927835679202, 0.01669892831390114, 0.8850432006367603, 0.10019356988340683, 0.8690158148640471, 0.024829023281829916, 0.09931609312731966, 0.03182477027971446, 0.9356482462236053, 0.03182477027971446, 0.0727375115899739, 0.9092188948746738, 0.03636875579498695, 0.3865883770914734, 0.2811551833392534, 0.3162995812566601, 0.023763046156529008, 0.023763046156529008, 0.9742848924176893, 0.9784784414096062, 0.6786806430912175, 0.22622688103040584, 0.07540896034346861, 0.9252077140582682, 0.04626038570291341, 0.0625458023066326, 0.0312729011533163, 0.9173384338306114, 0.880710647260941, 0.09785673858454899, 0.019571347716909798, 0.5879106882741942, 0.07838809176989257, 0.3135523670795703, 0.588304536187552, 0.316779365639451, 0.0905083901827003, 0.026799994788229434, 0.9379998175880302, 0.026799994788229434, 0.16338088180312818, 0.040845220450782045, 0.8169044090156409, 0.5816836610862168, 0.3877891073908112, 0.6582185018715021, 0.09403121455307173, 0.23507803638267932, 0.03096152773220674, 0.03096152773220674, 0.9598073596984089, 0.4364731221582177, 0.4364731221582177, 0.11639283257552473, 0.02688593913235772, 0.02688593913235772, 0.9410078696325201, 0.29108166182911793, 0.5093929082009564, 0.19405444121941196, 0.05360494708127594, 0.884481626841053, 0.05360494708127594, 0.036489153814923625, 0.018244576907461812, 0.9487179991880141, 0.07639540572324688, 0.8403494629557156, 0.10186054096432916, 0.036386997516315106, 0.8369009428752474, 0.14554799006526042, 0.04141834623009312, 0.027612230820062082, 0.9250097324720797, 0.12747838256657362, 0.42492794188857874, 0.42492794188857874, 0.7173753618009596, 0.26365077399522446, 0.018394240046178453, 0.11984251629753152, 0.778976355933955, 0.11984251629753152, 0.8696735772630243, 0.012365027164877123, 0.1154069202055198, 0.8587825975084362, 0.09542028861204847, 0.06361352574136564, 0.04577095934954686, 0.9154191869909372, 0.03432821951216014, 0.7984600267442679, 0.023143768891138197, 0.1735782666835365, 0.12380287255070264, 0.03095071813767566, 0.8666201078549185, 0.9143863646872692, 0.07374083586187655, 0.4366733135365809, 0.3396347994173407, 0.2425962852981005, 0.2546120040900719, 0.6547165819458991, 0.10911943032431652, 0.7978899040136784, 0.11005377986395565, 0.08254033489796674, 0.22330111076314849, 0.031900158680449785, 0.7337036496503451, 0.9610772280312675, 0.02826697729503728, 0.9329492503960854, 0.05654237881188397, 0.3892538690029411, 0.598852106158371, 0.014971302653959274], \"Term\": [\"apt\", \"apt\", \"apt\", \"beauti\", \"beauti\", \"beauti\", \"bed\", \"bed\", \"bed\", \"bedroom\", \"bedroom\", \"bedroom\", \"bright\", \"bright\", \"bright\", \"bushwick\", \"bushwick\", \"bushwick\", \"central\", \"central\", \"central\", \"charm\", \"clean\", \"clean\", \"clean\", \"close\", \"close\", \"cozi\", \"cozi\", \"cozi\", \"east\", \"east\", \"east\", \"harlem\", \"harlem\", \"harlem\", \"heart\", \"heart\", \"heart\", \"home\", \"home\", \"home\", \"hous\", \"hous\", \"hous\", \"huge\", \"huge\", \"larg\", \"larg\", \"larg\", \"locat\", \"locat\", \"locat\", \"loft\", \"loft\", \"loft\", \"luxuri\", \"luxuri\", \"luxuri\", \"min\", \"min\", \"min\", \"modern\", \"modern\", \"modern\", \"near\", \"near\", \"near\", \"new\", \"new\", \"new\", \"one\", \"one\", \"one\", \"park\", \"park\", \"park\", \"prime\", \"prime\", \"prime\", \"privat\", \"privat\", \"privat\", \"quiet\", \"quiet\", \"quiet\", \"room\", \"room\", \"room\", \"side\", \"side\", \"side\", \"spaciou\", \"spaciou\", \"spaciou\", \"studio\", \"studio\", \"studio\", \"subway\", \"subway\", \"subway\", \"sunni\", \"sunni\", \"time\", \"time\", \"time\", \"train\", \"train\", \"train\", \"upper\", \"upper\", \"upper\", \"view\", \"view\", \"view\", \"villag\", \"villag\", \"west\", \"west\", \"williamsburg\", \"williamsburg\", \"williamsburg\"]}, \"R\": 30, \"lambda.step\": 0.01, \"plot.opts\": {\"xlab\": \"PC1\", \"ylab\": \"PC2\"}, \"topic.order\": [2, 1, 3]};\n",
       "\n",
       "function LDAvis_load_lib(url, callback){\n",
       "  var s = document.createElement('script');\n",
       "  s.src = url;\n",
       "  s.async = true;\n",
       "  s.onreadystatechange = s.onload = callback;\n",
       "  s.onerror = function(){console.warn(\"failed to load library \" + url);};\n",
       "  document.getElementsByTagName(\"head\")[0].appendChild(s);\n",
       "}\n",
       "\n",
       "if(typeof(LDAvis) !== \"undefined\"){\n",
       "   // already loaded: just create the visualization\n",
       "   !function(LDAvis){\n",
       "       new LDAvis(\"#\" + \"ldavis_el2175256696372486292403601\", ldavis_el2175256696372486292403601_data);\n",
       "   }(LDAvis);\n",
       "}else if(typeof define === \"function\" && define.amd){\n",
       "   // require.js is available: use it to load d3/LDAvis\n",
       "   require.config({paths: {d3: \"https://d3js.org/d3.v5\"}});\n",
       "   require([\"d3\"], function(d3){\n",
       "      window.d3 = d3;\n",
       "      LDAvis_load_lib(\"https://cdn.jsdelivr.net/gh/bmabey/pyLDAvis@3.4.0/pyLDAvis/js/ldavis.v3.0.0.js\", function(){\n",
       "        new LDAvis(\"#\" + \"ldavis_el2175256696372486292403601\", ldavis_el2175256696372486292403601_data);\n",
       "      });\n",
       "    });\n",
       "}else{\n",
       "    // require.js not available: dynamically load d3 & LDAvis\n",
       "    LDAvis_load_lib(\"https://d3js.org/d3.v5.js\", function(){\n",
       "         LDAvis_load_lib(\"https://cdn.jsdelivr.net/gh/bmabey/pyLDAvis@3.4.0/pyLDAvis/js/ldavis.v3.0.0.js\", function(){\n",
       "                 new LDAvis(\"#\" + \"ldavis_el2175256696372486292403601\", ldavis_el2175256696372486292403601_data);\n",
       "            })\n",
       "         });\n",
       "}\n",
       "</script>"
      ],
      "text/plain": [
       "<IPython.core.display.HTML object>"
      ]
     },
     "execution_count": 95,
     "metadata": {},
     "output_type": "execute_result"
    }
   ],
   "source": [
    "lda_display = gensimvis.prepare(ldamod, corpus_fromdict, text_raw_dict)\n",
    "pyLDAvis.display(lda_display)"
   ]
  },
  {
   "cell_type": "code",
   "execution_count": 76,
   "metadata": {},
   "outputs": [],
   "source": [
    "# Hint: example code for preprocessing\n",
    "def processtext(row, colname):\n",
    "    \n",
    "    string_of_col = str(row[colname])\n",
    "    try:\n",
    "        processed_string = \" \".join([porter.stem(i.lower()) \n",
    "                        for i in wordpunct_tokenize(string_of_col) if \n",
    "                        i.lower().isalpha() and len(i) >=3]) #and i not in punctlist]) # optional: remove punctuation too \n",
    "        return(processed_string)\n",
    "    except:\n",
    "        processed_string = \"\" # to handle data errors where not actually text\n",
    "        return(processed_string)\n",
    "\n",
    "# ab_small['text_preprocess'] = ab_small.apply(processtext,\n",
    "#                             axis = 1,\n",
    "#                             args = [\"name_lower\"])\n",
    "#\n",
    "# ab_small = ab_small[ab_small.text_preprocess != \"\"].copy()\n",
    "#\n",
    "# ab_small.head()"
   ]
  }
 ],
 "metadata": {
  "kernelspec": {
   "display_name": "Python 3 (ipykernel)",
   "language": "python",
   "name": "python3"
  },
  "language_info": {
   "codemirror_mode": {
    "name": "ipython",
    "version": 3
   },
   "file_extension": ".py",
   "mimetype": "text/x-python",
   "name": "python",
   "nbconvert_exporter": "python",
   "pygments_lexer": "ipython3",
   "version": "3.9.19"
  }
 },
 "nbformat": 4,
 "nbformat_minor": 4
}
