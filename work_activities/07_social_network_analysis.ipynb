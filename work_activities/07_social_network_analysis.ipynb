{
 "cells": [
  {
   "cell_type": "code",
   "execution_count": 1,
   "metadata": {},
   "outputs": [
    {
     "name": "stderr",
     "output_type": "stream",
     "text": [
      "/Users/vaanigupta/opt/anaconda3/lib/python3.8/site-packages/pandas/core/computation/expressions.py:20: UserWarning: Pandas requires version '2.7.3' or newer of 'numexpr' (version '2.7.1' currently installed).\n",
      "  from pandas.core.computation.check import NUMEXPR_INSTALLED\n"
     ]
    }
   ],
   "source": [
    "import networkx as nx\n",
    "import pandas as pd\n",
    "import matplotlib.pyplot as plt\n",
    "import urllib, json\n",
    "\n",
    "from nltk.sentiment.vader import SentimentIntensityAnalyzer\n",
    "\n",
    "from IPython.core.interactiveshell import InteractiveShell\n",
    "InteractiveShell.ast_node_interactivity = \"all\""
   ]
  },
  {
   "cell_type": "markdown",
   "metadata": {},
   "source": [
    "# Introduction to Networkx"
   ]
  },
  {
   "cell_type": "markdown",
   "metadata": {},
   "source": [
    "The simple methods '.nodes()' and '.edges()' print the key components of the network."
   ]
  },
  {
   "cell_type": "code",
   "execution_count": 2,
   "metadata": {},
   "outputs": [
    {
     "data": {
      "text/plain": [
       "NodeView((0, 1, 2, 3, 4))"
      ]
     },
     "execution_count": 2,
     "metadata": {},
     "output_type": "execute_result"
    },
    {
     "data": {
      "text/plain": [
       "EdgeView([(0, 1), (0, 2), (1, 3), (2, 3), (2, 4), (3, 4)])"
      ]
     },
     "execution_count": 2,
     "metadata": {},
     "output_type": "execute_result"
    }
   ],
   "source": [
    "HG = nx.house_graph()\n",
    "HG.nodes()\n",
    "HG.edges()"
   ]
  },
  {
   "cell_type": "markdown",
   "metadata": {},
   "source": [
    "## Drawing the network"
   ]
  },
  {
   "cell_type": "markdown",
   "metadata": {},
   "source": [
    "To draw the network, we need to give it a dictionary that maps each node to an X-Y coordinate. I give one below."
   ]
  },
  {
   "cell_type": "code",
   "execution_count": 3,
   "metadata": {},
   "outputs": [
    {
     "data": {
      "text/plain": [
       "<matplotlib.collections.PathCollection at 0x7f92a8063730>"
      ]
     },
     "execution_count": 3,
     "metadata": {},
     "output_type": "execute_result"
    },
    {
     "data": {
      "text/plain": [
       "<matplotlib.collections.PathCollection at 0x7f9318710a30>"
      ]
     },
     "execution_count": 3,
     "metadata": {},
     "output_type": "execute_result"
    },
    {
     "data": {
      "text/plain": [
       "<matplotlib.collections.LineCollection at 0x7f9318710820>"
      ]
     },
     "execution_count": 3,
     "metadata": {},
     "output_type": "execute_result"
    },
    {
     "data": {
      "text/plain": [
       "{0: Text(0, 0, '0'),\n",
       " 1: Text(1, 0, '1'),\n",
       " 2: Text(0, 1, '2'),\n",
       " 3: Text(1, 1, '3'),\n",
       " 4: Text(0.5, 2.0, '4')}"
      ]
     },
     "execution_count": 3,
     "metadata": {},
     "output_type": "execute_result"
    },
    {
     "data": {
      "text/plain": [
       "(-0.05, 1.05, -0.1, 2.1)"
      ]
     },
     "execution_count": 3,
     "metadata": {},
     "output_type": "execute_result"
    },
    {
     "data": {
      "image/png": "[encoded data removed]",
      "text/plain": [
       "<Figure size 432x288 with 1 Axes>"
      ]
     },
     "metadata": {},
     "output_type": "display_data"
    }
   ],
   "source": [
    "pos = {0: (0, 0), 1: (1, 0), 2: (0, 1), 3: (1, 1), 4: (0.5, 2.0)}\n",
    "\n",
    "nx.draw_networkx_nodes(\n",
    "    HG, pos, node_size=3000, nodelist=[0, 1, 2, 3], \n",
    "    node_color=\"tab:blue\"\n",
    ")\n",
    "\n",
    "nx.draw_networkx_nodes(HG, pos, node_size=2000, \n",
    "                       nodelist=[4], node_color=\"tab:orange\")\n",
    "\n",
    "nx.draw_networkx_edges(HG, pos, alpha=1, width=6)\n",
    "nx.draw_networkx_labels(HG, pos, font_size=20)\n",
    "plt.tight_layout()\n",
    "plt.axis(\"off\")"
   ]
  },
  {
   "cell_type": "code",
   "execution_count": 12,
   "metadata": {},
   "outputs": [
    {
     "data": {
      "text/html": [
       "<div>\n",
       "<style scoped>\n",
       "    .dataframe tbody tr th:only-of-type {\n",
       "        vertical-align: middle;\n",
       "    }\n",
       "\n",
       "    .dataframe tbody tr th {\n",
       "        vertical-align: top;\n",
       "    }\n",
       "\n",
       "    .dataframe thead th {\n",
       "        text-align: right;\n",
       "    }\n",
       "</style>\n",
       "<table border=\"1\" class=\"dataframe\">\n",
       "  <thead>\n",
       "    <tr style=\"text-align: right;\">\n",
       "      <th></th>\n",
       "      <th>0</th>\n",
       "      <th>1</th>\n",
       "      <th>2</th>\n",
       "      <th>3</th>\n",
       "      <th>4</th>\n",
       "    </tr>\n",
       "  </thead>\n",
       "  <tbody>\n",
       "    <tr>\n",
       "      <th>0</th>\n",
       "      <td>False</td>\n",
       "      <td>True</td>\n",
       "      <td>True</td>\n",
       "      <td>False</td>\n",
       "      <td>False</td>\n",
       "    </tr>\n",
       "    <tr>\n",
       "      <th>1</th>\n",
       "      <td>True</td>\n",
       "      <td>False</td>\n",
       "      <td>False</td>\n",
       "      <td>True</td>\n",
       "      <td>False</td>\n",
       "    </tr>\n",
       "    <tr>\n",
       "      <th>2</th>\n",
       "      <td>True</td>\n",
       "      <td>False</td>\n",
       "      <td>False</td>\n",
       "      <td>True</td>\n",
       "      <td>True</td>\n",
       "    </tr>\n",
       "    <tr>\n",
       "      <th>3</th>\n",
       "      <td>False</td>\n",
       "      <td>True</td>\n",
       "      <td>True</td>\n",
       "      <td>False</td>\n",
       "      <td>True</td>\n",
       "    </tr>\n",
       "    <tr>\n",
       "      <th>4</th>\n",
       "      <td>False</td>\n",
       "      <td>False</td>\n",
       "      <td>True</td>\n",
       "      <td>True</td>\n",
       "      <td>False</td>\n",
       "    </tr>\n",
       "  </tbody>\n",
       "</table>\n",
       "</div>"
      ],
      "text/plain": [
       "       0      1      2      3      4\n",
       "0  False   True   True  False  False\n",
       "1   True  False  False   True  False\n",
       "2   True  False  False   True   True\n",
       "3  False   True   True  False   True\n",
       "4  False  False   True   True  False"
      ]
     },
     "execution_count": 12,
     "metadata": {},
     "output_type": "execute_result"
    }
   ],
   "source": [
    "ADJ = nx.to_pandas_adjacency(HG)\n",
    "ADJ = ADJ.astype(bool)\n",
    "ADJ"
   ]
  },
  {
   "cell_type": "code",
   "execution_count": 5,
   "metadata": {},
   "outputs": [
    {
     "data": {
      "text/plain": [
       "2"
      ]
     },
     "execution_count": 5,
     "metadata": {},
     "output_type": "execute_result"
    }
   ],
   "source": [
    "deg_0 = nx.degree(HG, 0) \n",
    "deg_0"
   ]
  },
  {
   "cell_type": "markdown",
   "metadata": {},
   "source": [
    "# Activity\n",
    "We will learn how to process a dataframe into a useable edgelist to feed into a graph."
   ]
  },
  {
   "cell_type": "code",
   "execution_count": 6,
   "metadata": {},
   "outputs": [
    {
     "data": {
      "text/html": [
       "<div>\n",
       "<style scoped>\n",
       "    .dataframe tbody tr th:only-of-type {\n",
       "        vertical-align: middle;\n",
       "    }\n",
       "\n",
       "    .dataframe tbody tr th {\n",
       "        vertical-align: top;\n",
       "    }\n",
       "\n",
       "    .dataframe thead th {\n",
       "        text-align: right;\n",
       "    }\n",
       "</style>\n",
       "<table border=\"1\" class=\"dataframe\">\n",
       "  <thead>\n",
       "    <tr style=\"text-align: right;\">\n",
       "      <th></th>\n",
       "      <th>tweetid</th>\n",
       "      <th>userid</th>\n",
       "      <th>date</th>\n",
       "      <th>lang</th>\n",
       "      <th>text</th>\n",
       "      <th>tweet_type</th>\n",
       "      <th>friends_count</th>\n",
       "      <th>followers_count</th>\n",
       "      <th>statuses_count</th>\n",
       "      <th>mentionid</th>\n",
       "      <th>rt_userid</th>\n",
       "      <th>rt_tweetid</th>\n",
       "      <th>qtd_userid</th>\n",
       "      <th>qtd_text</th>\n",
       "      <th>qtd_tweetid</th>\n",
       "    </tr>\n",
       "  </thead>\n",
       "  <tbody>\n",
       "    <tr>\n",
       "      <th>12221</th>\n",
       "      <td>1221208309728006145</td>\n",
       "      <td>418859255</td>\n",
       "      <td>Sat Jan 25 23:08:44 +0000 2020</td>\n",
       "      <td>en</td>\n",
       "      <td>RT @DepSecHargan: Every year in the US, 34,800...</td>\n",
       "      <td>retweeted_tweet_without_comment</td>\n",
       "      <td>638</td>\n",
       "      <td>1837</td>\n",
       "      <td>17778</td>\n",
       "      <td>[920035992073064450]</td>\n",
       "      <td>9.200360e+17</td>\n",
       "      <td>1.221208e+18</td>\n",
       "      <td>NaN</td>\n",
       "      <td>NaN</td>\n",
       "      <td>NaN</td>\n",
       "    </tr>\n",
       "    <tr>\n",
       "      <th>28315</th>\n",
       "      <td>1221213073652043776</td>\n",
       "      <td>14499829</td>\n",
       "      <td>Sat Jan 25 23:27:40 +0000 2020</td>\n",
       "      <td>en</td>\n",
       "      <td>WHO’s risk assessment of the new #coronavirus ...</td>\n",
       "      <td>original</td>\n",
       "      <td>1743</td>\n",
       "      <td>5196950</td>\n",
       "      <td>46697</td>\n",
       "      <td>[]</td>\n",
       "      <td>NaN</td>\n",
       "      <td>NaN</td>\n",
       "      <td>NaN</td>\n",
       "      <td>NaN</td>\n",
       "      <td>NaN</td>\n",
       "    </tr>\n",
       "    <tr>\n",
       "      <th>6092</th>\n",
       "      <td>1222281847163576321</td>\n",
       "      <td>1135486501</td>\n",
       "      <td>Tue Jan 28 22:14:35 +0000 2020</td>\n",
       "      <td>en</td>\n",
       "      <td>#FYI: 50 million are under travel restrictions...</td>\n",
       "      <td>original</td>\n",
       "      <td>950</td>\n",
       "      <td>27025</td>\n",
       "      <td>11145</td>\n",
       "      <td>[9624742]</td>\n",
       "      <td>NaN</td>\n",
       "      <td>NaN</td>\n",
       "      <td>NaN</td>\n",
       "      <td>NaN</td>\n",
       "      <td>NaN</td>\n",
       "    </tr>\n",
       "    <tr>\n",
       "      <th>13618</th>\n",
       "      <td>1222289121118511104</td>\n",
       "      <td>117793973</td>\n",
       "      <td>Tue Jan 28 22:43:30 +0000 2020</td>\n",
       "      <td>en</td>\n",
       "      <td>What should I do if I have traveled to China a...</td>\n",
       "      <td>original</td>\n",
       "      <td>1236</td>\n",
       "      <td>5860</td>\n",
       "      <td>4578</td>\n",
       "      <td>[]</td>\n",
       "      <td>NaN</td>\n",
       "      <td>NaN</td>\n",
       "      <td>NaN</td>\n",
       "      <td>NaN</td>\n",
       "      <td>NaN</td>\n",
       "    </tr>\n",
       "    <tr>\n",
       "      <th>19205</th>\n",
       "      <td>1222285279047843843</td>\n",
       "      <td>1465196934</td>\n",
       "      <td>Tue Jan 28 22:28:14 +0000 2020</td>\n",
       "      <td>en</td>\n",
       "      <td>Disease outbreaks can result in misinformation...</td>\n",
       "      <td>original</td>\n",
       "      <td>1946</td>\n",
       "      <td>3581</td>\n",
       "      <td>4636</td>\n",
       "      <td>[]</td>\n",
       "      <td>NaN</td>\n",
       "      <td>NaN</td>\n",
       "      <td>NaN</td>\n",
       "      <td>NaN</td>\n",
       "      <td>NaN</td>\n",
       "    </tr>\n",
       "  </tbody>\n",
       "</table>\n",
       "</div>"
      ],
      "text/plain": [
       "                   tweetid      userid                            date lang  \\\n",
       "12221  1221208309728006145   418859255  Sat Jan 25 23:08:44 +0000 2020   en   \n",
       "28315  1221213073652043776    14499829  Sat Jan 25 23:27:40 +0000 2020   en   \n",
       "6092   1222281847163576321  1135486501  Tue Jan 28 22:14:35 +0000 2020   en   \n",
       "13618  1222289121118511104   117793973  Tue Jan 28 22:43:30 +0000 2020   en   \n",
       "19205  1222285279047843843  1465196934  Tue Jan 28 22:28:14 +0000 2020   en   \n",
       "\n",
       "                                                    text  \\\n",
       "12221  RT @DepSecHargan: Every year in the US, 34,800...   \n",
       "28315  WHO’s risk assessment of the new #coronavirus ...   \n",
       "6092   #FYI: 50 million are under travel restrictions...   \n",
       "13618  What should I do if I have traveled to China a...   \n",
       "19205  Disease outbreaks can result in misinformation...   \n",
       "\n",
       "                            tweet_type  friends_count  followers_count  \\\n",
       "12221  retweeted_tweet_without_comment            638             1837   \n",
       "28315                         original           1743          5196950   \n",
       "6092                          original            950            27025   \n",
       "13618                         original           1236             5860   \n",
       "19205                         original           1946             3581   \n",
       "\n",
       "       statuses_count             mentionid     rt_userid    rt_tweetid  \\\n",
       "12221           17778  [920035992073064450]  9.200360e+17  1.221208e+18   \n",
       "28315           46697                    []           NaN           NaN   \n",
       "6092            11145             [9624742]           NaN           NaN   \n",
       "13618            4578                    []           NaN           NaN   \n",
       "19205            4636                    []           NaN           NaN   \n",
       "\n",
       "       qtd_userid qtd_text  qtd_tweetid  \n",
       "12221         NaN      NaN          NaN  \n",
       "28315         NaN      NaN          NaN  \n",
       "6092          NaN      NaN          NaN  \n",
       "13618         NaN      NaN          NaN  \n",
       "19205         NaN      NaN          NaN  "
      ]
     },
     "execution_count": 6,
     "metadata": {},
     "output_type": "execute_result"
    },
    {
     "data": {
      "text/plain": [
       "(59887, 15)"
      ]
     },
     "execution_count": 6,
     "metadata": {},
     "output_type": "execute_result"
    }
   ],
   "source": [
    "df = pd.read_pickle(\"../public_data/Raw_Tweets.pkl\") # Load your tweets\n",
    "df.head()\n",
    "df.shape"
   ]
  },
  {
   "cell_type": "markdown",
   "metadata": {},
   "source": [
    "### 1.1 Subset the dataframe to network data"
   ]
  },
  {
   "cell_type": "markdown",
   "metadata": {},
   "source": [
    "- First, using .value_counts(), identify how many types of tweets there are, using the tweet_type column. \n",
    "- Then, filter out all tweets that are not \"retweeted_tweet_without_comment\" and \"quoted_tweet.\""
   ]
  },
  {
   "cell_type": "code",
   "execution_count": 76,
   "metadata": {},
   "outputs": [
    {
     "data": {
      "text/plain": [
       "tweet_type\n",
       "original                           26275\n",
       "retweeted_tweet_without_comment    19923\n",
       "reply                               7292\n",
       "quoted_tweet                        6397\n",
       "Name: count, dtype: int64"
      ]
     },
     "execution_count": 76,
     "metadata": {},
     "output_type": "execute_result"
    },
    {
     "data": {
      "text/plain": [
       "tweet_type\n",
       "retweeted_tweet_without_comment    19923\n",
       "quoted_tweet                        6397\n",
       "Name: count, dtype: int64"
      ]
     },
     "execution_count": 76,
     "metadata": {},
     "output_type": "execute_result"
    }
   ],
   "source": [
    "# your code here\n",
    "df[\"tweet_type\"].value_counts()\n",
    "types = [\"retweeted_tweet_without_comment\", \"quoted_tweet\"]\n",
    "df_subset = df[df[\"tweet_type\"].isin(types)]\n",
    "df_subset[\"tweet_type\"].value_counts()"
   ]
  },
  {
   "cell_type": "code",
   "execution_count": 77,
   "metadata": {},
   "outputs": [
    {
     "data": {
      "text/html": [
       "<div>\n",
       "<style scoped>\n",
       "    .dataframe tbody tr th:only-of-type {\n",
       "        vertical-align: middle;\n",
       "    }\n",
       "\n",
       "    .dataframe tbody tr th {\n",
       "        vertical-align: top;\n",
       "    }\n",
       "\n",
       "    .dataframe thead th {\n",
       "        text-align: right;\n",
       "    }\n",
       "</style>\n",
       "<table border=\"1\" class=\"dataframe\">\n",
       "  <thead>\n",
       "    <tr style=\"text-align: right;\">\n",
       "      <th></th>\n",
       "      <th>tweetid</th>\n",
       "      <th>userid</th>\n",
       "      <th>date</th>\n",
       "      <th>lang</th>\n",
       "      <th>text</th>\n",
       "      <th>tweet_type</th>\n",
       "      <th>friends_count</th>\n",
       "      <th>followers_count</th>\n",
       "      <th>statuses_count</th>\n",
       "      <th>mentionid</th>\n",
       "      <th>rt_userid</th>\n",
       "      <th>rt_tweetid</th>\n",
       "      <th>qtd_userid</th>\n",
       "      <th>qtd_text</th>\n",
       "      <th>qtd_tweetid</th>\n",
       "    </tr>\n",
       "  </thead>\n",
       "  <tbody>\n",
       "  </tbody>\n",
       "</table>\n",
       "</div>"
      ],
      "text/plain": [
       "Empty DataFrame\n",
       "Columns: [tweetid, userid, date, lang, text, tweet_type, friends_count, followers_count, statuses_count, mentionid, rt_userid, rt_tweetid, qtd_userid, qtd_text, qtd_tweetid]\n",
       "Index: []"
      ]
     },
     "execution_count": 77,
     "metadata": {},
     "output_type": "execute_result"
    }
   ],
   "source": [
    "## Run this. Why is it empty?\n",
    "df[(df.tweet_type == \"retweeted_tweet_without_comment\") & (df.tweet_type == \"quoted_tweet\")]"
   ]
  },
  {
   "cell_type": "markdown",
   "metadata": {},
   "source": [
    "### 1.2 Create an edgelist"
   ]
  },
  {
   "cell_type": "markdown",
   "metadata": {},
   "source": [
    "The \"userid\" column shows the person that did the retweeting. Create a new column called \"userid2\" that denotes the user retweeted. You will need to use the columns \"rt_userid\" and \"qtd_userid.\""
   ]
  },
  {
   "cell_type": "code",
   "execution_count": 101,
   "metadata": {},
   "outputs": [
    {
     "name": "stdout",
     "output_type": "stream",
     "text": [
      "CPU times: user 3 µs, sys: 4 µs, total: 7 µs\n",
      "Wall time: 8.82 µs\n"
     ]
    },
    {
     "name": "stderr",
     "output_type": "stream",
     "text": [
      "<ipython-input-101-d569b05356c4>:4: SettingWithCopyWarning: \n",
      "A value is trying to be set on a copy of a slice from a DataFrame.\n",
      "Try using .loc[row_indexer,col_indexer] = value instead\n",
      "\n",
      "See the caveats in the documentation: https://pandas.pydata.org/pandas-docs/stable/user_guide/indexing.html#returning-a-view-versus-a-copy\n",
      "  df_subset[\"userid2\"] = userids\n"
     ]
    },
    {
     "data": {
      "text/html": [
       "<div>\n",
       "<style scoped>\n",
       "    .dataframe tbody tr th:only-of-type {\n",
       "        vertical-align: middle;\n",
       "    }\n",
       "\n",
       "    .dataframe tbody tr th {\n",
       "        vertical-align: top;\n",
       "    }\n",
       "\n",
       "    .dataframe thead th {\n",
       "        text-align: right;\n",
       "    }\n",
       "</style>\n",
       "<table border=\"1\" class=\"dataframe\">\n",
       "  <thead>\n",
       "    <tr style=\"text-align: right;\">\n",
       "      <th></th>\n",
       "      <th>tweetid</th>\n",
       "      <th>userid</th>\n",
       "      <th>date</th>\n",
       "      <th>lang</th>\n",
       "      <th>text</th>\n",
       "      <th>tweet_type</th>\n",
       "      <th>friends_count</th>\n",
       "      <th>followers_count</th>\n",
       "      <th>statuses_count</th>\n",
       "      <th>mentionid</th>\n",
       "      <th>rt_userid</th>\n",
       "      <th>rt_tweetid</th>\n",
       "      <th>qtd_userid</th>\n",
       "      <th>qtd_text</th>\n",
       "      <th>qtd_tweetid</th>\n",
       "      <th>userid2</th>\n",
       "      <th>weight</th>\n",
       "    </tr>\n",
       "  </thead>\n",
       "  <tbody>\n",
       "    <tr>\n",
       "      <th>12221</th>\n",
       "      <td>1221208309728006145</td>\n",
       "      <td>418859255</td>\n",
       "      <td>Sat Jan 25 23:08:44 +0000 2020</td>\n",
       "      <td>en</td>\n",
       "      <td>RT @DepSecHargan: Every year in the US, 34,800...</td>\n",
       "      <td>retweeted_tweet_without_comment</td>\n",
       "      <td>638</td>\n",
       "      <td>1837</td>\n",
       "      <td>17778</td>\n",
       "      <td>[920035992073064450]</td>\n",
       "      <td>9.200360e+17</td>\n",
       "      <td>1.221208e+18</td>\n",
       "      <td>NaN</td>\n",
       "      <td>NaN</td>\n",
       "      <td>NaN</td>\n",
       "      <td>9.200360e+17</td>\n",
       "      <td>-0.6597</td>\n",
       "    </tr>\n",
       "    <tr>\n",
       "      <th>25575</th>\n",
       "      <td>1222280171501256706</td>\n",
       "      <td>20467163</td>\n",
       "      <td>Tue Jan 28 22:07:56 +0000 2020</td>\n",
       "      <td>en</td>\n",
       "      <td>RT @RCCallihan: The declaration of a public he...</td>\n",
       "      <td>retweeted_tweet_without_comment</td>\n",
       "      <td>10261</td>\n",
       "      <td>30106</td>\n",
       "      <td>2762</td>\n",
       "      <td>[1697808410, 146569971]</td>\n",
       "      <td>1.697808e+09</td>\n",
       "      <td>1.222247e+18</td>\n",
       "      <td>NaN</td>\n",
       "      <td>NaN</td>\n",
       "      <td>NaN</td>\n",
       "      <td>1.697808e+09</td>\n",
       "      <td>0.3182</td>\n",
       "    </tr>\n",
       "    <tr>\n",
       "      <th>28489</th>\n",
       "      <td>1222283902724820995</td>\n",
       "      <td>426033838</td>\n",
       "      <td>Tue Jan 28 22:22:46 +0000 2020</td>\n",
       "      <td>en</td>\n",
       "      <td>RT @DepSecHargan: Start the #NewYear off right...</td>\n",
       "      <td>retweeted_tweet_without_comment</td>\n",
       "      <td>625</td>\n",
       "      <td>1823</td>\n",
       "      <td>22314</td>\n",
       "      <td>[920035992073064450, 146569971]</td>\n",
       "      <td>9.200360e+17</td>\n",
       "      <td>1.222239e+18</td>\n",
       "      <td>NaN</td>\n",
       "      <td>NaN</td>\n",
       "      <td>NaN</td>\n",
       "      <td>9.200360e+17</td>\n",
       "      <td>0.0000</td>\n",
       "    </tr>\n",
       "    <tr>\n",
       "      <th>28496</th>\n",
       "      <td>1222283757119590405</td>\n",
       "      <td>426033838</td>\n",
       "      <td>Tue Jan 28 22:22:11 +0000 2020</td>\n",
       "      <td>en</td>\n",
       "      <td>RT @CDCFlu: Elevated #flu activity is expected...</td>\n",
       "      <td>retweeted_tweet_without_comment</td>\n",
       "      <td>625</td>\n",
       "      <td>1823</td>\n",
       "      <td>22314</td>\n",
       "      <td>[16616061]</td>\n",
       "      <td>1.661606e+07</td>\n",
       "      <td>1.222194e+18</td>\n",
       "      <td>NaN</td>\n",
       "      <td>NaN</td>\n",
       "      <td>NaN</td>\n",
       "      <td>1.661606e+07</td>\n",
       "      <td>0.3818</td>\n",
       "    </tr>\n",
       "    <tr>\n",
       "      <th>12992</th>\n",
       "      <td>1220696703667326976</td>\n",
       "      <td>426033838</td>\n",
       "      <td>Fri Jan 24 13:15:48 +0000 2020</td>\n",
       "      <td>en</td>\n",
       "      <td>RT @CDCemergency: Is it a cold or flu? What’s ...</td>\n",
       "      <td>retweeted_tweet_without_comment</td>\n",
       "      <td>625</td>\n",
       "      <td>1822</td>\n",
       "      <td>22325</td>\n",
       "      <td>[19658936]</td>\n",
       "      <td>1.965894e+07</td>\n",
       "      <td>1.220488e+18</td>\n",
       "      <td>NaN</td>\n",
       "      <td>NaN</td>\n",
       "      <td>NaN</td>\n",
       "      <td>1.965894e+07</td>\n",
       "      <td>-0.4515</td>\n",
       "    </tr>\n",
       "  </tbody>\n",
       "</table>\n",
       "</div>"
      ],
      "text/plain": [
       "                   tweetid     userid                            date lang  \\\n",
       "12221  1221208309728006145  418859255  Sat Jan 25 23:08:44 +0000 2020   en   \n",
       "25575  1222280171501256706   20467163  Tue Jan 28 22:07:56 +0000 2020   en   \n",
       "28489  1222283902724820995  426033838  Tue Jan 28 22:22:46 +0000 2020   en   \n",
       "28496  1222283757119590405  426033838  Tue Jan 28 22:22:11 +0000 2020   en   \n",
       "12992  1220696703667326976  426033838  Fri Jan 24 13:15:48 +0000 2020   en   \n",
       "\n",
       "                                                    text  \\\n",
       "12221  RT @DepSecHargan: Every year in the US, 34,800...   \n",
       "25575  RT @RCCallihan: The declaration of a public he...   \n",
       "28489  RT @DepSecHargan: Start the #NewYear off right...   \n",
       "28496  RT @CDCFlu: Elevated #flu activity is expected...   \n",
       "12992  RT @CDCemergency: Is it a cold or flu? What’s ...   \n",
       "\n",
       "                            tweet_type  friends_count  followers_count  \\\n",
       "12221  retweeted_tweet_without_comment            638             1837   \n",
       "25575  retweeted_tweet_without_comment          10261            30106   \n",
       "28489  retweeted_tweet_without_comment            625             1823   \n",
       "28496  retweeted_tweet_without_comment            625             1823   \n",
       "12992  retweeted_tweet_without_comment            625             1822   \n",
       "\n",
       "       statuses_count                        mentionid     rt_userid  \\\n",
       "12221           17778             [920035992073064450]  9.200360e+17   \n",
       "25575            2762          [1697808410, 146569971]  1.697808e+09   \n",
       "28489           22314  [920035992073064450, 146569971]  9.200360e+17   \n",
       "28496           22314                       [16616061]  1.661606e+07   \n",
       "12992           22325                       [19658936]  1.965894e+07   \n",
       "\n",
       "         rt_tweetid  qtd_userid qtd_text  qtd_tweetid       userid2  weight  \n",
       "12221  1.221208e+18         NaN      NaN          NaN  9.200360e+17 -0.6597  \n",
       "25575  1.222247e+18         NaN      NaN          NaN  1.697808e+09  0.3182  \n",
       "28489  1.222239e+18         NaN      NaN          NaN  9.200360e+17  0.0000  \n",
       "28496  1.222194e+18         NaN      NaN          NaN  1.661606e+07  0.3818  \n",
       "12992  1.220488e+18         NaN      NaN          NaN  1.965894e+07 -0.4515  "
      ]
     },
     "execution_count": 101,
     "metadata": {},
     "output_type": "execute_result"
    }
   ],
   "source": [
    "%time\n",
    "import numpy as np\n",
    "userids = [df_subset.iloc[i][\"rt_userid\"] if not np.isnan(df_subset.iloc[i][\"rt_userid\"]) else df_subset.iloc[i][\"qtd_userid\"] for i in range(df_subset.shape[0])]\n",
    "df_subset[\"userid2\"] = userids\n",
    "df_subset.head()\n",
    "\n",
    "# Alternative Approach\n",
    "# tweets[‘userid2’] = tweets[‘rt_userid’].where(tweets[‘rt_userid’].notna(), tweets[‘qtd_userid’])"
   ]
  },
  {
   "cell_type": "markdown",
   "metadata": {},
   "source": [
    "### 1.3 Sentiment scoring. \n",
    "- Now, use SentimentIntensityAnalyzer to label the sentiment of the text, in a new column called \"weight.\" \n",
    "- The subset the dataframe to only have \"userid\", \"user2\", and \"weight\". \n",
    "- Rename \"userid\" to \"user1\", then group by \"user1\" and \"user2\", to find the mean sentiment (mean weight).\n",
    "\n",
    "You now have your first edgelist!"
   ]
  },
  {
   "cell_type": "code",
   "execution_count": 112,
   "metadata": {},
   "outputs": [
    {
     "name": "stderr",
     "output_type": "stream",
     "text": [
      "<ipython-input-112-42dc2515a31e>:4: SettingWithCopyWarning: \n",
      "A value is trying to be set on a copy of a slice from a DataFrame.\n",
      "Try using .loc[row_indexer,col_indexer] = value instead\n",
      "\n",
      "See the caveats in the documentation: https://pandas.pydata.org/pandas-docs/stable/user_guide/indexing.html#returning-a-view-versus-a-copy\n",
      "  df_subset[\"weight\"] = df_subset.text.apply(get_sentiments)\n"
     ]
    },
    {
     "data": {
      "text/html": [
       "<div>\n",
       "<style scoped>\n",
       "    .dataframe tbody tr th:only-of-type {\n",
       "        vertical-align: middle;\n",
       "    }\n",
       "\n",
       "    .dataframe tbody tr th {\n",
       "        vertical-align: top;\n",
       "    }\n",
       "\n",
       "    .dataframe thead th {\n",
       "        text-align: right;\n",
       "    }\n",
       "</style>\n",
       "<table border=\"1\" class=\"dataframe\">\n",
       "  <thead>\n",
       "    <tr style=\"text-align: right;\">\n",
       "      <th></th>\n",
       "      <th>tweetid</th>\n",
       "      <th>userid</th>\n",
       "      <th>date</th>\n",
       "      <th>lang</th>\n",
       "      <th>text</th>\n",
       "      <th>tweet_type</th>\n",
       "      <th>friends_count</th>\n",
       "      <th>followers_count</th>\n",
       "      <th>statuses_count</th>\n",
       "      <th>mentionid</th>\n",
       "      <th>rt_userid</th>\n",
       "      <th>rt_tweetid</th>\n",
       "      <th>qtd_userid</th>\n",
       "      <th>qtd_text</th>\n",
       "      <th>qtd_tweetid</th>\n",
       "      <th>userid2</th>\n",
       "      <th>weight</th>\n",
       "    </tr>\n",
       "  </thead>\n",
       "  <tbody>\n",
       "    <tr>\n",
       "      <th>12221</th>\n",
       "      <td>1221208309728006145</td>\n",
       "      <td>418859255</td>\n",
       "      <td>Sat Jan 25 23:08:44 +0000 2020</td>\n",
       "      <td>en</td>\n",
       "      <td>RT @DepSecHargan: Every year in the US, 34,800...</td>\n",
       "      <td>retweeted_tweet_without_comment</td>\n",
       "      <td>638</td>\n",
       "      <td>1837</td>\n",
       "      <td>17778</td>\n",
       "      <td>[920035992073064450]</td>\n",
       "      <td>9.200360e+17</td>\n",
       "      <td>1.221208e+18</td>\n",
       "      <td>NaN</td>\n",
       "      <td>NaN</td>\n",
       "      <td>NaN</td>\n",
       "      <td>9.200360e+17</td>\n",
       "      <td>-0.6597</td>\n",
       "    </tr>\n",
       "    <tr>\n",
       "      <th>25575</th>\n",
       "      <td>1222280171501256706</td>\n",
       "      <td>20467163</td>\n",
       "      <td>Tue Jan 28 22:07:56 +0000 2020</td>\n",
       "      <td>en</td>\n",
       "      <td>RT @RCCallihan: The declaration of a public he...</td>\n",
       "      <td>retweeted_tweet_without_comment</td>\n",
       "      <td>10261</td>\n",
       "      <td>30106</td>\n",
       "      <td>2762</td>\n",
       "      <td>[1697808410, 146569971]</td>\n",
       "      <td>1.697808e+09</td>\n",
       "      <td>1.222247e+18</td>\n",
       "      <td>NaN</td>\n",
       "      <td>NaN</td>\n",
       "      <td>NaN</td>\n",
       "      <td>1.697808e+09</td>\n",
       "      <td>0.3182</td>\n",
       "    </tr>\n",
       "    <tr>\n",
       "      <th>28489</th>\n",
       "      <td>1222283902724820995</td>\n",
       "      <td>426033838</td>\n",
       "      <td>Tue Jan 28 22:22:46 +0000 2020</td>\n",
       "      <td>en</td>\n",
       "      <td>RT @DepSecHargan: Start the #NewYear off right...</td>\n",
       "      <td>retweeted_tweet_without_comment</td>\n",
       "      <td>625</td>\n",
       "      <td>1823</td>\n",
       "      <td>22314</td>\n",
       "      <td>[920035992073064450, 146569971]</td>\n",
       "      <td>9.200360e+17</td>\n",
       "      <td>1.222239e+18</td>\n",
       "      <td>NaN</td>\n",
       "      <td>NaN</td>\n",
       "      <td>NaN</td>\n",
       "      <td>9.200360e+17</td>\n",
       "      <td>0.0000</td>\n",
       "    </tr>\n",
       "    <tr>\n",
       "      <th>28496</th>\n",
       "      <td>1222283757119590405</td>\n",
       "      <td>426033838</td>\n",
       "      <td>Tue Jan 28 22:22:11 +0000 2020</td>\n",
       "      <td>en</td>\n",
       "      <td>RT @CDCFlu: Elevated #flu activity is expected...</td>\n",
       "      <td>retweeted_tweet_without_comment</td>\n",
       "      <td>625</td>\n",
       "      <td>1823</td>\n",
       "      <td>22314</td>\n",
       "      <td>[16616061]</td>\n",
       "      <td>1.661606e+07</td>\n",
       "      <td>1.222194e+18</td>\n",
       "      <td>NaN</td>\n",
       "      <td>NaN</td>\n",
       "      <td>NaN</td>\n",
       "      <td>1.661606e+07</td>\n",
       "      <td>0.3818</td>\n",
       "    </tr>\n",
       "    <tr>\n",
       "      <th>12992</th>\n",
       "      <td>1220696703667326976</td>\n",
       "      <td>426033838</td>\n",
       "      <td>Fri Jan 24 13:15:48 +0000 2020</td>\n",
       "      <td>en</td>\n",
       "      <td>RT @CDCemergency: Is it a cold or flu? What’s ...</td>\n",
       "      <td>retweeted_tweet_without_comment</td>\n",
       "      <td>625</td>\n",
       "      <td>1822</td>\n",
       "      <td>22325</td>\n",
       "      <td>[19658936]</td>\n",
       "      <td>1.965894e+07</td>\n",
       "      <td>1.220488e+18</td>\n",
       "      <td>NaN</td>\n",
       "      <td>NaN</td>\n",
       "      <td>NaN</td>\n",
       "      <td>1.965894e+07</td>\n",
       "      <td>-0.4515</td>\n",
       "    </tr>\n",
       "  </tbody>\n",
       "</table>\n",
       "</div>"
      ],
      "text/plain": [
       "                   tweetid     userid                            date lang  \\\n",
       "12221  1221208309728006145  418859255  Sat Jan 25 23:08:44 +0000 2020   en   \n",
       "25575  1222280171501256706   20467163  Tue Jan 28 22:07:56 +0000 2020   en   \n",
       "28489  1222283902724820995  426033838  Tue Jan 28 22:22:46 +0000 2020   en   \n",
       "28496  1222283757119590405  426033838  Tue Jan 28 22:22:11 +0000 2020   en   \n",
       "12992  1220696703667326976  426033838  Fri Jan 24 13:15:48 +0000 2020   en   \n",
       "\n",
       "                                                    text  \\\n",
       "12221  RT @DepSecHargan: Every year in the US, 34,800...   \n",
       "25575  RT @RCCallihan: The declaration of a public he...   \n",
       "28489  RT @DepSecHargan: Start the #NewYear off right...   \n",
       "28496  RT @CDCFlu: Elevated #flu activity is expected...   \n",
       "12992  RT @CDCemergency: Is it a cold or flu? What’s ...   \n",
       "\n",
       "                            tweet_type  friends_count  followers_count  \\\n",
       "12221  retweeted_tweet_without_comment            638             1837   \n",
       "25575  retweeted_tweet_without_comment          10261            30106   \n",
       "28489  retweeted_tweet_without_comment            625             1823   \n",
       "28496  retweeted_tweet_without_comment            625             1823   \n",
       "12992  retweeted_tweet_without_comment            625             1822   \n",
       "\n",
       "       statuses_count                        mentionid     rt_userid  \\\n",
       "12221           17778             [920035992073064450]  9.200360e+17   \n",
       "25575            2762          [1697808410, 146569971]  1.697808e+09   \n",
       "28489           22314  [920035992073064450, 146569971]  9.200360e+17   \n",
       "28496           22314                       [16616061]  1.661606e+07   \n",
       "12992           22325                       [19658936]  1.965894e+07   \n",
       "\n",
       "         rt_tweetid  qtd_userid qtd_text  qtd_tweetid       userid2  weight  \n",
       "12221  1.221208e+18         NaN      NaN          NaN  9.200360e+17 -0.6597  \n",
       "25575  1.222247e+18         NaN      NaN          NaN  1.697808e+09  0.3182  \n",
       "28489  1.222239e+18         NaN      NaN          NaN  9.200360e+17  0.0000  \n",
       "28496  1.222194e+18         NaN      NaN          NaN  1.661606e+07  0.3818  \n",
       "12992  1.220488e+18         NaN      NaN          NaN  1.965894e+07 -0.4515  "
      ]
     },
     "execution_count": 112,
     "metadata": {},
     "output_type": "execute_result"
    }
   ],
   "source": [
    "sentiments = SentimentIntensityAnalyzer()\n",
    "def get_sentiments(text):\n",
    "    return sentiments.polarity_scores(text)[\"compound\"]\n",
    "df_subset[\"weight\"] = df_subset.text.apply(get_sentiments)\n",
    "df_subset.head()"
   ]
  },
  {
   "cell_type": "code",
   "execution_count": 100,
   "metadata": {},
   "outputs": [
    {
     "data": {
      "text/html": [
       "<div>\n",
       "<style scoped>\n",
       "    .dataframe tbody tr th:only-of-type {\n",
       "        vertical-align: middle;\n",
       "    }\n",
       "\n",
       "    .dataframe tbody tr th {\n",
       "        vertical-align: top;\n",
       "    }\n",
       "\n",
       "    .dataframe thead th {\n",
       "        text-align: right;\n",
       "    }\n",
       "</style>\n",
       "<table border=\"1\" class=\"dataframe\">\n",
       "  <thead>\n",
       "    <tr style=\"text-align: right;\">\n",
       "      <th></th>\n",
       "      <th>user1</th>\n",
       "      <th>user2</th>\n",
       "      <th>weight</th>\n",
       "    </tr>\n",
       "  </thead>\n",
       "  <tbody>\n",
       "    <tr>\n",
       "      <th>12221</th>\n",
       "      <td>418859255</td>\n",
       "      <td>9.200360e+17</td>\n",
       "      <td>-0.6597</td>\n",
       "    </tr>\n",
       "    <tr>\n",
       "      <th>25575</th>\n",
       "      <td>20467163</td>\n",
       "      <td>1.697808e+09</td>\n",
       "      <td>0.3182</td>\n",
       "    </tr>\n",
       "    <tr>\n",
       "      <th>28489</th>\n",
       "      <td>426033838</td>\n",
       "      <td>9.200360e+17</td>\n",
       "      <td>0.0000</td>\n",
       "    </tr>\n",
       "    <tr>\n",
       "      <th>28496</th>\n",
       "      <td>426033838</td>\n",
       "      <td>1.661606e+07</td>\n",
       "      <td>0.3818</td>\n",
       "    </tr>\n",
       "    <tr>\n",
       "      <th>12992</th>\n",
       "      <td>426033838</td>\n",
       "      <td>1.965894e+07</td>\n",
       "      <td>-0.4515</td>\n",
       "    </tr>\n",
       "  </tbody>\n",
       "</table>\n",
       "</div>"
      ],
      "text/plain": [
       "           user1         user2  weight\n",
       "12221  418859255  9.200360e+17 -0.6597\n",
       "25575   20467163  1.697808e+09  0.3182\n",
       "28489  426033838  9.200360e+17  0.0000\n",
       "28496  426033838  1.661606e+07  0.3818\n",
       "12992  426033838  1.965894e+07 -0.4515"
      ]
     },
     "execution_count": 100,
     "metadata": {},
     "output_type": "execute_result"
    },
    {
     "data": {
      "text/plain": [
       "user1                user2       \n",
       "5558312              5.558312e+06    0.7263\n",
       "                     2.009386e+07    0.6705\n",
       "                     2.056292e+07    0.5106\n",
       "                     2.874303e+07    0.5106\n",
       "                     5.090780e+07    0.8831\n",
       "                                      ...  \n",
       "815952318487298048   1.008376e+18    0.4404\n",
       "                     1.080866e+18   -0.4019\n",
       "1075205691621720064  3.382592e+09    0.0000\n",
       "                     1.075206e+18    0.7717\n",
       "                     1.083126e+18    0.0000\n",
       "Name: weight, Length: 9370, dtype: float64"
      ]
     },
     "execution_count": 100,
     "metadata": {},
     "output_type": "execute_result"
    }
   ],
   "source": [
    "df_further_subset = df_subset[[\"userid\", \"userid2\", \"weight\"]]\n",
    "df_further_subset = df_further_subset.rename(columns={\"userid\": \"user1\", \"userid2\": \"user2\"})\n",
    "df_further_subset.head()\n",
    "df_further_subset.groupby([\"user1\", \"user2\"])[\"weight\"].mean()"
   ]
  },
  {
   "cell_type": "markdown",
   "metadata": {},
   "source": [
    "# Netwulf Visualization\n",
    "#### If you don't have the module, pip install netwulf\n",
    "#### https://netwulf.readthedocs.io/en/latest/about.html"
   ]
  },
  {
   "cell_type": "code",
   "execution_count": 102,
   "metadata": {},
   "outputs": [],
   "source": [
    "EL =  pd.read_pickle(\"../public_data/edge_list_final2.pkl\")"
   ]
  },
  {
   "cell_type": "code",
   "execution_count": 103,
   "metadata": {},
   "outputs": [
    {
     "data": {
      "text/plain": [
       "array([[ 426033838,  146569971],\n",
       "       [ 418859255,  146569971],\n",
       "       [ 418859255,  146569971],\n",
       "       ...,\n",
       "       [2953974395,    5558312],\n",
       "       [2953974395, 1209417007],\n",
       "       [  18023868,   23711785]])"
      ]
     },
     "execution_count": 103,
     "metadata": {},
     "output_type": "execute_result"
    }
   ],
   "source": [
    "EL[[\"user1\",\"user2\"]].values"
   ]
  },
  {
   "cell_type": "code",
   "execution_count": 104,
   "metadata": {},
   "outputs": [],
   "source": [
    "G = nx.Graph() # Creates a graph object\n",
    "G.add_edges_from( EL[[\"user1\",\"user2\"]].values ) # Adds edges (and hence nodes from the edgelist)\n",
    "\n",
    "# Creates the biggest subgraph\n",
    "CC_nodes = list( nx.connected_components(G) )[0] # Generates a list of connected components, extracts the largest\n",
    "GG = nx.subgraph(G, CC_nodes) # Creates the subgraph of the largest CC"
   ]
  },
  {
   "cell_type": "code",
   "execution_count": 107,
   "metadata": {},
   "outputs": [],
   "source": [
    "from netwulf import visualize\n",
    "import netwulf as nw"
   ]
  },
  {
   "cell_type": "code",
   "execution_count": 108,
   "metadata": {},
   "outputs": [],
   "source": [
    "stylized_network, config = visualize(GG,)"
   ]
  },
  {
   "cell_type": "code",
   "execution_count": 109,
   "metadata": {},
   "outputs": [],
   "source": [
    "U = pd.read_pickle(\"../public_data/UserInfo.pkl\")\n",
    "id2color = dict(zip(U.userid.values, U.PlotColor.values))\n",
    "for k, v in GG.nodes(data=True):\n",
    "    v[\"group\"] = id2color[k]"
   ]
  },
  {
   "cell_type": "code",
   "execution_count": 113,
   "metadata": {},
   "outputs": [],
   "source": [
    "stylized_network, config = visualize(GG,port=2000)"
   ]
  },
  {
   "cell_type": "markdown",
   "metadata": {},
   "source": [
    "### Activity Two\n",
    "- Create a new column in U called \"Degree,\" which denotes the degree of the node (userid). You will want to use G.degree()[n] where n is the userid.\n",
    "- Group by User Type. Which group was the most popular during the pandemic?"
   ]
  },
  {
   "cell_type": "code",
   "execution_count": 115,
   "metadata": {},
   "outputs": [
    {
     "data": {
      "text/html": [
       "<div>\n",
       "<style scoped>\n",
       "    .dataframe tbody tr th:only-of-type {\n",
       "        vertical-align: middle;\n",
       "    }\n",
       "\n",
       "    .dataframe tbody tr th {\n",
       "        vertical-align: top;\n",
       "    }\n",
       "\n",
       "    .dataframe thead th {\n",
       "        text-align: right;\n",
       "    }\n",
       "</style>\n",
       "<table border=\"1\" class=\"dataframe\">\n",
       "  <thead>\n",
       "    <tr style=\"text-align: right;\">\n",
       "      <th></th>\n",
       "      <th>userid</th>\n",
       "      <th>PlotColor</th>\n",
       "      <th>User_type</th>\n",
       "      <th>Degree</th>\n",
       "    </tr>\n",
       "  </thead>\n",
       "  <tbody>\n",
       "    <tr>\n",
       "      <th>0</th>\n",
       "      <td>1079770852302950016</td>\n",
       "      <td>grey</td>\n",
       "      <td>Independent</td>\n",
       "      <td>0</td>\n",
       "    </tr>\n",
       "    <tr>\n",
       "      <th>1</th>\n",
       "      <td>172858784</td>\n",
       "      <td>royalblue</td>\n",
       "      <td>Democrat</td>\n",
       "      <td>5</td>\n",
       "    </tr>\n",
       "    <tr>\n",
       "      <th>2</th>\n",
       "      <td>48117116</td>\n",
       "      <td>firebrick</td>\n",
       "      <td>Republican</td>\n",
       "      <td>1</td>\n",
       "    </tr>\n",
       "    <tr>\n",
       "      <th>3</th>\n",
       "      <td>129259273</td>\n",
       "      <td>firebrick</td>\n",
       "      <td>Republican</td>\n",
       "      <td>0</td>\n",
       "    </tr>\n",
       "    <tr>\n",
       "      <th>4</th>\n",
       "      <td>1249982359</td>\n",
       "      <td>firebrick</td>\n",
       "      <td>Republican</td>\n",
       "      <td>80</td>\n",
       "    </tr>\n",
       "  </tbody>\n",
       "</table>\n",
       "</div>"
      ],
      "text/plain": [
       "                userid  PlotColor    User_type  Degree\n",
       "0  1079770852302950016       grey  Independent       0\n",
       "1            172858784  royalblue     Democrat       5\n",
       "2             48117116  firebrick   Republican       1\n",
       "3            129259273  firebrick   Republican       0\n",
       "4           1249982359  firebrick   Republican      80"
      ]
     },
     "execution_count": 115,
     "metadata": {},
     "output_type": "execute_result"
    }
   ],
   "source": [
    "# your code here.\n",
    "# solution in slack chat \n",
    "U['Degree'] = U['userid'].apply(lambda x: G.degree(x) if x in G else 0)\n",
    "U.head()"
   ]
  },
  {
   "cell_type": "code",
   "execution_count": 119,
   "metadata": {},
   "outputs": [
    {
     "data": {
      "text/plain": [
       "User_type\n",
       "Democrat           12.286408\n",
       "Health Official    18.397590\n",
       "Independent         0.292683\n",
       "Republican          8.118483\n",
       "Name: Degree, dtype: float64"
      ]
     },
     "execution_count": 119,
     "metadata": {},
     "output_type": "execute_result"
    }
   ],
   "source": [
    "U.groupby(\"User_type\")[\"Degree\"].mean()"
   ]
  }
 ],
 "metadata": {
  "kernelspec": {
   "display_name": "Python 3",
   "language": "python",
   "name": "python3"
  },
  "language_info": {
   "codemirror_mode": {
    "name": "ipython",
    "version": 3
   },
   "file_extension": ".py",
   "mimetype": "text/x-python",
   "name": "python",
   "nbconvert_exporter": "python",
   "pygments_lexer": "ipython3",
   "version": "3.8.5"
  }
 },
 "nbformat": 4,
 "nbformat_minor": 5
}
